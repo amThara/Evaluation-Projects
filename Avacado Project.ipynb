{
 "cells": [
  {
   "cell_type": "code",
   "execution_count": 1,
   "id": "7cf1d1f3",
   "metadata": {},
   "outputs": [],
   "source": [
    "import numpy as np\n",
    "import pandas as pd\n",
    "import matplotlib.pyplot as plt\n",
    "import seaborn as sns\n",
    "\n",
    "import warnings\n",
    "warnings.filterwarnings('ignore')"
   ]
  },
  {
   "cell_type": "markdown",
   "id": "129f4f34",
   "metadata": {},
   "source": [
    "Importing libraries needed"
   ]
  },
  {
   "cell_type": "code",
   "execution_count": 2,
   "id": "513d7bcb",
   "metadata": {},
   "outputs": [
    {
     "data": {
      "text/html": [
       "<div>\n",
       "<style scoped>\n",
       "    .dataframe tbody tr th:only-of-type {\n",
       "        vertical-align: middle;\n",
       "    }\n",
       "\n",
       "    .dataframe tbody tr th {\n",
       "        vertical-align: top;\n",
       "    }\n",
       "\n",
       "    .dataframe thead th {\n",
       "        text-align: right;\n",
       "    }\n",
       "</style>\n",
       "<table border=\"1\" class=\"dataframe\">\n",
       "  <thead>\n",
       "    <tr style=\"text-align: right;\">\n",
       "      <th></th>\n",
       "      <th>Unnamed: 0</th>\n",
       "      <th>Date</th>\n",
       "      <th>AveragePrice</th>\n",
       "      <th>Total Volume</th>\n",
       "      <th>4046</th>\n",
       "      <th>4225</th>\n",
       "      <th>4770</th>\n",
       "      <th>Total Bags</th>\n",
       "      <th>Small Bags</th>\n",
       "      <th>Large Bags</th>\n",
       "      <th>XLarge Bags</th>\n",
       "      <th>type</th>\n",
       "      <th>year</th>\n",
       "      <th>region</th>\n",
       "    </tr>\n",
       "  </thead>\n",
       "  <tbody>\n",
       "    <tr>\n",
       "      <th>0</th>\n",
       "      <td>0</td>\n",
       "      <td>2015-12-27</td>\n",
       "      <td>1.33</td>\n",
       "      <td>64236.62</td>\n",
       "      <td>1036.74</td>\n",
       "      <td>54454.85</td>\n",
       "      <td>48.16</td>\n",
       "      <td>8696.87</td>\n",
       "      <td>8603.62</td>\n",
       "      <td>93.25</td>\n",
       "      <td>0.0</td>\n",
       "      <td>conventional</td>\n",
       "      <td>2015</td>\n",
       "      <td>Albany</td>\n",
       "    </tr>\n",
       "    <tr>\n",
       "      <th>1</th>\n",
       "      <td>1</td>\n",
       "      <td>2015-12-20</td>\n",
       "      <td>1.35</td>\n",
       "      <td>54876.98</td>\n",
       "      <td>674.28</td>\n",
       "      <td>44638.81</td>\n",
       "      <td>58.33</td>\n",
       "      <td>9505.56</td>\n",
       "      <td>9408.07</td>\n",
       "      <td>97.49</td>\n",
       "      <td>0.0</td>\n",
       "      <td>conventional</td>\n",
       "      <td>2015</td>\n",
       "      <td>Albany</td>\n",
       "    </tr>\n",
       "    <tr>\n",
       "      <th>2</th>\n",
       "      <td>2</td>\n",
       "      <td>2015-12-13</td>\n",
       "      <td>0.93</td>\n",
       "      <td>118220.22</td>\n",
       "      <td>794.70</td>\n",
       "      <td>109149.67</td>\n",
       "      <td>130.50</td>\n",
       "      <td>8145.35</td>\n",
       "      <td>8042.21</td>\n",
       "      <td>103.14</td>\n",
       "      <td>0.0</td>\n",
       "      <td>conventional</td>\n",
       "      <td>2015</td>\n",
       "      <td>Albany</td>\n",
       "    </tr>\n",
       "    <tr>\n",
       "      <th>3</th>\n",
       "      <td>3</td>\n",
       "      <td>2015-12-06</td>\n",
       "      <td>1.08</td>\n",
       "      <td>78992.15</td>\n",
       "      <td>1132.00</td>\n",
       "      <td>71976.41</td>\n",
       "      <td>72.58</td>\n",
       "      <td>5811.16</td>\n",
       "      <td>5677.40</td>\n",
       "      <td>133.76</td>\n",
       "      <td>0.0</td>\n",
       "      <td>conventional</td>\n",
       "      <td>2015</td>\n",
       "      <td>Albany</td>\n",
       "    </tr>\n",
       "    <tr>\n",
       "      <th>4</th>\n",
       "      <td>4</td>\n",
       "      <td>2015-11-29</td>\n",
       "      <td>1.28</td>\n",
       "      <td>51039.60</td>\n",
       "      <td>941.48</td>\n",
       "      <td>43838.39</td>\n",
       "      <td>75.78</td>\n",
       "      <td>6183.95</td>\n",
       "      <td>5986.26</td>\n",
       "      <td>197.69</td>\n",
       "      <td>0.0</td>\n",
       "      <td>conventional</td>\n",
       "      <td>2015</td>\n",
       "      <td>Albany</td>\n",
       "    </tr>\n",
       "    <tr>\n",
       "      <th>...</th>\n",
       "      <td>...</td>\n",
       "      <td>...</td>\n",
       "      <td>...</td>\n",
       "      <td>...</td>\n",
       "      <td>...</td>\n",
       "      <td>...</td>\n",
       "      <td>...</td>\n",
       "      <td>...</td>\n",
       "      <td>...</td>\n",
       "      <td>...</td>\n",
       "      <td>...</td>\n",
       "      <td>...</td>\n",
       "      <td>...</td>\n",
       "      <td>...</td>\n",
       "    </tr>\n",
       "    <tr>\n",
       "      <th>18244</th>\n",
       "      <td>7</td>\n",
       "      <td>2018-02-04</td>\n",
       "      <td>1.63</td>\n",
       "      <td>17074.83</td>\n",
       "      <td>2046.96</td>\n",
       "      <td>1529.20</td>\n",
       "      <td>0.00</td>\n",
       "      <td>13498.67</td>\n",
       "      <td>13066.82</td>\n",
       "      <td>431.85</td>\n",
       "      <td>0.0</td>\n",
       "      <td>organic</td>\n",
       "      <td>2018</td>\n",
       "      <td>WestTexNewMexico</td>\n",
       "    </tr>\n",
       "    <tr>\n",
       "      <th>18245</th>\n",
       "      <td>8</td>\n",
       "      <td>2018-01-28</td>\n",
       "      <td>1.71</td>\n",
       "      <td>13888.04</td>\n",
       "      <td>1191.70</td>\n",
       "      <td>3431.50</td>\n",
       "      <td>0.00</td>\n",
       "      <td>9264.84</td>\n",
       "      <td>8940.04</td>\n",
       "      <td>324.80</td>\n",
       "      <td>0.0</td>\n",
       "      <td>organic</td>\n",
       "      <td>2018</td>\n",
       "      <td>WestTexNewMexico</td>\n",
       "    </tr>\n",
       "    <tr>\n",
       "      <th>18246</th>\n",
       "      <td>9</td>\n",
       "      <td>2018-01-21</td>\n",
       "      <td>1.87</td>\n",
       "      <td>13766.76</td>\n",
       "      <td>1191.92</td>\n",
       "      <td>2452.79</td>\n",
       "      <td>727.94</td>\n",
       "      <td>9394.11</td>\n",
       "      <td>9351.80</td>\n",
       "      <td>42.31</td>\n",
       "      <td>0.0</td>\n",
       "      <td>organic</td>\n",
       "      <td>2018</td>\n",
       "      <td>WestTexNewMexico</td>\n",
       "    </tr>\n",
       "    <tr>\n",
       "      <th>18247</th>\n",
       "      <td>10</td>\n",
       "      <td>2018-01-14</td>\n",
       "      <td>1.93</td>\n",
       "      <td>16205.22</td>\n",
       "      <td>1527.63</td>\n",
       "      <td>2981.04</td>\n",
       "      <td>727.01</td>\n",
       "      <td>10969.54</td>\n",
       "      <td>10919.54</td>\n",
       "      <td>50.00</td>\n",
       "      <td>0.0</td>\n",
       "      <td>organic</td>\n",
       "      <td>2018</td>\n",
       "      <td>WestTexNewMexico</td>\n",
       "    </tr>\n",
       "    <tr>\n",
       "      <th>18248</th>\n",
       "      <td>11</td>\n",
       "      <td>2018-01-07</td>\n",
       "      <td>1.62</td>\n",
       "      <td>17489.58</td>\n",
       "      <td>2894.77</td>\n",
       "      <td>2356.13</td>\n",
       "      <td>224.53</td>\n",
       "      <td>12014.15</td>\n",
       "      <td>11988.14</td>\n",
       "      <td>26.01</td>\n",
       "      <td>0.0</td>\n",
       "      <td>organic</td>\n",
       "      <td>2018</td>\n",
       "      <td>WestTexNewMexico</td>\n",
       "    </tr>\n",
       "  </tbody>\n",
       "</table>\n",
       "<p>18249 rows × 14 columns</p>\n",
       "</div>"
      ],
      "text/plain": [
       "       Unnamed: 0        Date  AveragePrice  Total Volume     4046       4225  \\\n",
       "0               0  2015-12-27          1.33      64236.62  1036.74   54454.85   \n",
       "1               1  2015-12-20          1.35      54876.98   674.28   44638.81   \n",
       "2               2  2015-12-13          0.93     118220.22   794.70  109149.67   \n",
       "3               3  2015-12-06          1.08      78992.15  1132.00   71976.41   \n",
       "4               4  2015-11-29          1.28      51039.60   941.48   43838.39   \n",
       "...           ...         ...           ...           ...      ...        ...   \n",
       "18244           7  2018-02-04          1.63      17074.83  2046.96    1529.20   \n",
       "18245           8  2018-01-28          1.71      13888.04  1191.70    3431.50   \n",
       "18246           9  2018-01-21          1.87      13766.76  1191.92    2452.79   \n",
       "18247          10  2018-01-14          1.93      16205.22  1527.63    2981.04   \n",
       "18248          11  2018-01-07          1.62      17489.58  2894.77    2356.13   \n",
       "\n",
       "         4770  Total Bags  Small Bags  Large Bags  XLarge Bags          type  \\\n",
       "0       48.16     8696.87     8603.62       93.25          0.0  conventional   \n",
       "1       58.33     9505.56     9408.07       97.49          0.0  conventional   \n",
       "2      130.50     8145.35     8042.21      103.14          0.0  conventional   \n",
       "3       72.58     5811.16     5677.40      133.76          0.0  conventional   \n",
       "4       75.78     6183.95     5986.26      197.69          0.0  conventional   \n",
       "...       ...         ...         ...         ...          ...           ...   \n",
       "18244    0.00    13498.67    13066.82      431.85          0.0       organic   \n",
       "18245    0.00     9264.84     8940.04      324.80          0.0       organic   \n",
       "18246  727.94     9394.11     9351.80       42.31          0.0       organic   \n",
       "18247  727.01    10969.54    10919.54       50.00          0.0       organic   \n",
       "18248  224.53    12014.15    11988.14       26.01          0.0       organic   \n",
       "\n",
       "       year            region  \n",
       "0      2015            Albany  \n",
       "1      2015            Albany  \n",
       "2      2015            Albany  \n",
       "3      2015            Albany  \n",
       "4      2015            Albany  \n",
       "...     ...               ...  \n",
       "18244  2018  WestTexNewMexico  \n",
       "18245  2018  WestTexNewMexico  \n",
       "18246  2018  WestTexNewMexico  \n",
       "18247  2018  WestTexNewMexico  \n",
       "18248  2018  WestTexNewMexico  \n",
       "\n",
       "[18249 rows x 14 columns]"
      ]
     },
     "execution_count": 2,
     "metadata": {},
     "output_type": "execute_result"
    }
   ],
   "source": [
    "data = pd.read_csv(r\"C:\\Users\\Lenovo\\Desktop\\DS\\Project\\avocado.csv.csv\")\n",
    "data"
   ]
  },
  {
   "cell_type": "code",
   "execution_count": 3,
   "id": "91102c99",
   "metadata": {},
   "outputs": [],
   "source": [
    "data = data.drop(['Unnamed: 0','Date'],axis=1)"
   ]
  },
  {
   "cell_type": "markdown",
   "id": "641fe32d",
   "metadata": {},
   "source": [
    "Dropping these three columns which is not going to help us find the solution "
   ]
  },
  {
   "cell_type": "markdown",
   "id": "bca8fefe",
   "metadata": {},
   "source": [
    "## Data Explanation"
   ]
  },
  {
   "cell_type": "markdown",
   "id": "08dac55b",
   "metadata": {},
   "source": [
    "The dataset represents weekly 2018 retail scan data for National retail volume (units) and price.\n",
    "It contains variables like\n",
    "- Date - The date of the observation\n",
    "- AveragePrice - the average price of a single avocado\n",
    "- type - conventional or organic\n",
    "- year - the year\n",
    "- Region - the city or region of the observation\n",
    "- Total Volume - Total number of avocados sold\n",
    "- 4046 - Total number of avocados with PLU 4046 sold\n",
    "- 4225 - Total number of avocados with PLU 4225 sold\n",
    "- 4770 - Total number of avocados with PLU 4770 sold\n",
    "- Total bags\n",
    "- Large bags\n",
    "- Small bags\n",
    "- Xlarge bags\n",
    "\n",
    "The dataset has to be seen in two angles to find the region and find the average price .\n",
    "\n",
    "One of Classification to find the region and other of Regression to find the average price."
   ]
  },
  {
   "cell_type": "markdown",
   "id": "a33611cd",
   "metadata": {},
   "source": [
    "# Exploratory Data Analysis"
   ]
  },
  {
   "cell_type": "code",
   "execution_count": 4,
   "id": "96809889",
   "metadata": {},
   "outputs": [
    {
     "data": {
      "text/plain": [
       "(18249, 12)"
      ]
     },
     "execution_count": 4,
     "metadata": {},
     "output_type": "execute_result"
    }
   ],
   "source": [
    "data.shape"
   ]
  },
  {
   "cell_type": "markdown",
   "id": "a4eafb7f",
   "metadata": {},
   "source": [
    "There is a large no. of data to analyse"
   ]
  },
  {
   "cell_type": "code",
   "execution_count": 5,
   "id": "f80208d3",
   "metadata": {},
   "outputs": [],
   "source": [
    "data.columns = ['AveragePrice', 'TotalVolume', 'PLU4046', 'PLU4225', 'PLU4770', 'TotalBags',\n",
    "       'SmallBags', 'LargeBags', 'XLargeBags', 'type', 'year', 'region']"
   ]
  },
  {
   "cell_type": "markdown",
   "id": "af2b6f30",
   "metadata": {},
   "source": [
    "Re-name the columns without spaces for easy use"
   ]
  },
  {
   "cell_type": "code",
   "execution_count": 6,
   "id": "0dc17d4a",
   "metadata": {},
   "outputs": [
    {
     "data": {
      "text/plain": [
       "Index(['AveragePrice', 'TotalVolume', 'PLU4046', 'PLU4225', 'PLU4770',\n",
       "       'TotalBags', 'SmallBags', 'LargeBags', 'XLargeBags', 'type', 'year',\n",
       "       'region'],\n",
       "      dtype='object')"
      ]
     },
     "execution_count": 6,
     "metadata": {},
     "output_type": "execute_result"
    }
   ],
   "source": [
    "data.columns"
   ]
  },
  {
   "cell_type": "markdown",
   "id": "f61de0d7",
   "metadata": {},
   "source": [
    "This helps in classification model. Since the skewed data cannot be used in classification model"
   ]
  },
  {
   "cell_type": "markdown",
   "id": "709ec79d",
   "metadata": {},
   "source": [
    "## Identifying variables and data types"
   ]
  },
  {
   "cell_type": "code",
   "execution_count": 7,
   "id": "96b0ba27",
   "metadata": {},
   "outputs": [
    {
     "name": "stdout",
     "output_type": "stream",
     "text": [
      "<class 'pandas.core.frame.DataFrame'>\n",
      "RangeIndex: 18249 entries, 0 to 18248\n",
      "Data columns (total 12 columns):\n",
      " #   Column        Non-Null Count  Dtype  \n",
      "---  ------        --------------  -----  \n",
      " 0   AveragePrice  18249 non-null  float64\n",
      " 1   TotalVolume   18249 non-null  float64\n",
      " 2   PLU4046       18249 non-null  float64\n",
      " 3   PLU4225       18249 non-null  float64\n",
      " 4   PLU4770       18249 non-null  float64\n",
      " 5   TotalBags     18249 non-null  float64\n",
      " 6   SmallBags     18249 non-null  float64\n",
      " 7   LargeBags     18249 non-null  float64\n",
      " 8   XLargeBags    18249 non-null  float64\n",
      " 9   type          18249 non-null  object \n",
      " 10  year          18249 non-null  int64  \n",
      " 11  region        18249 non-null  object \n",
      "dtypes: float64(9), int64(1), object(2)\n",
      "memory usage: 1.7+ MB\n"
     ]
    }
   ],
   "source": [
    "data.info()"
   ]
  },
  {
   "cell_type": "markdown",
   "id": "6adc0775",
   "metadata": {},
   "source": [
    "Region is of object type which has to be encoded"
   ]
  },
  {
   "cell_type": "markdown",
   "id": "b81d0934",
   "metadata": {},
   "source": [
    "## Treating NaN values"
   ]
  },
  {
   "cell_type": "code",
   "execution_count": 8,
   "id": "4630a322",
   "metadata": {},
   "outputs": [
    {
     "data": {
      "text/plain": [
       "AveragePrice    0\n",
       "TotalVolume     0\n",
       "PLU4046         0\n",
       "PLU4225         0\n",
       "PLU4770         0\n",
       "TotalBags       0\n",
       "SmallBags       0\n",
       "LargeBags       0\n",
       "XLargeBags      0\n",
       "type            0\n",
       "year            0\n",
       "region          0\n",
       "dtype: int64"
      ]
     },
     "execution_count": 8,
     "metadata": {},
     "output_type": "execute_result"
    }
   ],
   "source": [
    "data.isnull().sum()"
   ]
  },
  {
   "cell_type": "markdown",
   "id": "f8b13dfb",
   "metadata": {},
   "source": [
    "There is no NaN values present in the dataset"
   ]
  },
  {
   "cell_type": "markdown",
   "id": "1caf81a5",
   "metadata": {},
   "source": [
    "## Visualisation of Categorical Variable"
   ]
  },
  {
   "cell_type": "code",
   "execution_count": 9,
   "id": "883a8c44",
   "metadata": {},
   "outputs": [],
   "source": [
    "categorical_data = data[['type','region','year']]"
   ]
  },
  {
   "cell_type": "code",
   "execution_count": 10,
   "id": "a20f6614",
   "metadata": {},
   "outputs": [
    {
     "name": "stdout",
     "output_type": "stream",
     "text": [
      "conventional    9126\n",
      "organic         9123\n",
      "Name: type, dtype: int64\n"
     ]
    },
    {
     "data": {
      "image/png": "[encoded data removed]",
      "text/plain": [
       "<Figure size 432x288 with 1 Axes>"
      ]
     },
     "metadata": {
      "needs_background": "light"
     },
     "output_type": "display_data"
    }
   ],
   "source": [
    "ax = sns.countplot(x = 'type', data = categorical_data)\n",
    "print(categorical_data['type'].value_counts())"
   ]
  },
  {
   "cell_type": "markdown",
   "id": "ca69c00d",
   "metadata": {},
   "source": [
    "There are two types of avacados which are more or less equal"
   ]
  },
  {
   "cell_type": "code",
   "execution_count": 11,
   "id": "9e954b9b",
   "metadata": {
    "scrolled": true
   },
   "outputs": [
    {
     "name": "stdout",
     "output_type": "stream",
     "text": [
      "Tampa                  338\n",
      "Jacksonville           338\n",
      "NorthernNewEngland     338\n",
      "Albany                 338\n",
      "West                   338\n",
      "SanFrancisco           338\n",
      "Charlotte              338\n",
      "SouthCentral           338\n",
      "Chicago                338\n",
      "Midsouth               338\n",
      "RaleighGreensboro      338\n",
      "StLouis                338\n",
      "Detroit                338\n",
      "Southeast              338\n",
      "HarrisburgScranton     338\n",
      "Syracuse               338\n",
      "Boston                 338\n",
      "DallasFtWorth          338\n",
      "Columbus               338\n",
      "Atlanta                338\n",
      "Northeast              338\n",
      "Roanoke                338\n",
      "Spokane                338\n",
      "Seattle                338\n",
      "HartfordSpringfield    338\n",
      "SouthCarolina          338\n",
      "BuffaloRochester       338\n",
      "NewYork                338\n",
      "Louisville             338\n",
      "Sacramento             338\n",
      "LasVegas               338\n",
      "MiamiFtLauderdale      338\n",
      "California             338\n",
      "BaltimoreWashington    338\n",
      "Portland               338\n",
      "Nashville              338\n",
      "Indianapolis           338\n",
      "Denver                 338\n",
      "CincinnatiDayton       338\n",
      "TotalUS                338\n",
      "Boise                  338\n",
      "Pittsburgh             338\n",
      "LosAngeles             338\n",
      "Houston                338\n",
      "GrandRapids            338\n",
      "NewOrleansMobile       338\n",
      "RichmondNorfolk        338\n",
      "Plains                 338\n",
      "GreatLakes             338\n",
      "Philadelphia           338\n",
      "PhoenixTucson          338\n",
      "Orlando                338\n",
      "SanDiego               338\n",
      "WestTexNewMexico       335\n",
      "Name: region, dtype: int64\n"
     ]
    },
    {
     "data": {
      "image/png": "[encoded data removed]",
      "text/plain": [
       "<Figure size 432x288 with 1 Axes>"
      ]
     },
     "metadata": {
      "needs_background": "light"
     },
     "output_type": "display_data"
    }
   ],
   "source": [
    "ax = sns.countplot(x = 'region', data = categorical_data)\n",
    "print(categorical_data['region'].value_counts())"
   ]
  },
  {
   "cell_type": "markdown",
   "id": "f1f633b0",
   "metadata": {},
   "source": [
    "All regions have same amount of data (338) except WestTexNewMexico (335)"
   ]
  },
  {
   "cell_type": "code",
   "execution_count": 12,
   "id": "2d51ac04",
   "metadata": {},
   "outputs": [
    {
     "name": "stdout",
     "output_type": "stream",
     "text": [
      "2017    5722\n",
      "2016    5616\n",
      "2015    5615\n",
      "2018    1296\n",
      "Name: year, dtype: int64\n"
     ]
    },
    {
     "data": {
      "image/png": "[encoded data removed]",
      "text/plain": [
       "<Figure size 432x288 with 1 Axes>"
      ]
     },
     "metadata": {
      "needs_background": "light"
     },
     "output_type": "display_data"
    }
   ],
   "source": [
    "ax = sns.countplot(x = 'year', data = categorical_data)\n",
    "print(categorical_data['year'].value_counts())"
   ]
  },
  {
   "cell_type": "markdown",
   "id": "785cc5d9",
   "metadata": {},
   "source": [
    "Only in 2018, there is very less data. Other years there is more or less equal amount of sales"
   ]
  },
  {
   "cell_type": "markdown",
   "id": "a14c075e",
   "metadata": {},
   "source": [
    "## Visualisation of Continuous Variable"
   ]
  },
  {
   "cell_type": "code",
   "execution_count": 13,
   "id": "caba4b16",
   "metadata": {},
   "outputs": [],
   "source": [
    "continuous_data = data.drop(['type','region','year'],axis=1)"
   ]
  },
  {
   "cell_type": "code",
   "execution_count": 14,
   "id": "2f4dfb87",
   "metadata": {
    "scrolled": true
   },
   "outputs": [
    {
     "data": {
      "text/plain": [
       "<function matplotlib.pyplot.show(close=None, block=None)>"
      ]
     },
     "execution_count": 14,
     "metadata": {},
     "output_type": "execute_result"
    },
    {
     "data": {
      "image/png": "[encoded data removed]",
      "text/plain": [
       "<Figure size 1440x3600 with 9 Axes>"
      ]
     },
     "metadata": {},
     "output_type": "display_data"
    }
   ],
   "source": [
    "plt.figure(figsize = (20,50), facecolor = 'white')\n",
    "plotnumber = 1\n",
    "\n",
    "for column in continuous_data:\n",
    "    if plotnumber <=15:\n",
    "        ax =  plt.subplot(5,3,plotnumber)\n",
    "        sns.distplot(continuous_data[column])\n",
    "        plt.xlabel(column, fontsize = 20)\n",
    "    plotnumber+=1\n",
    "plt.show"
   ]
  },
  {
   "cell_type": "markdown",
   "id": "d3fed762",
   "metadata": {},
   "source": [
    "- AveragePrice - This is normally distributed\n",
    "- TotalVolume - looks little skewed\n",
    "- PLU4046 - looks little skewed\n",
    "- PLU4225 - looks little skewed\n",
    "- PLU4770 - looks little skewed\n",
    "- TotalBags - looks little skewed\n",
    "- SmallBags - looks little skewed\n",
    "- LargeBags - looks little skewed\n",
    "- XLargeBags - looks little skewed"
   ]
  },
  {
   "cell_type": "markdown",
   "id": "1c77f1a0",
   "metadata": {},
   "source": [
    "## Encoding"
   ]
  },
  {
   "cell_type": "code",
   "execution_count": 15,
   "id": "c36c81e1",
   "metadata": {},
   "outputs": [
    {
     "name": "stdout",
     "output_type": "stream",
     "text": [
      "2\n",
      "54\n"
     ]
    }
   ],
   "source": [
    "print(data['type'].nunique())\n",
    "print(data['region'].nunique())"
   ]
  },
  {
   "cell_type": "code",
   "execution_count": 16,
   "id": "86b42c91",
   "metadata": {},
   "outputs": [
    {
     "data": {
      "text/plain": [
       "array(['Albany', 'Atlanta', 'BaltimoreWashington', 'Boise', 'Boston',\n",
       "       'BuffaloRochester', 'California', 'Charlotte', 'Chicago',\n",
       "       'CincinnatiDayton', 'Columbus', 'DallasFtWorth', 'Denver',\n",
       "       'Detroit', 'GrandRapids', 'GreatLakes', 'HarrisburgScranton',\n",
       "       'HartfordSpringfield', 'Houston', 'Indianapolis', 'Jacksonville',\n",
       "       'LasVegas', 'LosAngeles', 'Louisville', 'MiamiFtLauderdale',\n",
       "       'Midsouth', 'Nashville', 'NewOrleansMobile', 'NewYork',\n",
       "       'Northeast', 'NorthernNewEngland', 'Orlando', 'Philadelphia',\n",
       "       'PhoenixTucson', 'Pittsburgh', 'Plains', 'Portland',\n",
       "       'RaleighGreensboro', 'RichmondNorfolk', 'Roanoke', 'Sacramento',\n",
       "       'SanDiego', 'SanFrancisco', 'Seattle', 'SouthCarolina',\n",
       "       'SouthCentral', 'Southeast', 'Spokane', 'StLouis', 'Syracuse',\n",
       "       'Tampa', 'TotalUS', 'West', 'WestTexNewMexico'], dtype=object)"
      ]
     },
     "execution_count": 16,
     "metadata": {},
     "output_type": "execute_result"
    }
   ],
   "source": [
    "data['region'].unique()"
   ]
  },
  {
   "cell_type": "code",
   "execution_count": 17,
   "id": "7eb31ba7",
   "metadata": {},
   "outputs": [
    {
     "data": {
      "text/plain": [
       "0    9126\n",
       "1    9123\n",
       "Name: type, dtype: int64"
      ]
     },
     "execution_count": 17,
     "metadata": {},
     "output_type": "execute_result"
    }
   ],
   "source": [
    "from sklearn.preprocessing import LabelEncoder\n",
    "le = LabelEncoder()\n",
    "data['type'] = le.fit_transform(data['type'])\n",
    "data['type'].value_counts()"
   ]
  },
  {
   "cell_type": "markdown",
   "id": "c3d7d85c",
   "metadata": {},
   "source": [
    "The values are more or less equal for conventional (0) and organic (1)"
   ]
  },
  {
   "cell_type": "code",
   "execution_count": 18,
   "id": "7ef4cccb",
   "metadata": {
    "scrolled": true
   },
   "outputs": [
    {
     "data": {
      "text/plain": [
       "0     338\n",
       "27    338\n",
       "39    338\n",
       "8     338\n",
       "24    338\n",
       "40    338\n",
       "9     338\n",
       "25    338\n",
       "41    338\n",
       "10    338\n",
       "26    338\n",
       "42    338\n",
       "11    338\n",
       "43    338\n",
       "16    338\n",
       "12    338\n",
       "28    338\n",
       "44    338\n",
       "13    338\n",
       "29    338\n",
       "45    338\n",
       "14    338\n",
       "30    338\n",
       "46    338\n",
       "15    338\n",
       "31    338\n",
       "23    338\n",
       "7     338\n",
       "38    338\n",
       "22    338\n",
       "32    338\n",
       "48    338\n",
       "1     338\n",
       "17    338\n",
       "33    338\n",
       "49    338\n",
       "2     338\n",
       "18    338\n",
       "34    338\n",
       "50    338\n",
       "3     338\n",
       "19    338\n",
       "35    338\n",
       "51    338\n",
       "4     338\n",
       "20    338\n",
       "36    338\n",
       "52    338\n",
       "5     338\n",
       "21    338\n",
       "37    338\n",
       "6     338\n",
       "47    338\n",
       "53    335\n",
       "Name: region, dtype: int64"
      ]
     },
     "execution_count": 18,
     "metadata": {},
     "output_type": "execute_result"
    }
   ],
   "source": [
    "data['region'] = le.fit_transform(data['region'])\n",
    "data['region'].value_counts()"
   ]
  },
  {
   "cell_type": "code",
   "execution_count": 19,
   "id": "05826480",
   "metadata": {},
   "outputs": [],
   "source": [
    "df_y = data['region'].copy()"
   ]
  },
  {
   "cell_type": "code",
   "execution_count": 20,
   "id": "55b6b420",
   "metadata": {},
   "outputs": [
    {
     "data": {
      "text/plain": [
       "0         0\n",
       "1         0\n",
       "2         0\n",
       "3         0\n",
       "4         0\n",
       "         ..\n",
       "18244    53\n",
       "18245    53\n",
       "18246    53\n",
       "18247    53\n",
       "18248    53\n",
       "Name: region, Length: 18249, dtype: int32"
      ]
     },
     "execution_count": 20,
     "metadata": {},
     "output_type": "execute_result"
    }
   ],
   "source": [
    "df_y"
   ]
  },
  {
   "cell_type": "markdown",
   "id": "eb10bd65",
   "metadata": {},
   "source": [
    "All 54 regions are assigned for integers"
   ]
  },
  {
   "cell_type": "markdown",
   "id": "f89d852e",
   "metadata": {},
   "source": [
    "## Describing the data after encoding"
   ]
  },
  {
   "cell_type": "code",
   "execution_count": 21,
   "id": "c45d5885",
   "metadata": {},
   "outputs": [
    {
     "data": {
      "text/html": [
       "<div>\n",
       "<style scoped>\n",
       "    .dataframe tbody tr th:only-of-type {\n",
       "        vertical-align: middle;\n",
       "    }\n",
       "\n",
       "    .dataframe tbody tr th {\n",
       "        vertical-align: top;\n",
       "    }\n",
       "\n",
       "    .dataframe thead th {\n",
       "        text-align: right;\n",
       "    }\n",
       "</style>\n",
       "<table border=\"1\" class=\"dataframe\">\n",
       "  <thead>\n",
       "    <tr style=\"text-align: right;\">\n",
       "      <th></th>\n",
       "      <th>AveragePrice</th>\n",
       "      <th>TotalVolume</th>\n",
       "      <th>PLU4046</th>\n",
       "      <th>PLU4225</th>\n",
       "      <th>PLU4770</th>\n",
       "      <th>TotalBags</th>\n",
       "      <th>SmallBags</th>\n",
       "      <th>LargeBags</th>\n",
       "      <th>XLargeBags</th>\n",
       "      <th>type</th>\n",
       "      <th>year</th>\n",
       "      <th>region</th>\n",
       "    </tr>\n",
       "  </thead>\n",
       "  <tbody>\n",
       "    <tr>\n",
       "      <th>count</th>\n",
       "      <td>18249.000000</td>\n",
       "      <td>1.824900e+04</td>\n",
       "      <td>1.824900e+04</td>\n",
       "      <td>1.824900e+04</td>\n",
       "      <td>1.824900e+04</td>\n",
       "      <td>1.824900e+04</td>\n",
       "      <td>1.824900e+04</td>\n",
       "      <td>1.824900e+04</td>\n",
       "      <td>18249.000000</td>\n",
       "      <td>18249.000000</td>\n",
       "      <td>18249.000000</td>\n",
       "      <td>18249.000000</td>\n",
       "    </tr>\n",
       "    <tr>\n",
       "      <th>mean</th>\n",
       "      <td>1.405978</td>\n",
       "      <td>8.506440e+05</td>\n",
       "      <td>2.930084e+05</td>\n",
       "      <td>2.951546e+05</td>\n",
       "      <td>2.283974e+04</td>\n",
       "      <td>2.396392e+05</td>\n",
       "      <td>1.821947e+05</td>\n",
       "      <td>5.433809e+04</td>\n",
       "      <td>3106.426507</td>\n",
       "      <td>0.499918</td>\n",
       "      <td>2016.147899</td>\n",
       "      <td>26.495644</td>\n",
       "    </tr>\n",
       "    <tr>\n",
       "      <th>std</th>\n",
       "      <td>0.402677</td>\n",
       "      <td>3.453545e+06</td>\n",
       "      <td>1.264989e+06</td>\n",
       "      <td>1.204120e+06</td>\n",
       "      <td>1.074641e+05</td>\n",
       "      <td>9.862424e+05</td>\n",
       "      <td>7.461785e+05</td>\n",
       "      <td>2.439660e+05</td>\n",
       "      <td>17692.894652</td>\n",
       "      <td>0.500014</td>\n",
       "      <td>0.939938</td>\n",
       "      <td>15.583788</td>\n",
       "    </tr>\n",
       "    <tr>\n",
       "      <th>min</th>\n",
       "      <td>0.440000</td>\n",
       "      <td>8.456000e+01</td>\n",
       "      <td>0.000000e+00</td>\n",
       "      <td>0.000000e+00</td>\n",
       "      <td>0.000000e+00</td>\n",
       "      <td>0.000000e+00</td>\n",
       "      <td>0.000000e+00</td>\n",
       "      <td>0.000000e+00</td>\n",
       "      <td>0.000000</td>\n",
       "      <td>0.000000</td>\n",
       "      <td>2015.000000</td>\n",
       "      <td>0.000000</td>\n",
       "    </tr>\n",
       "    <tr>\n",
       "      <th>25%</th>\n",
       "      <td>1.100000</td>\n",
       "      <td>1.083858e+04</td>\n",
       "      <td>8.540700e+02</td>\n",
       "      <td>3.008780e+03</td>\n",
       "      <td>0.000000e+00</td>\n",
       "      <td>5.088640e+03</td>\n",
       "      <td>2.849420e+03</td>\n",
       "      <td>1.274700e+02</td>\n",
       "      <td>0.000000</td>\n",
       "      <td>0.000000</td>\n",
       "      <td>2015.000000</td>\n",
       "      <td>13.000000</td>\n",
       "    </tr>\n",
       "    <tr>\n",
       "      <th>50%</th>\n",
       "      <td>1.370000</td>\n",
       "      <td>1.073768e+05</td>\n",
       "      <td>8.645300e+03</td>\n",
       "      <td>2.906102e+04</td>\n",
       "      <td>1.849900e+02</td>\n",
       "      <td>3.974383e+04</td>\n",
       "      <td>2.636282e+04</td>\n",
       "      <td>2.647710e+03</td>\n",
       "      <td>0.000000</td>\n",
       "      <td>0.000000</td>\n",
       "      <td>2016.000000</td>\n",
       "      <td>26.000000</td>\n",
       "    </tr>\n",
       "    <tr>\n",
       "      <th>75%</th>\n",
       "      <td>1.660000</td>\n",
       "      <td>4.329623e+05</td>\n",
       "      <td>1.110202e+05</td>\n",
       "      <td>1.502069e+05</td>\n",
       "      <td>6.243420e+03</td>\n",
       "      <td>1.107834e+05</td>\n",
       "      <td>8.333767e+04</td>\n",
       "      <td>2.202925e+04</td>\n",
       "      <td>132.500000</td>\n",
       "      <td>1.000000</td>\n",
       "      <td>2017.000000</td>\n",
       "      <td>40.000000</td>\n",
       "    </tr>\n",
       "    <tr>\n",
       "      <th>max</th>\n",
       "      <td>3.250000</td>\n",
       "      <td>6.250565e+07</td>\n",
       "      <td>2.274362e+07</td>\n",
       "      <td>2.047057e+07</td>\n",
       "      <td>2.546439e+06</td>\n",
       "      <td>1.937313e+07</td>\n",
       "      <td>1.338459e+07</td>\n",
       "      <td>5.719097e+06</td>\n",
       "      <td>551693.650000</td>\n",
       "      <td>1.000000</td>\n",
       "      <td>2018.000000</td>\n",
       "      <td>53.000000</td>\n",
       "    </tr>\n",
       "  </tbody>\n",
       "</table>\n",
       "</div>"
      ],
      "text/plain": [
       "       AveragePrice   TotalVolume       PLU4046       PLU4225       PLU4770  \\\n",
       "count  18249.000000  1.824900e+04  1.824900e+04  1.824900e+04  1.824900e+04   \n",
       "mean       1.405978  8.506440e+05  2.930084e+05  2.951546e+05  2.283974e+04   \n",
       "std        0.402677  3.453545e+06  1.264989e+06  1.204120e+06  1.074641e+05   \n",
       "min        0.440000  8.456000e+01  0.000000e+00  0.000000e+00  0.000000e+00   \n",
       "25%        1.100000  1.083858e+04  8.540700e+02  3.008780e+03  0.000000e+00   \n",
       "50%        1.370000  1.073768e+05  8.645300e+03  2.906102e+04  1.849900e+02   \n",
       "75%        1.660000  4.329623e+05  1.110202e+05  1.502069e+05  6.243420e+03   \n",
       "max        3.250000  6.250565e+07  2.274362e+07  2.047057e+07  2.546439e+06   \n",
       "\n",
       "          TotalBags     SmallBags     LargeBags     XLargeBags          type  \\\n",
       "count  1.824900e+04  1.824900e+04  1.824900e+04   18249.000000  18249.000000   \n",
       "mean   2.396392e+05  1.821947e+05  5.433809e+04    3106.426507      0.499918   \n",
       "std    9.862424e+05  7.461785e+05  2.439660e+05   17692.894652      0.500014   \n",
       "min    0.000000e+00  0.000000e+00  0.000000e+00       0.000000      0.000000   \n",
       "25%    5.088640e+03  2.849420e+03  1.274700e+02       0.000000      0.000000   \n",
       "50%    3.974383e+04  2.636282e+04  2.647710e+03       0.000000      0.000000   \n",
       "75%    1.107834e+05  8.333767e+04  2.202925e+04     132.500000      1.000000   \n",
       "max    1.937313e+07  1.338459e+07  5.719097e+06  551693.650000      1.000000   \n",
       "\n",
       "               year        region  \n",
       "count  18249.000000  18249.000000  \n",
       "mean    2016.147899     26.495644  \n",
       "std        0.939938     15.583788  \n",
       "min     2015.000000      0.000000  \n",
       "25%     2015.000000     13.000000  \n",
       "50%     2016.000000     26.000000  \n",
       "75%     2017.000000     40.000000  \n",
       "max     2018.000000     53.000000  "
      ]
     },
     "execution_count": 21,
     "metadata": {},
     "output_type": "execute_result"
    }
   ],
   "source": [
    "data.describe()"
   ]
  },
  {
   "cell_type": "markdown",
   "id": "3e51031e",
   "metadata": {},
   "source": [
    "The data has to be standardised. Since all the columns(are encoded) is in integer/float, statistics for all columns is defined"
   ]
  },
  {
   "cell_type": "markdown",
   "id": "97f6f9e3",
   "metadata": {},
   "source": [
    "## Correlation"
   ]
  },
  {
   "cell_type": "code",
   "execution_count": 22,
   "id": "9e3c8e2d",
   "metadata": {},
   "outputs": [
    {
     "data": {
      "image/png": "[encoded data removed]",
      "text/plain": [
       "<Figure size 1584x864 with 2 Axes>"
      ]
     },
     "metadata": {
      "needs_background": "light"
     },
     "output_type": "display_data"
    }
   ],
   "source": [
    "corr_mat = data.corr()\n",
    "plt.figure(figsize=[22,12])\n",
    "sns.heatmap(corr_mat,annot = True)\n",
    "plt.title('Correlation Matrix')\n",
    "plt.show()"
   ]
  },
  {
   "cell_type": "markdown",
   "id": "eb7036d6",
   "metadata": {},
   "source": [
    "- There is correlation between Total volume and PLU4046 of 0.98\n",
    "- There is correlation between Total volume and PLU4225 of 0.97\n",
    "- There is correlation between Total volume and Total bags of 0.96\n",
    "- There is correlation between Total volume and small bags of 0.97\n",
    "- There is correlation between Total bags and small bags of 0.99\n",
    "- There is correlation between Total bags and Large bags of 0.94"
   ]
  },
  {
   "cell_type": "markdown",
   "id": "78bb945a",
   "metadata": {},
   "source": [
    "## Confirming correlation existence"
   ]
  },
  {
   "cell_type": "code",
   "execution_count": 23,
   "id": "217ea827",
   "metadata": {},
   "outputs": [
    {
     "data": {
      "image/png": "[encoded data removed]",
      "text/plain": [
       "<Figure size 432x288 with 1 Axes>"
      ]
     },
     "metadata": {
      "needs_background": "light"
     },
     "output_type": "display_data"
    }
   ],
   "source": [
    "plt.scatter(data.TotalVolume, data.PLU4046)\n",
    "plt.xlabel('Total volume')\n",
    "plt.ylabel('PLU 4046')\n",
    "plt.title ('Total volume vs PLU 4046')\n",
    "plt.show()"
   ]
  },
  {
   "cell_type": "markdown",
   "id": "fedf15be",
   "metadata": {},
   "source": [
    "Yes, both variables are correlated"
   ]
  },
  {
   "cell_type": "code",
   "execution_count": 24,
   "id": "9e11fd4a",
   "metadata": {},
   "outputs": [
    {
     "data": {
      "image/png": "[encoded data removed]",
      "text/plain": [
       "<Figure size 432x288 with 1 Axes>"
      ]
     },
     "metadata": {
      "needs_background": "light"
     },
     "output_type": "display_data"
    }
   ],
   "source": [
    "plt.scatter(data.TotalVolume, data.PLU4225)\n",
    "plt.xlabel('Total volume')\n",
    "plt.ylabel('PLU 4225')\n",
    "plt.title ('Total volume vs PLU 4225')\n",
    "plt.show()"
   ]
  },
  {
   "cell_type": "markdown",
   "id": "35845f1f",
   "metadata": {},
   "source": [
    "Yes, both variables are correlated"
   ]
  },
  {
   "cell_type": "code",
   "execution_count": 25,
   "id": "59f831a2",
   "metadata": {},
   "outputs": [
    {
     "data": {
      "image/png": "[encoded data removed]",
      "text/plain": [
       "<Figure size 432x288 with 1 Axes>"
      ]
     },
     "metadata": {
      "needs_background": "light"
     },
     "output_type": "display_data"
    }
   ],
   "source": [
    "plt.scatter(data.TotalVolume, data.TotalBags)\n",
    "plt.xlabel('Total volume')\n",
    "plt.ylabel('Total Bags')\n",
    "plt.title ('Total volume vs Total Bags')\n",
    "plt.show()"
   ]
  },
  {
   "cell_type": "markdown",
   "id": "d241d5f1",
   "metadata": {},
   "source": [
    "Yes, both variables are correlated"
   ]
  },
  {
   "cell_type": "code",
   "execution_count": 26,
   "id": "c1d51484",
   "metadata": {},
   "outputs": [
    {
     "data": {
      "image/png": "[encoded data removed]",
      "text/plain": [
       "<Figure size 432x288 with 1 Axes>"
      ]
     },
     "metadata": {
      "needs_background": "light"
     },
     "output_type": "display_data"
    }
   ],
   "source": [
    "plt.scatter(data.TotalVolume, data.SmallBags)\n",
    "plt.xlabel('Total volume')\n",
    "plt.ylabel('Small Bags')\n",
    "plt.title ('Total volume vs Small Bags')\n",
    "plt.show()"
   ]
  },
  {
   "cell_type": "markdown",
   "id": "66863e7c",
   "metadata": {},
   "source": [
    "Yes, both variables are correlated.\n",
    "- So, we can remove TotalVolume"
   ]
  },
  {
   "cell_type": "code",
   "execution_count": 27,
   "id": "e5a68819",
   "metadata": {},
   "outputs": [],
   "source": [
    "data = data.drop(['TotalVolume'],axis=1)"
   ]
  },
  {
   "cell_type": "code",
   "execution_count": 28,
   "id": "1646a7b9",
   "metadata": {},
   "outputs": [
    {
     "data": {
      "image/png": "[encoded data removed]",
      "text/plain": [
       "<Figure size 432x288 with 1 Axes>"
      ]
     },
     "metadata": {
      "needs_background": "light"
     },
     "output_type": "display_data"
    }
   ],
   "source": [
    "plt.scatter(data.TotalBags, data.SmallBags)\n",
    "plt.xlabel('Total Bags')\n",
    "plt.ylabel('Small Bags')\n",
    "plt.title ('Total Bags vs Small Bags')\n",
    "plt.show()"
   ]
  },
  {
   "cell_type": "markdown",
   "id": "c18cb8d6",
   "metadata": {},
   "source": [
    "Yes, both variables are correlated"
   ]
  },
  {
   "cell_type": "code",
   "execution_count": 29,
   "id": "4f080d75",
   "metadata": {},
   "outputs": [
    {
     "data": {
      "image/png": "[encoded data removed]",
      "text/plain": [
       "<Figure size 432x288 with 1 Axes>"
      ]
     },
     "metadata": {
      "needs_background": "light"
     },
     "output_type": "display_data"
    }
   ],
   "source": [
    "plt.scatter(data.TotalBags, data.LargeBags)\n",
    "plt.xlabel('Total Bags')\n",
    "plt.ylabel('Large Bags')\n",
    "plt.title ('Total Bags vs Large Bags')\n",
    "plt.show()"
   ]
  },
  {
   "cell_type": "markdown",
   "id": "747cb6e3",
   "metadata": {},
   "source": [
    "Yes, both variables are correlated.\n",
    "- So, we can remove total bags"
   ]
  },
  {
   "cell_type": "code",
   "execution_count": 30,
   "id": "8fb67185",
   "metadata": {},
   "outputs": [],
   "source": [
    "data = data.drop(['TotalBags'],axis=1)"
   ]
  },
  {
   "cell_type": "markdown",
   "id": "d512c52b",
   "metadata": {},
   "source": [
    "## Collinearity"
   ]
  },
  {
   "cell_type": "code",
   "execution_count": 31,
   "id": "00e7b8be",
   "metadata": {},
   "outputs": [
    {
     "data": {
      "text/plain": [
       "<function matplotlib.pyplot.show(close=None, block=None)>"
      ]
     },
     "execution_count": 31,
     "metadata": {},
     "output_type": "execute_result"
    },
    {
     "data": {
      "image/png": "[encoded data removed]",
      "text/plain": [
       "<Figure size 1584x864 with 2 Axes>"
      ]
     },
     "metadata": {
      "needs_background": "light"
     },
     "output_type": "display_data"
    }
   ],
   "source": [
    "data_corr = data.corr().abs()\n",
    "plt.figure (figsize = (22,12))\n",
    "sns.heatmap(data_corr,annot = True, annot_kws = {'size':8}) \n",
    "plt.show"
   ]
  },
  {
   "cell_type": "markdown",
   "id": "5e6d3648",
   "metadata": {},
   "source": [
    "Though there is collinearity. It is of small amount. No need to treat it "
   ]
  },
  {
   "cell_type": "markdown",
   "id": "4854c2b1",
   "metadata": {},
   "source": [
    "## Treat Skewness"
   ]
  },
  {
   "cell_type": "code",
   "execution_count": 32,
   "id": "3d3b0dd3",
   "metadata": {},
   "outputs": [
    {
     "data": {
      "text/plain": [
       "region           0.000030\n",
       "type             0.000329\n",
       "year             0.215339\n",
       "AveragePrice     0.580303\n",
       "PLU4046          8.648220\n",
       "PLU4225          8.942466\n",
       "SmallBags        9.540660\n",
       "LargeBags        9.796455\n",
       "PLU4770         10.159396\n",
       "XLargeBags      13.139751\n",
       "dtype: float64"
      ]
     },
     "execution_count": 32,
     "metadata": {},
     "output_type": "execute_result"
    }
   ],
   "source": [
    "data.skew()\n",
    "data.skew().sort_values()"
   ]
  },
  {
   "cell_type": "markdown",
   "id": "0e9878b9",
   "metadata": {},
   "source": [
    "We can use power transformation to treat skewness"
   ]
  },
  {
   "cell_type": "code",
   "execution_count": 33,
   "id": "84fc9470",
   "metadata": {},
   "outputs": [],
   "source": [
    "from sklearn.preprocessing import power_transform\n",
    "data_new = power_transform(data)  # this comes in nparray.so, convert to DataFrame\n",
    "data = pd.DataFrame (data_new,columns = data.columns)"
   ]
  },
  {
   "cell_type": "markdown",
   "id": "af86df9c",
   "metadata": {},
   "source": [
    "Treated the skewness, check whether it is treated"
   ]
  },
  {
   "cell_type": "code",
   "execution_count": 34,
   "id": "a4604532",
   "metadata": {},
   "outputs": [
    {
     "data": {
      "text/plain": [
       "XLargeBags      0.793520\n",
       "year            0.213156\n",
       "PLU4770         0.032184\n",
       "SmallBags       0.007058\n",
       "AveragePrice    0.005596\n",
       "type            0.000329\n",
       "PLU4225        -0.017740\n",
       "PLU4046        -0.022679\n",
       "LargeBags      -0.073809\n",
       "region         -0.261443\n",
       "dtype: float64"
      ]
     },
     "execution_count": 34,
     "metadata": {},
     "output_type": "execute_result"
    }
   ],
   "source": [
    "data.skew().sort_values(ascending=False)"
   ]
  },
  {
   "cell_type": "markdown",
   "id": "8d981407",
   "metadata": {},
   "source": [
    "Skewness is treated using power transform function"
   ]
  },
  {
   "cell_type": "markdown",
   "id": "4709ef23",
   "metadata": {},
   "source": [
    "## Treat Outliers"
   ]
  },
  {
   "cell_type": "code",
   "execution_count": 35,
   "id": "c33beaa5",
   "metadata": {
    "scrolled": false
   },
   "outputs": [
    {
     "data": {
      "image/png": "[encoded data removed]",
      "text/plain": [
       "<Figure size 1080x3600 with 10 Axes>"
      ]
     },
     "metadata": {
      "needs_background": "light"
     },
     "output_type": "display_data"
    }
   ],
   "source": [
    "plt.figure(figsize=(15,50))\n",
    "graph = 1\n",
    "for column in data:\n",
    "    if graph<=15:\n",
    "        ax = plt.subplot(5,3,graph)\n",
    "        sns.boxplot(data[column],orient = 'V')\n",
    "        plt.xlabel(column, fontsize=10)\n",
    "    graph+=1\n",
    "plt.show()"
   ]
  },
  {
   "cell_type": "markdown",
   "id": "bf3c722c",
   "metadata": {},
   "source": [
    "There is outliers in Average price, PLU 4225, Small bags and Large bags"
   ]
  },
  {
   "cell_type": "markdown",
   "id": "6252b50b",
   "metadata": {},
   "source": [
    "## Quantify"
   ]
  },
  {
   "cell_type": "code",
   "execution_count": 36,
   "id": "416d5167",
   "metadata": {},
   "outputs": [
    {
     "data": {
      "text/plain": [
       "False"
      ]
     },
     "execution_count": 36,
     "metadata": {},
     "output_type": "execute_result"
    }
   ],
   "source": [
    "from scipy.stats import zscore\n",
    "(np.abs(zscore(data))<3).all()"
   ]
  },
  {
   "cell_type": "code",
   "execution_count": 37,
   "id": "c8518dd7",
   "metadata": {},
   "outputs": [
    {
     "data": {
      "text/html": [
       "<div>\n",
       "<style scoped>\n",
       "    .dataframe tbody tr th:only-of-type {\n",
       "        vertical-align: middle;\n",
       "    }\n",
       "\n",
       "    .dataframe tbody tr th {\n",
       "        vertical-align: top;\n",
       "    }\n",
       "\n",
       "    .dataframe thead th {\n",
       "        text-align: right;\n",
       "    }\n",
       "</style>\n",
       "<table border=\"1\" class=\"dataframe\">\n",
       "  <thead>\n",
       "    <tr style=\"text-align: right;\">\n",
       "      <th></th>\n",
       "      <th>AveragePrice</th>\n",
       "      <th>PLU4046</th>\n",
       "      <th>PLU4225</th>\n",
       "      <th>PLU4770</th>\n",
       "      <th>SmallBags</th>\n",
       "      <th>LargeBags</th>\n",
       "      <th>XLargeBags</th>\n",
       "      <th>type</th>\n",
       "      <th>year</th>\n",
       "      <th>region</th>\n",
       "      <th>AveragePrice_zscore</th>\n",
       "      <th>is_outlier</th>\n",
       "      <th>PLU4225_zscore</th>\n",
       "      <th>SmallBags_zscore</th>\n",
       "      <th>LargeBags_zscore</th>\n",
       "    </tr>\n",
       "  </thead>\n",
       "  <tbody>\n",
       "    <tr>\n",
       "      <th>9097</th>\n",
       "      <td>-1.480147</td>\n",
       "      <td>2.724982</td>\n",
       "      <td>3.053626</td>\n",
       "      <td>2.013957</td>\n",
       "      <td>3.342297</td>\n",
       "      <td>3.0064</td>\n",
       "      <td>1.714101</td>\n",
       "      <td>-0.999836</td>\n",
       "      <td>1.968548</td>\n",
       "      <td>1.442757</td>\n",
       "      <td>-1.480147</td>\n",
       "      <td>True</td>\n",
       "      <td>3.053626</td>\n",
       "      <td>3.342297</td>\n",
       "      <td>3.0064</td>\n",
       "    </tr>\n",
       "  </tbody>\n",
       "</table>\n",
       "</div>"
      ],
      "text/plain": [
       "      AveragePrice   PLU4046   PLU4225   PLU4770  SmallBags  LargeBags  \\\n",
       "9097     -1.480147  2.724982  3.053626  2.013957   3.342297     3.0064   \n",
       "\n",
       "      XLargeBags      type      year    region  AveragePrice_zscore  \\\n",
       "9097    1.714101 -0.999836  1.968548  1.442757            -1.480147   \n",
       "\n",
       "      is_outlier  PLU4225_zscore  SmallBags_zscore  LargeBags_zscore  \n",
       "9097        True        3.053626          3.342297            3.0064  "
      ]
     },
     "execution_count": 37,
     "metadata": {},
     "output_type": "execute_result"
    }
   ],
   "source": [
    "data['AveragePrice_zscore'] = zscore(data['AveragePrice'])\n",
    "data['is_outlier'] = data['AveragePrice_zscore'].apply(lambda x: x<=-3 or x>=3)\n",
    "data['PLU4225_zscore'] = zscore(data['PLU4225'])\n",
    "data['is_outlier'] = data['PLU4225_zscore'].apply(lambda x: x<=-3 or x>=3)\n",
    "data['SmallBags_zscore'] = zscore(data['SmallBags'])\n",
    "data['is_outlier'] = data['SmallBags_zscore'].apply(lambda x: x<=-3 or x>=3)\n",
    "data['LargeBags_zscore'] = zscore(data['LargeBags'])\n",
    "data['is_outlier'] = data['LargeBags_zscore'].apply(lambda x: x<=-3 or x>=3)\n",
    "data[data['is_outlier']]"
   ]
  },
  {
   "cell_type": "markdown",
   "id": "d611759a",
   "metadata": {},
   "source": [
    "Though we find more outliers, they are near the whiskers. Only one row has value more than 3.So, remove it."
   ]
  },
  {
   "cell_type": "code",
   "execution_count": 38,
   "id": "ba8b8f79",
   "metadata": {},
   "outputs": [],
   "source": [
    "data.drop([9097],inplace=True)"
   ]
  },
  {
   "cell_type": "markdown",
   "id": "876dc17b",
   "metadata": {},
   "source": []
  },
  {
   "cell_type": "code",
   "execution_count": 39,
   "id": "954f1af2",
   "metadata": {},
   "outputs": [],
   "source": [
    "df = pd.DataFrame()\n",
    "df = data.copy()"
   ]
  },
  {
   "cell_type": "markdown",
   "id": "236e5ba9",
   "metadata": {},
   "source": [
    "# REGRESSION MODEL"
   ]
  },
  {
   "cell_type": "markdown",
   "id": "b2cf10cd",
   "metadata": {},
   "source": [
    "## Model Building"
   ]
  },
  {
   "cell_type": "code",
   "execution_count": 40,
   "id": "7625685e",
   "metadata": {},
   "outputs": [],
   "source": [
    "from sklearn.linear_model import LinearRegression\n",
    "from sklearn.metrics import r2_score\n",
    "from sklearn.model_selection import train_test_split\n",
    "from sklearn.metrics import mean_squared_error, mean_absolute_error"
   ]
  },
  {
   "cell_type": "markdown",
   "id": "391226ab",
   "metadata": {},
   "source": [
    "Importing necessary libraries"
   ]
  },
  {
   "cell_type": "code",
   "execution_count": 41,
   "id": "16cc90b4",
   "metadata": {},
   "outputs": [],
   "source": [
    "x = data.drop(columns = ['AveragePrice'])\n",
    "y = data['AveragePrice']"
   ]
  },
  {
   "cell_type": "markdown",
   "id": "7bc1c39c",
   "metadata": {},
   "source": [
    "Split the label and target variables"
   ]
  },
  {
   "cell_type": "markdown",
   "id": "c5d1854b",
   "metadata": {},
   "source": [
    "## Standardise the data"
   ]
  },
  {
   "cell_type": "code",
   "execution_count": 42,
   "id": "96080375",
   "metadata": {},
   "outputs": [],
   "source": [
    "from sklearn.preprocessing import StandardScaler\n",
    "scaler = StandardScaler()\n",
    "x = scaler.fit_transform(x)"
   ]
  },
  {
   "cell_type": "markdown",
   "id": "a710a356",
   "metadata": {},
   "source": [
    "Thus the data is standardised"
   ]
  },
  {
   "cell_type": "code",
   "execution_count": 43,
   "id": "d48e0e55",
   "metadata": {},
   "outputs": [],
   "source": [
    "regression = LinearRegression()"
   ]
  },
  {
   "cell_type": "markdown",
   "id": "bbf5a48d",
   "metadata": {},
   "source": [
    "Instantiate Linear Regression"
   ]
  },
  {
   "cell_type": "code",
   "execution_count": 44,
   "id": "23c0fe62",
   "metadata": {},
   "outputs": [
    {
     "name": "stdout",
     "output_type": "stream",
     "text": [
      "Best regression score is: 1.0 on Random State 1\n"
     ]
    }
   ],
   "source": [
    "maxreg = 0 \n",
    "maxrs = 0\n",
    "for i in range(1,300):\n",
    "    x_train,x_test,y_train,y_test = train_test_split(x,y,test_size=.20, random_state = i)\n",
    "    LR = LinearRegression()\n",
    "    LR.fit(x_train,y_train)\n",
    "    acc = LR.score(x_test,y_test)\n",
    "    if acc>maxreg:\n",
    "        maxreg = acc\n",
    "        maxrs = i\n",
    "print('Best regression score is:',maxreg,'on Random State',maxrs)"
   ]
  },
  {
   "cell_type": "markdown",
   "id": "676a070d",
   "metadata": {},
   "source": [
    "Best regression score is 1.0 at 1 random state"
   ]
  },
  {
   "cell_type": "code",
   "execution_count": 45,
   "id": "cce2f1d9",
   "metadata": {},
   "outputs": [],
   "source": [
    "x_train,x_test,y_train,y_test = train_test_split (x,y,test_size=0.20,random_state=1)"
   ]
  },
  {
   "cell_type": "markdown",
   "id": "d708da40",
   "metadata": {},
   "source": [
    "Check with all models, how it is behaving\n",
    "## Linear Regression"
   ]
  },
  {
   "cell_type": "code",
   "execution_count": 46,
   "id": "469e2ec7",
   "metadata": {},
   "outputs": [
    {
     "name": "stdout",
     "output_type": "stream",
     "text": [
      "Regression Score: 1.0\n",
      "Mean Absolute Error: 3.2786050320609953e-15\n",
      "Mean Squared Error: 1.5019289316821417e-29\n"
     ]
    }
   ],
   "source": [
    "LR.fit(x_train,y_train)\n",
    "lr = LR.score(x_test,y_test)\n",
    "print('Regression Score:',lr)\n",
    "\n",
    "y_pred = LR.predict(x_test)\n",
    "\n",
    "mae = mean_absolute_error(y_test,y_pred)\n",
    "print('Mean Absolute Error:',mae)\n",
    "\n",
    "mse = mean_squared_error(y_test,y_pred)\n",
    "print('Mean Squared Error:',mse)"
   ]
  },
  {
   "cell_type": "markdown",
   "id": "4dbdacc9",
   "metadata": {},
   "source": [
    "## Decision Tree Regressor"
   ]
  },
  {
   "cell_type": "code",
   "execution_count": 47,
   "id": "b7b34378",
   "metadata": {},
   "outputs": [
    {
     "name": "stdout",
     "output_type": "stream",
     "text": [
      "Regression Score: 0.9999984382188013\n",
      "Mean Absolute Error: 7.049649134412615e-05\n",
      "Mean Squared Error: 1.5430029000134069e-06\n"
     ]
    }
   ],
   "source": [
    "from sklearn.tree import DecisionTreeRegressor\n",
    "\n",
    "dt = DecisionTreeRegressor()\n",
    "dt.fit(x_train,y_train)\n",
    "dtt = dt.score(x_test,y_test)\n",
    "print('Regression Score:',dtt)\n",
    "\n",
    "y_pred = dt.predict(x_test)\n",
    "\n",
    "mae = mean_absolute_error(y_test,y_pred)\n",
    "print('Mean Absolute Error:',mae)\n",
    "\n",
    "mse = mean_squared_error(y_test,y_pred)\n",
    "print('Mean Squared Error:',mse)"
   ]
  },
  {
   "cell_type": "markdown",
   "id": "d0dc7bae",
   "metadata": {},
   "source": [
    "## Random Forest Regressor"
   ]
  },
  {
   "cell_type": "code",
   "execution_count": 48,
   "id": "f8f14e9e",
   "metadata": {},
   "outputs": [
    {
     "name": "stdout",
     "output_type": "stream",
     "text": [
      "Regression Score: 0.9999982284464503\n",
      "Mean Absolute Error: 7.40216441325282e-05\n",
      "Mean Squared Error: 1.7502530233516315e-06\n"
     ]
    }
   ],
   "source": [
    "from sklearn.ensemble import RandomForestRegressor\n",
    "\n",
    "rfr = RandomForestRegressor()\n",
    "rfr.fit(x_train,y_train)\n",
    "rfr_ = rfr.score(x_test,y_test)\n",
    "print('Regression Score:',rfr_)\n",
    "\n",
    "y_pred = rfr.predict(x_test)\n",
    "\n",
    "mae = mean_absolute_error(y_test,y_pred)\n",
    "print('Mean Absolute Error:',mae)\n",
    "\n",
    "mse = mean_squared_error(y_test,y_pred)\n",
    "print('Mean Squared Error:',mse)"
   ]
  },
  {
   "cell_type": "markdown",
   "id": "b0f11835",
   "metadata": {},
   "source": [
    "Linear Rgression is the best model for this dataset with Regression score is 1.0"
   ]
  },
  {
   "cell_type": "markdown",
   "id": "2ca5c4d9",
   "metadata": {},
   "source": [
    "## Cross Validation"
   ]
  },
  {
   "cell_type": "code",
   "execution_count": 49,
   "id": "76c33fc8",
   "metadata": {},
   "outputs": [
    {
     "name": "stdout",
     "output_type": "stream",
     "text": [
      "LR cvs: 1.0\n",
      "DT cvs: 0.9999730125214684\n",
      "RFR cvs: 0.9999774047219626\n"
     ]
    }
   ],
   "source": [
    "from sklearn.model_selection import cross_val_score\n",
    "\n",
    "sc = cross_val_score(LR,x,y,cv=5)\n",
    "print('LR cvs:',sc.mean())\n",
    "\n",
    "sc1 = cross_val_score(dt,x,y,cv=5)\n",
    "print('DT cvs:',sc1.mean())\n",
    "\n",
    "sc2 = cross_val_score(rfr,x,y,cv=5)\n",
    "print('RFR cvs:',sc2.mean())"
   ]
  },
  {
   "cell_type": "markdown",
   "id": "a41e5559",
   "metadata": {},
   "source": [
    "The cross validation score shows that Linear Regression model can be accpeted. Becuase both the r2 score and cross validation score is 1.0"
   ]
  },
  {
   "cell_type": "markdown",
   "id": "c5e5477b",
   "metadata": {},
   "source": [
    "## Hyper parameter Tuning"
   ]
  },
  {
   "cell_type": "code",
   "execution_count": 50,
   "id": "d3a55926",
   "metadata": {},
   "outputs": [],
   "source": [
    "from sklearn.model_selection import RandomizedSearchCV\n",
    "from sklearn.ensemble import AdaBoostRegressor\n",
    "from sklearn.tree import DecisionTreeRegressor\n",
    "dt = DecisionTreeRegressor()"
   ]
  },
  {
   "cell_type": "markdown",
   "id": "973517e3",
   "metadata": {},
   "source": [
    "Import necessary libraries"
   ]
  },
  {
   "cell_type": "code",
   "execution_count": 51,
   "id": "dc2765df",
   "metadata": {},
   "outputs": [
    {
     "name": "stdout",
     "output_type": "stream",
     "text": [
      "RandomizedSearchCV(cv=5, estimator=AdaBoostRegressor(), n_jobs=1,\n",
      "                   param_distributions={'learning_rate': [0.3, 0.4, 0.45],\n",
      "                                        'loss': ['exponential'],\n",
      "                                        'n_estimators': [40, 47, 49, 50],\n",
      "                                        'random_state': [0]})\n",
      "Best Estimator: AdaBoostRegressor(learning_rate=0.4, loss='exponential', random_state=0)\n"
     ]
    }
   ],
   "source": [
    "params = {'n_estimators': [40,47,49,50], 'learning_rate':[0.30,0.40,0.45],'loss' : ['exponential'],'random_state' : [0]} \n",
    "rnd_search = RandomizedSearchCV (AdaBoostRegressor(), cv = 5, param_distributions = params,n_iter = 10,n_jobs=1)\n",
    "print(rnd_search.fit(x_train,y_train))\n",
    "print('Best Estimator:', rnd_search.best_estimator_)"
   ]
  },
  {
   "cell_type": "markdown",
   "id": "08ac2e88",
   "metadata": {},
   "source": [
    "Check the best estimator and imply it"
   ]
  },
  {
   "cell_type": "code",
   "execution_count": 52,
   "id": "807ba729",
   "metadata": {},
   "outputs": [
    {
     "name": "stdout",
     "output_type": "stream",
     "text": [
      "Accuracy post tuning\n",
      "0.99999901641029\n"
     ]
    }
   ],
   "source": [
    "from sklearn import metrics\n",
    "ada = AdaBoostRegressor(base_estimator = dt, learning_rate=0.4,n_estimators=47)\n",
    "ada.fit(x_train,y_train)\n",
    "y_pred = ada.predict(x_test)\n",
    "\n",
    "print('Accuracy post tuning')\n",
    "print(metrics.r2_score(y_test,y_pred))"
   ]
  },
  {
   "cell_type": "markdown",
   "id": "501340d3",
   "metadata": {},
   "source": [
    "Accuracy post tuning the parameters is 0.99. So, use Linear regression to save the model"
   ]
  },
  {
   "cell_type": "markdown",
   "id": "02cf7b77",
   "metadata": {},
   "source": [
    "## Save the model"
   ]
  },
  {
   "cell_type": "code",
   "execution_count": 53,
   "id": "c383d50f",
   "metadata": {},
   "outputs": [
    {
     "data": {
      "text/plain": [
       "['Avacado_reg_Model.pkl']"
      ]
     },
     "execution_count": 53,
     "metadata": {},
     "output_type": "execute_result"
    }
   ],
   "source": [
    "import joblib\n",
    "joblib.dump(LR,'Avacado_reg_Model.pkl')"
   ]
  },
  {
   "cell_type": "markdown",
   "id": "78540ce1",
   "metadata": {},
   "source": [
    "Thus the model is saved for regression"
   ]
  },
  {
   "cell_type": "markdown",
   "id": "ec7134f2",
   "metadata": {},
   "source": [
    "# CLASSIFICATION MODEL"
   ]
  },
  {
   "cell_type": "code",
   "execution_count": 54,
   "id": "79a54b20",
   "metadata": {},
   "outputs": [],
   "source": [
    "x = df.drop('region', axis = 1)\n",
    "y = df_y"
   ]
  },
  {
   "cell_type": "code",
   "execution_count": 55,
   "id": "e6536bdc",
   "metadata": {},
   "outputs": [],
   "source": [
    "df_y.drop([9097],inplace=True)"
   ]
  },
  {
   "cell_type": "markdown",
   "id": "6aebd7f5",
   "metadata": {},
   "source": [
    "Since this row is dropped during outlier removal"
   ]
  },
  {
   "cell_type": "markdown",
   "id": "4c0f6141",
   "metadata": {},
   "source": [
    "## Standardisation"
   ]
  },
  {
   "cell_type": "code",
   "execution_count": 56,
   "id": "46945a52",
   "metadata": {},
   "outputs": [],
   "source": [
    "from sklearn.preprocessing import StandardScaler\n",
    "scaler = StandardScaler()\n",
    "x = scaler.fit_transform(x)"
   ]
  },
  {
   "cell_type": "markdown",
   "id": "3364320e",
   "metadata": {},
   "source": [
    "Thus the data is standardised"
   ]
  },
  {
   "cell_type": "markdown",
   "id": "477ad6ff",
   "metadata": {},
   "source": [
    "## Finding best random state"
   ]
  },
  {
   "cell_type": "code",
   "execution_count": 57,
   "id": "575c7c0a",
   "metadata": {},
   "outputs": [],
   "source": [
    "from sklearn.linear_model import LogisticRegression\n",
    "from sklearn.metrics import accuracy_score\n",
    "from sklearn.metrics import confusion_matrix, classification_report\n",
    "from sklearn.model_selection import train_test_split"
   ]
  },
  {
   "cell_type": "code",
   "execution_count": 60,
   "id": "65437021",
   "metadata": {},
   "outputs": [
    {
     "name": "stdout",
     "output_type": "stream",
     "text": [
      "Best accuracy is: 0.5260273972602739 on Random State 64\n"
     ]
    }
   ],
   "source": [
    "maxacc = 0\n",
    "maxrs = 0\n",
    "for i in range(1,100):\n",
    "    x_train,x_test,y_train,y_test = train_test_split(x,y,test_size=.20, random_state = i)\n",
    "    LR = LogisticRegression()\n",
    "    LR.fit(x_train,y_train)\n",
    "    acc = LR.score(x_test,y_test)\n",
    "    if acc>maxacc:\n",
    "        maxacc = acc\n",
    "        maxrs = i\n",
    "print('Best accuracy is:',maxacc,'on Random State',maxrs)"
   ]
  },
  {
   "cell_type": "code",
   "execution_count": 61,
   "id": "96438a56",
   "metadata": {},
   "outputs": [],
   "source": [
    "x_train,x_test,y_train,y_test = train_test_split(x,y,test_size=.20, random_state = 64)"
   ]
  },
  {
   "cell_type": "markdown",
   "id": "12ad01ae",
   "metadata": {},
   "source": [
    "## Logistic Regression"
   ]
  },
  {
   "cell_type": "code",
   "execution_count": 62,
   "id": "481c527a",
   "metadata": {
    "scrolled": true
   },
   "outputs": [
    {
     "name": "stdout",
     "output_type": "stream",
     "text": [
      "Accuracy 52.602739726027394\n",
      "[[50  0  0 ...  0  0  0]\n",
      " [ 0 24  0 ...  0  0  0]\n",
      " [ 0  0 45 ...  0  0  3]\n",
      " ...\n",
      " [ 0  0  0 ... 61  2  0]\n",
      " [ 0  0  0 ...  0 64  0]\n",
      " [ 0  3  0 ...  0  0  6]]\n",
      "              precision    recall  f1-score   support\n",
      "\n",
      "           0       0.56      0.74      0.64        68\n",
      "           1       0.21      0.39      0.27        61\n",
      "           2       0.63      0.61      0.62        74\n",
      "           3       0.60      0.40      0.48        67\n",
      "           4       0.55      0.45      0.49        78\n",
      "           5       0.55      0.32      0.41        71\n",
      "           6       0.80      0.88      0.84        77\n",
      "           7       0.70      0.83      0.76        76\n",
      "           8       0.58      0.78      0.67        73\n",
      "           9       0.54      0.72      0.62        64\n",
      "          10       0.46      0.36      0.40        59\n",
      "          11       0.61      0.63      0.62        63\n",
      "          12       0.46      0.53      0.49        62\n",
      "          13       0.35      0.22      0.27        78\n",
      "          14       0.62      0.48      0.54        73\n",
      "          15       0.68      0.70      0.69        61\n",
      "          16       0.42      0.51      0.46        63\n",
      "          17       0.59      0.71      0.65        66\n",
      "          18       0.39      0.51      0.44        63\n",
      "          19       0.49      0.53      0.51        60\n",
      "          20       0.47      0.64      0.54        70\n",
      "          21       0.33      0.27      0.30        55\n",
      "          22       0.66      0.76      0.71        75\n",
      "          23       0.64      0.75      0.69        76\n",
      "          24       0.06      0.01      0.02        72\n",
      "          25       0.65      0.80      0.71        69\n",
      "          26       0.17      0.12      0.14        58\n",
      "          27       0.28      0.38      0.32        61\n",
      "          28       0.73      0.61      0.67        70\n",
      "          29       0.79      0.79      0.79        67\n",
      "          30       0.47      0.50      0.49        66\n",
      "          31       0.46      0.44      0.45        73\n",
      "          32       0.56      0.57      0.56        69\n",
      "          33       0.36      0.33      0.35        72\n",
      "          34       0.15      0.12      0.13        68\n",
      "          35       0.74      0.61      0.67        74\n",
      "          36       0.18      0.15      0.16        53\n",
      "          37       0.65      0.61      0.63        64\n",
      "          38       0.50      0.58      0.54        64\n",
      "          39       0.37      0.61      0.46        57\n",
      "          40       0.63      0.87      0.73        79\n",
      "          41       0.18      0.12      0.14        68\n",
      "          42       0.81      0.72      0.76        81\n",
      "          43       0.25      0.21      0.23        70\n",
      "          44       0.48      0.42      0.45        76\n",
      "          45       0.81      0.81      0.81        59\n",
      "          46       0.64      0.62      0.63        60\n",
      "          47       0.53      0.50      0.51        76\n",
      "          48       0.14      0.08      0.10        63\n",
      "          49       0.63      0.63      0.63        70\n",
      "          50       0.15      0.14      0.15        63\n",
      "          51       1.00      0.97      0.98        63\n",
      "          52       0.83      0.90      0.86        71\n",
      "          53       0.19      0.10      0.13        61\n",
      "\n",
      "    accuracy                           0.53      3650\n",
      "   macro avg       0.51      0.52      0.51      3650\n",
      "weighted avg       0.51      0.53      0.51      3650\n",
      "\n"
     ]
    }
   ],
   "source": [
    "LR.fit(x_train,y_train)\n",
    "predlr = LR.predict(x_test)\n",
    "print('Accuracy', accuracy_score(y_test,predlr)*100)\n",
    "print(confusion_matrix(y_test,predlr))\n",
    "print(classification_report(y_test,predlr))"
   ]
  },
  {
   "cell_type": "markdown",
   "id": "82b75537",
   "metadata": {},
   "source": [
    "Accuracy score is 0.53\n",
    "## Decision tree classifier"
   ]
  },
  {
   "cell_type": "code",
   "execution_count": 63,
   "id": "ecec624a",
   "metadata": {
    "scrolled": true
   },
   "outputs": [
    {
     "name": "stdout",
     "output_type": "stream",
     "text": [
      "Accuracy 80.65753424657535\n",
      "[[49  0  0 ...  0  0  0]\n",
      " [ 0 42  0 ...  0  0  1]\n",
      " [ 0  0 66 ...  0  0  0]\n",
      " ...\n",
      " [ 0  0  0 ... 62  0  0]\n",
      " [ 0  0  0 ...  0 65  0]\n",
      " [ 0  0  0 ...  0  0 46]]\n",
      "              precision    recall  f1-score   support\n",
      "\n",
      "           0       0.74      0.72      0.73        68\n",
      "           1       0.68      0.69      0.68        61\n",
      "           2       0.93      0.89      0.91        74\n",
      "           3       0.80      0.82      0.81        67\n",
      "           4       0.88      0.85      0.86        78\n",
      "           5       0.71      0.68      0.69        71\n",
      "           6       0.94      0.95      0.94        77\n",
      "           7       0.75      0.83      0.79        76\n",
      "           8       0.93      0.90      0.92        73\n",
      "           9       0.89      0.73      0.80        64\n",
      "          10       0.65      0.68      0.66        59\n",
      "          11       0.90      0.87      0.89        63\n",
      "          12       0.77      0.77      0.77        62\n",
      "          13       0.79      0.86      0.82        78\n",
      "          14       0.85      0.85      0.85        73\n",
      "          15       0.94      0.95      0.94        61\n",
      "          16       0.81      0.79      0.80        63\n",
      "          17       0.82      0.92      0.87        66\n",
      "          18       0.86      0.87      0.87        63\n",
      "          19       0.74      0.75      0.74        60\n",
      "          20       0.86      0.81      0.84        70\n",
      "          21       0.61      0.62      0.61        55\n",
      "          22       0.87      0.96      0.91        75\n",
      "          23       0.77      0.75      0.76        76\n",
      "          24       0.74      0.58      0.65        72\n",
      "          25       0.93      0.93      0.93        69\n",
      "          26       0.62      0.62      0.62        58\n",
      "          27       0.67      0.84      0.74        61\n",
      "          28       0.81      0.80      0.81        70\n",
      "          29       0.91      0.90      0.90        67\n",
      "          30       0.94      0.88      0.91        66\n",
      "          31       0.65      0.74      0.69        73\n",
      "          32       0.81      0.83      0.82        69\n",
      "          33       0.86      0.79      0.83        72\n",
      "          34       0.79      0.78      0.79        68\n",
      "          35       0.87      0.88      0.87        74\n",
      "          36       0.70      0.72      0.71        53\n",
      "          37       0.76      0.70      0.73        64\n",
      "          38       0.83      0.83      0.83        64\n",
      "          39       0.79      0.79      0.79        57\n",
      "          40       0.86      0.86      0.86        79\n",
      "          41       0.85      0.78      0.82        68\n",
      "          42       0.94      0.89      0.91        81\n",
      "          43       0.68      0.76      0.72        70\n",
      "          44       0.79      0.76      0.78        76\n",
      "          45       0.91      0.83      0.87        59\n",
      "          46       0.86      0.93      0.90        60\n",
      "          47       0.84      0.78      0.81        76\n",
      "          48       0.73      0.70      0.72        63\n",
      "          49       0.72      0.69      0.70        70\n",
      "          50       0.55      0.65      0.60        63\n",
      "          51       0.98      0.98      0.98        63\n",
      "          52       0.93      0.92      0.92        71\n",
      "          53       0.72      0.75      0.74        61\n",
      "\n",
      "    accuracy                           0.81      3650\n",
      "   macro avg       0.81      0.80      0.80      3650\n",
      "weighted avg       0.81      0.81      0.81      3650\n",
      "\n"
     ]
    }
   ],
   "source": [
    "from sklearn.tree import DecisionTreeClassifier\n",
    "dt = DecisionTreeClassifier()\n",
    "dt.fit(x_train,y_train)\n",
    "preddt = dt.predict(x_test)\n",
    "print('Accuracy', accuracy_score(y_test,preddt)*100)\n",
    "print(confusion_matrix(y_test,preddt))\n",
    "print(classification_report(y_test,preddt))"
   ]
  },
  {
   "cell_type": "markdown",
   "id": "df40361a",
   "metadata": {},
   "source": [
    "Accuracy score is 0.81\n",
    "## Random Forest Classifier"
   ]
  },
  {
   "cell_type": "code",
   "execution_count": 74,
   "id": "35373c0d",
   "metadata": {
    "scrolled": true
   },
   "outputs": [
    {
     "name": "stdout",
     "output_type": "stream",
     "text": [
      "Accuracy 90.43835616438356\n",
      "[[61  0  0 ...  0  0  0]\n",
      " [ 0 54  0 ...  0  0  0]\n",
      " [ 0  0 74 ...  0  0  0]\n",
      " ...\n",
      " [ 0  0  0 ... 63  0  0]\n",
      " [ 0  0  0 ...  0 70  0]\n",
      " [ 0  0  0 ...  0  0 51]]\n",
      "              precision    recall  f1-score   support\n",
      "\n",
      "           0       0.86      0.90      0.88        68\n",
      "           1       0.75      0.89      0.81        61\n",
      "           2       0.97      1.00      0.99        74\n",
      "           3       0.92      0.85      0.88        67\n",
      "           4       0.96      0.96      0.96        78\n",
      "           5       0.82      0.82      0.82        71\n",
      "           6       0.99      1.00      0.99        77\n",
      "           7       0.88      0.93      0.90        76\n",
      "           8       1.00      0.97      0.99        73\n",
      "           9       0.93      0.80      0.86        64\n",
      "          10       0.82      0.80      0.81        59\n",
      "          11       0.91      0.97      0.94        63\n",
      "          12       0.83      0.95      0.89        62\n",
      "          13       0.88      0.85      0.86        78\n",
      "          14       0.95      0.95      0.95        73\n",
      "          15       0.98      0.95      0.97        61\n",
      "          16       0.98      0.94      0.96        63\n",
      "          17       0.90      0.98      0.94        66\n",
      "          18       0.92      0.89      0.90        63\n",
      "          19       0.87      0.92      0.89        60\n",
      "          20       1.00      0.93      0.96        70\n",
      "          21       0.68      0.75      0.71        55\n",
      "          22       1.00      1.00      1.00        75\n",
      "          23       0.83      0.92      0.88        76\n",
      "          24       0.86      0.76      0.81        72\n",
      "          25       0.96      0.96      0.96        69\n",
      "          26       0.81      0.81      0.81        58\n",
      "          27       0.89      0.93      0.91        61\n",
      "          28       0.99      0.97      0.98        70\n",
      "          29       0.98      0.97      0.98        67\n",
      "          30       0.94      0.94      0.94        66\n",
      "          31       0.75      0.78      0.77        73\n",
      "          32       0.97      0.91      0.94        69\n",
      "          33       0.86      0.89      0.88        72\n",
      "          34       0.93      0.93      0.93        68\n",
      "          35       0.96      0.97      0.97        74\n",
      "          36       0.86      0.79      0.82        53\n",
      "          37       0.93      0.86      0.89        64\n",
      "          38       0.95      0.92      0.94        64\n",
      "          39       0.85      0.93      0.89        57\n",
      "          40       0.86      0.89      0.87        79\n",
      "          41       0.84      0.85      0.85        68\n",
      "          42       0.90      1.00      0.95        81\n",
      "          43       0.97      0.89      0.93        70\n",
      "          44       0.92      0.87      0.89        76\n",
      "          45       0.98      0.98      0.98        59\n",
      "          46       0.97      1.00      0.98        60\n",
      "          47       0.94      0.88      0.91        76\n",
      "          48       0.93      0.81      0.86        63\n",
      "          49       0.84      0.81      0.83        70\n",
      "          50       0.63      0.70      0.66        63\n",
      "          51       1.00      1.00      1.00        63\n",
      "          52       0.99      0.99      0.99        71\n",
      "          53       0.98      0.84      0.90        61\n",
      "\n",
      "    accuracy                           0.90      3650\n",
      "   macro avg       0.91      0.90      0.90      3650\n",
      "weighted avg       0.91      0.90      0.90      3650\n",
      "\n"
     ]
    }
   ],
   "source": [
    "from sklearn.ensemble import RandomForestClassifier\n",
    "rf = RandomForestClassifier()\n",
    "rf.fit(x_train,y_train)\n",
    "predrf = rf.predict(x_test)\n",
    "print('Accuracy', accuracy_score(y_test,predrf)*100)\n",
    "print(confusion_matrix(y_test,predrf))\n",
    "print(classification_report(y_test,predrf))"
   ]
  },
  {
   "cell_type": "markdown",
   "id": "5d77f8f0",
   "metadata": {},
   "source": [
    "Accuracy score is 0.90\n",
    "## SVC"
   ]
  },
  {
   "cell_type": "code",
   "execution_count": 65,
   "id": "0ae42083",
   "metadata": {
    "scrolled": true
   },
   "outputs": [
    {
     "name": "stdout",
     "output_type": "stream",
     "text": [
      "Accuracy 80.73972602739727\n",
      "[[65  0  0 ...  0  0  0]\n",
      " [ 0 39  0 ...  0  0  0]\n",
      " [ 0  0 72 ...  0  0  0]\n",
      " ...\n",
      " [ 0  0  0 ... 63  0  0]\n",
      " [ 0  0  0 ...  0 68  0]\n",
      " [ 0  1  0 ...  0  0 39]]\n",
      "              precision    recall  f1-score   support\n",
      "\n",
      "           0       0.78      0.96      0.86        68\n",
      "           1       0.45      0.64      0.53        61\n",
      "           2       0.99      0.97      0.98        74\n",
      "           3       0.89      0.75      0.81        67\n",
      "           4       0.91      0.88      0.90        78\n",
      "           5       0.82      0.66      0.73        71\n",
      "           6       1.00      0.99      0.99        77\n",
      "           7       0.73      0.82      0.77        76\n",
      "           8       0.99      0.93      0.96        73\n",
      "           9       0.67      0.73      0.70        64\n",
      "          10       0.54      0.63      0.58        59\n",
      "          11       0.83      0.87      0.85        63\n",
      "          12       0.82      0.95      0.88        62\n",
      "          13       0.68      0.63      0.65        78\n",
      "          14       0.89      0.93      0.91        73\n",
      "          15       0.98      0.97      0.98        61\n",
      "          16       0.97      0.90      0.93        63\n",
      "          17       0.85      0.95      0.90        66\n",
      "          18       0.76      0.83      0.79        63\n",
      "          19       0.70      0.80      0.74        60\n",
      "          20       0.96      0.93      0.94        70\n",
      "          21       0.60      0.47      0.53        55\n",
      "          22       0.97      0.99      0.98        75\n",
      "          23       0.79      0.91      0.85        76\n",
      "          24       0.69      0.57      0.63        72\n",
      "          25       0.94      0.99      0.96        69\n",
      "          26       0.61      0.40      0.48        58\n",
      "          27       0.58      0.67      0.62        61\n",
      "          28       0.96      0.99      0.97        70\n",
      "          29       0.97      0.97      0.97        67\n",
      "          30       0.92      0.85      0.88        66\n",
      "          31       0.54      0.51      0.52        73\n",
      "          32       0.87      0.86      0.86        69\n",
      "          33       0.66      0.71      0.68        72\n",
      "          34       0.71      0.84      0.77        68\n",
      "          35       0.91      0.99      0.95        74\n",
      "          36       0.84      0.77      0.80        53\n",
      "          37       0.72      0.77      0.74        64\n",
      "          38       0.72      0.69      0.70        64\n",
      "          39       0.77      0.81      0.79        57\n",
      "          40       0.82      0.91      0.86        79\n",
      "          41       0.70      0.63      0.67        68\n",
      "          42       0.92      0.98      0.95        81\n",
      "          43       0.95      0.80      0.87        70\n",
      "          44       0.74      0.74      0.74        76\n",
      "          45       0.98      0.90      0.94        59\n",
      "          46       0.85      0.85      0.85        60\n",
      "          47       0.89      0.74      0.81        76\n",
      "          48       0.78      0.62      0.69        63\n",
      "          49       0.86      0.80      0.83        70\n",
      "          50       0.31      0.32      0.31        63\n",
      "          51       1.00      1.00      1.00        63\n",
      "          52       0.99      0.96      0.97        71\n",
      "          53       0.78      0.64      0.70        61\n",
      "\n",
      "    accuracy                           0.81      3650\n",
      "   macro avg       0.81      0.80      0.80      3650\n",
      "weighted avg       0.81      0.81      0.81      3650\n",
      "\n"
     ]
    }
   ],
   "source": [
    "from sklearn.svm import SVC\n",
    "svc = SVC()\n",
    "svc.fit(x_train,y_train)\n",
    "predsvc = svc.predict(x_test)\n",
    "print('Accuracy', accuracy_score(y_test,predsvc)*100)\n",
    "print(confusion_matrix(y_test,predsvc))\n",
    "print(classification_report(y_test,predsvc))"
   ]
  },
  {
   "cell_type": "markdown",
   "id": "e453011e",
   "metadata": {},
   "source": [
    "Accuracy score is 0.81\n",
    "- On comparing all the accuracy scores, RandomForestClassifier,DecisionTreeClassifier and SVC all has the same accuracy score. Cross check with cross validation score. "
   ]
  },
  {
   "cell_type": "markdown",
   "id": "9ae79287",
   "metadata": {},
   "source": [
    "## Cross-Validation"
   ]
  },
  {
   "cell_type": "code",
   "execution_count": 66,
   "id": "b745bf0c",
   "metadata": {},
   "outputs": [
    {
     "name": "stdout",
     "output_type": "stream",
     "text": [
      "LR cvs: 0.4331930124969959\n",
      "DT cvs: 0.6436265621244893\n",
      "RFC cvs: 0.7685708062965634\n",
      "SVC cvs: 0.7071905791876952\n"
     ]
    }
   ],
   "source": [
    "from sklearn.model_selection import cross_val_score\n",
    "\n",
    "sc = cross_val_score(LR,x,y,cv=10)\n",
    "print('LR cvs:',sc.mean())\n",
    "\n",
    "sc1 = cross_val_score(dt,x,y,cv=10)\n",
    "print('DT cvs:',sc1.mean())\n",
    "\n",
    "sc2 = cross_val_score(rf,x,y,cv=10)\n",
    "print('RFC cvs:',sc2.mean())\n",
    "\n",
    "sc3 = cross_val_score(svc,x,y,cv=10)\n",
    "print('SVC cvs:',sc3.mean())"
   ]
  },
  {
   "cell_type": "markdown",
   "id": "9896c777",
   "metadata": {},
   "source": [
    "- The cross validation score for Logistic regression is 0.43\n",
    "    - Accuracy is 0.53\n",
    "- The cross validation score for Decision tree classifier is 0.64\n",
    "    - Accuracy is 0.81\n",
    "- The cross validation score for Random forest classifier is 0.76\n",
    "    - Accuracy is 0.90\n",
    "- The cross validation score for SVC is 0.70\n",
    "    - Accuracy is 0.81\n",
    "    \n",
    " Based on CV score and accuracy score, Random Forest Classifier looks better compared to other scores.\n",
    " ## Hyper parameter tuning"
   ]
  },
  {
   "cell_type": "code",
   "execution_count": 67,
   "id": "3d07b2b7",
   "metadata": {},
   "outputs": [],
   "source": [
    "from sklearn.model_selection import GridSearchCV"
   ]
  },
  {
   "cell_type": "code",
   "execution_count": 70,
   "id": "ea492b09",
   "metadata": {},
   "outputs": [
    {
     "data": {
      "text/plain": [
       "{'criterion': 'entropy',\n",
       " 'max_depth': 6,\n",
       " 'max_features': 'auto',\n",
       " 'random_state': 64}"
      ]
     },
     "execution_count": 70,
     "metadata": {},
     "output_type": "execute_result"
    }
   ],
   "source": [
    "parameters = {'max_features':['auto'],\n",
    "             'max_depth':[4,5,6],\n",
    "             'criterion':['gini','entropy'],\n",
    "             'random_state' : [64]\n",
    "         }\n",
    "\n",
    "GVC = GridSearchCV(RandomForestClassifier(),parameters,cv=5,scoring='accuracy')\n",
    "GVC.fit(x_train,y_train)\n",
    "GVC.best_params_"
   ]
  },
  {
   "cell_type": "code",
   "execution_count": 71,
   "id": "19c0c2a6",
   "metadata": {},
   "outputs": [
    {
     "data": {
      "text/plain": [
       "0.7024657534246576"
      ]
     },
     "execution_count": 71,
     "metadata": {},
     "output_type": "execute_result"
    }
   ],
   "source": [
    "GVC_pred=GVC.best_estimator_.predict(x_test)\n",
    "accuracy_score(y_test,GVC_pred)"
   ]
  },
  {
   "cell_type": "markdown",
   "id": "ff6116c7",
   "metadata": {},
   "source": [
    "On tuning the parameters, the score is 0.70. So, use the RandomForestRegressor model to evaluate."
   ]
  },
  {
   "cell_type": "markdown",
   "id": "fd5215fb",
   "metadata": {},
   "source": [
    "## Save the model"
   ]
  },
  {
   "cell_type": "code",
   "execution_count": 75,
   "id": "ed702a48",
   "metadata": {},
   "outputs": [
    {
     "data": {
      "text/plain": [
       "['Avacado_clas.pkl']"
      ]
     },
     "execution_count": 75,
     "metadata": {},
     "output_type": "execute_result"
    }
   ],
   "source": [
    "import joblib\n",
    "joblib.dump(rf,'Avacado_clas.pkl')"
   ]
  },
  {
   "cell_type": "markdown",
   "id": "319a199c",
   "metadata": {},
   "source": [
    "Thus the model is saved"
   ]
  }
 ],
 "metadata": {
  "kernelspec": {
   "display_name": "Python 3",
   "language": "python",
   "name": "python3"
  },
  "language_info": {
   "codemirror_mode": {
    "name": "ipython",
    "version": 3
   },
   "file_extension": ".py",
   "mimetype": "text/x-python",
   "name": "python",
   "nbconvert_exporter": "python",
   "pygments_lexer": "ipython3",
   "version": "3.8.8"
  }
 },
 "nbformat": 4,
 "nbformat_minor": 5
}
