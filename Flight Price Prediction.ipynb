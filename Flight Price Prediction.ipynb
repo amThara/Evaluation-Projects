{
 "cells": [
  {
   "cell_type": "code",
   "execution_count": 1,
   "id": "576d4fc8",
   "metadata": {},
   "outputs": [],
   "source": [
    "import numpy as np\n",
    "import pandas as pd\n",
    "import matplotlib.pyplot as plt\n",
    "import seaborn as sns\n",
    "\n",
    "import warnings\n",
    "warnings.filterwarnings('ignore')"
   ]
  },
  {
   "cell_type": "markdown",
   "id": "65dc9cb8",
   "metadata": {},
   "source": [
    "Importing the basic libraries needed"
   ]
  },
  {
   "cell_type": "code",
   "execution_count": 2,
   "id": "237b38c6",
   "metadata": {},
   "outputs": [
    {
     "data": {
      "text/html": [
       "<div>\n",
       "<style scoped>\n",
       "    .dataframe tbody tr th:only-of-type {\n",
       "        vertical-align: middle;\n",
       "    }\n",
       "\n",
       "    .dataframe tbody tr th {\n",
       "        vertical-align: top;\n",
       "    }\n",
       "\n",
       "    .dataframe thead th {\n",
       "        text-align: right;\n",
       "    }\n",
       "</style>\n",
       "<table border=\"1\" class=\"dataframe\">\n",
       "  <thead>\n",
       "    <tr style=\"text-align: right;\">\n",
       "      <th></th>\n",
       "      <th>Airline</th>\n",
       "      <th>Date_of_Journey</th>\n",
       "      <th>Source</th>\n",
       "      <th>Destination</th>\n",
       "      <th>Route</th>\n",
       "      <th>Dep_Time</th>\n",
       "      <th>Arrival_Time</th>\n",
       "      <th>Duration</th>\n",
       "      <th>Total_Stops</th>\n",
       "      <th>Additional_Info</th>\n",
       "      <th>Price</th>\n",
       "    </tr>\n",
       "  </thead>\n",
       "  <tbody>\n",
       "    <tr>\n",
       "      <th>0</th>\n",
       "      <td>IndiGo</td>\n",
       "      <td>24/03/2019</td>\n",
       "      <td>Banglore</td>\n",
       "      <td>New Delhi</td>\n",
       "      <td>BLR → DEL</td>\n",
       "      <td>22:20</td>\n",
       "      <td>01:10 22 Mar</td>\n",
       "      <td>2h 50m</td>\n",
       "      <td>non-stop</td>\n",
       "      <td>No info</td>\n",
       "      <td>3897</td>\n",
       "    </tr>\n",
       "    <tr>\n",
       "      <th>1</th>\n",
       "      <td>Air India</td>\n",
       "      <td>1/05/2019</td>\n",
       "      <td>Kolkata</td>\n",
       "      <td>Banglore</td>\n",
       "      <td>CCU → IXR → BBI → BLR</td>\n",
       "      <td>05:50</td>\n",
       "      <td>13:15</td>\n",
       "      <td>7h 25m</td>\n",
       "      <td>2 stops</td>\n",
       "      <td>No info</td>\n",
       "      <td>7662</td>\n",
       "    </tr>\n",
       "    <tr>\n",
       "      <th>2</th>\n",
       "      <td>Jet Airways</td>\n",
       "      <td>9/06/2019</td>\n",
       "      <td>Delhi</td>\n",
       "      <td>Cochin</td>\n",
       "      <td>DEL → LKO → BOM → COK</td>\n",
       "      <td>09:25</td>\n",
       "      <td>04:25 10 Jun</td>\n",
       "      <td>19h</td>\n",
       "      <td>2 stops</td>\n",
       "      <td>No info</td>\n",
       "      <td>13882</td>\n",
       "    </tr>\n",
       "    <tr>\n",
       "      <th>3</th>\n",
       "      <td>IndiGo</td>\n",
       "      <td>12/05/2019</td>\n",
       "      <td>Kolkata</td>\n",
       "      <td>Banglore</td>\n",
       "      <td>CCU → NAG → BLR</td>\n",
       "      <td>18:05</td>\n",
       "      <td>23:30</td>\n",
       "      <td>5h 25m</td>\n",
       "      <td>1 stop</td>\n",
       "      <td>No info</td>\n",
       "      <td>6218</td>\n",
       "    </tr>\n",
       "    <tr>\n",
       "      <th>4</th>\n",
       "      <td>IndiGo</td>\n",
       "      <td>01/03/2019</td>\n",
       "      <td>Banglore</td>\n",
       "      <td>New Delhi</td>\n",
       "      <td>BLR → NAG → DEL</td>\n",
       "      <td>16:50</td>\n",
       "      <td>21:35</td>\n",
       "      <td>4h 45m</td>\n",
       "      <td>1 stop</td>\n",
       "      <td>No info</td>\n",
       "      <td>13302</td>\n",
       "    </tr>\n",
       "    <tr>\n",
       "      <th>...</th>\n",
       "      <td>...</td>\n",
       "      <td>...</td>\n",
       "      <td>...</td>\n",
       "      <td>...</td>\n",
       "      <td>...</td>\n",
       "      <td>...</td>\n",
       "      <td>...</td>\n",
       "      <td>...</td>\n",
       "      <td>...</td>\n",
       "      <td>...</td>\n",
       "      <td>...</td>\n",
       "    </tr>\n",
       "    <tr>\n",
       "      <th>10678</th>\n",
       "      <td>Air Asia</td>\n",
       "      <td>9/04/2019</td>\n",
       "      <td>Kolkata</td>\n",
       "      <td>Banglore</td>\n",
       "      <td>CCU → BLR</td>\n",
       "      <td>19:55</td>\n",
       "      <td>22:25</td>\n",
       "      <td>2h 30m</td>\n",
       "      <td>non-stop</td>\n",
       "      <td>No info</td>\n",
       "      <td>4107</td>\n",
       "    </tr>\n",
       "    <tr>\n",
       "      <th>10679</th>\n",
       "      <td>Air India</td>\n",
       "      <td>27/04/2019</td>\n",
       "      <td>Kolkata</td>\n",
       "      <td>Banglore</td>\n",
       "      <td>CCU → BLR</td>\n",
       "      <td>20:45</td>\n",
       "      <td>23:20</td>\n",
       "      <td>2h 35m</td>\n",
       "      <td>non-stop</td>\n",
       "      <td>No info</td>\n",
       "      <td>4145</td>\n",
       "    </tr>\n",
       "    <tr>\n",
       "      <th>10680</th>\n",
       "      <td>Jet Airways</td>\n",
       "      <td>27/04/2019</td>\n",
       "      <td>Banglore</td>\n",
       "      <td>Delhi</td>\n",
       "      <td>BLR → DEL</td>\n",
       "      <td>08:20</td>\n",
       "      <td>11:20</td>\n",
       "      <td>3h</td>\n",
       "      <td>non-stop</td>\n",
       "      <td>No info</td>\n",
       "      <td>7229</td>\n",
       "    </tr>\n",
       "    <tr>\n",
       "      <th>10681</th>\n",
       "      <td>Vistara</td>\n",
       "      <td>01/03/2019</td>\n",
       "      <td>Banglore</td>\n",
       "      <td>New Delhi</td>\n",
       "      <td>BLR → DEL</td>\n",
       "      <td>11:30</td>\n",
       "      <td>14:10</td>\n",
       "      <td>2h 40m</td>\n",
       "      <td>non-stop</td>\n",
       "      <td>No info</td>\n",
       "      <td>12648</td>\n",
       "    </tr>\n",
       "    <tr>\n",
       "      <th>10682</th>\n",
       "      <td>Air India</td>\n",
       "      <td>9/05/2019</td>\n",
       "      <td>Delhi</td>\n",
       "      <td>Cochin</td>\n",
       "      <td>DEL → GOI → BOM → COK</td>\n",
       "      <td>10:55</td>\n",
       "      <td>19:15</td>\n",
       "      <td>8h 20m</td>\n",
       "      <td>2 stops</td>\n",
       "      <td>No info</td>\n",
       "      <td>11753</td>\n",
       "    </tr>\n",
       "  </tbody>\n",
       "</table>\n",
       "<p>10683 rows × 11 columns</p>\n",
       "</div>"
      ],
      "text/plain": [
       "           Airline Date_of_Journey    Source Destination  \\\n",
       "0           IndiGo      24/03/2019  Banglore   New Delhi   \n",
       "1        Air India       1/05/2019   Kolkata    Banglore   \n",
       "2      Jet Airways       9/06/2019     Delhi      Cochin   \n",
       "3           IndiGo      12/05/2019   Kolkata    Banglore   \n",
       "4           IndiGo      01/03/2019  Banglore   New Delhi   \n",
       "...            ...             ...       ...         ...   \n",
       "10678     Air Asia       9/04/2019   Kolkata    Banglore   \n",
       "10679    Air India      27/04/2019   Kolkata    Banglore   \n",
       "10680  Jet Airways      27/04/2019  Banglore       Delhi   \n",
       "10681      Vistara      01/03/2019  Banglore   New Delhi   \n",
       "10682    Air India       9/05/2019     Delhi      Cochin   \n",
       "\n",
       "                       Route Dep_Time  Arrival_Time Duration Total_Stops  \\\n",
       "0                  BLR → DEL    22:20  01:10 22 Mar   2h 50m    non-stop   \n",
       "1      CCU → IXR → BBI → BLR    05:50         13:15   7h 25m     2 stops   \n",
       "2      DEL → LKO → BOM → COK    09:25  04:25 10 Jun      19h     2 stops   \n",
       "3            CCU → NAG → BLR    18:05         23:30   5h 25m      1 stop   \n",
       "4            BLR → NAG → DEL    16:50         21:35   4h 45m      1 stop   \n",
       "...                      ...      ...           ...      ...         ...   \n",
       "10678              CCU → BLR    19:55         22:25   2h 30m    non-stop   \n",
       "10679              CCU → BLR    20:45         23:20   2h 35m    non-stop   \n",
       "10680              BLR → DEL    08:20         11:20       3h    non-stop   \n",
       "10681              BLR → DEL    11:30         14:10   2h 40m    non-stop   \n",
       "10682  DEL → GOI → BOM → COK    10:55         19:15   8h 20m     2 stops   \n",
       "\n",
       "      Additional_Info  Price  \n",
       "0             No info   3897  \n",
       "1             No info   7662  \n",
       "2             No info  13882  \n",
       "3             No info   6218  \n",
       "4             No info  13302  \n",
       "...               ...    ...  \n",
       "10678         No info   4107  \n",
       "10679         No info   4145  \n",
       "10680         No info   7229  \n",
       "10681         No info  12648  \n",
       "10682         No info  11753  \n",
       "\n",
       "[10683 rows x 11 columns]"
      ]
     },
     "execution_count": 2,
     "metadata": {},
     "output_type": "execute_result"
    }
   ],
   "source": [
    "data = pd.read_excel(r\"C:\\Users\\Lenovo\\Desktop\\DS\\Project\\Flight_Ticket_Participant_Datasets\\Data_Train.xlsx\")\n",
    "data"
   ]
  },
  {
   "cell_type": "markdown",
   "id": "ee8811d3",
   "metadata": {},
   "source": [
    "Opne and read the data\n",
    "## Data Explanation\n",
    "Here we have been provided with prices of flight tickets for various airlines between the months of March and June of 2019 and between various cities. We would be having a new dataset to predict the prices of flight tickets using this dataset as training dataset\n",
    "\n",
    "- There are 10683 rows and 11 columns for prediction\n",
    "\n",
    "Target\n",
    "- Price\n",
    "\n",
    "Labels\n",
    "- Airline\n",
    "- Date_of_Journey\n",
    "- Source\n",
    "- Destination\n",
    "- Route\n",
    "- Dep_Time\n",
    "- Arrival_Time\n",
    "- Duration\n",
    "- Total_Stops\n",
    "- Additional_Info"
   ]
  },
  {
   "cell_type": "markdown",
   "id": "234e9548",
   "metadata": {},
   "source": [
    "# Exploratory Data Analysis\n",
    "### Identification of variables and data types"
   ]
  },
  {
   "cell_type": "code",
   "execution_count": 3,
   "id": "25606bbf",
   "metadata": {},
   "outputs": [
    {
     "data": {
      "text/plain": [
       "(10683, 11)"
      ]
     },
     "execution_count": 3,
     "metadata": {},
     "output_type": "execute_result"
    }
   ],
   "source": [
    "data.shape"
   ]
  },
  {
   "cell_type": "markdown",
   "id": "d42275eb",
   "metadata": {},
   "source": [
    "Shape of the data set has 10683 rows and 11 columns"
   ]
  },
  {
   "cell_type": "markdown",
   "id": "989bac95",
   "metadata": {},
   "source": [
    "## Checking data types"
   ]
  },
  {
   "cell_type": "code",
   "execution_count": 4,
   "id": "7ddadb68",
   "metadata": {},
   "outputs": [
    {
     "name": "stdout",
     "output_type": "stream",
     "text": [
      "<class 'pandas.core.frame.DataFrame'>\n",
      "RangeIndex: 10683 entries, 0 to 10682\n",
      "Data columns (total 11 columns):\n",
      " #   Column           Non-Null Count  Dtype \n",
      "---  ------           --------------  ----- \n",
      " 0   Airline          10683 non-null  object\n",
      " 1   Date_of_Journey  10683 non-null  object\n",
      " 2   Source           10683 non-null  object\n",
      " 3   Destination      10683 non-null  object\n",
      " 4   Route            10682 non-null  object\n",
      " 5   Dep_Time         10683 non-null  object\n",
      " 6   Arrival_Time     10683 non-null  object\n",
      " 7   Duration         10683 non-null  object\n",
      " 8   Total_Stops      10682 non-null  object\n",
      " 9   Additional_Info  10683 non-null  object\n",
      " 10  Price            10683 non-null  int64 \n",
      "dtypes: int64(1), object(10)\n",
      "memory usage: 918.2+ KB\n"
     ]
    }
   ],
   "source": [
    "data.info()"
   ]
  },
  {
   "cell_type": "markdown",
   "id": "0a5b4837",
   "metadata": {},
   "source": [
    "- There are 2 Nan values present in \n",
    "    - Route\n",
    "    - Total_stops\n",
    "- 10 columns are of object type whch has to be encoded:\n",
    "    - Airline\n",
    "    - Date_of_Journey\n",
    "    - Source\n",
    "    - Destination\n",
    "    - Route\n",
    "    - Dep_Time\n",
    "    - Arrival_Time\n",
    "    - Duration\n",
    "    - Total_Stops\n",
    "    - Additional_Info"
   ]
  },
  {
   "cell_type": "code",
   "execution_count": 5,
   "id": "804c3a20",
   "metadata": {},
   "outputs": [
    {
     "data": {
      "text/plain": [
       "Index(['Airline', 'Date_of_Journey', 'Source', 'Destination', 'Route',\n",
       "       'Dep_Time', 'Arrival_Time', 'Duration', 'Total_Stops',\n",
       "       'Additional_Info', 'Price'],\n",
       "      dtype='object')"
      ]
     },
     "execution_count": 5,
     "metadata": {},
     "output_type": "execute_result"
    }
   ],
   "source": [
    "data.columns"
   ]
  },
  {
   "cell_type": "markdown",
   "id": "fba93873",
   "metadata": {},
   "source": [
    "- Date_of_Journey,Dep_Time,Arrival_Time are not necessary in calculating the price of the flight\n",
    "- Also check for additional info if anything is avalilable"
   ]
  },
  {
   "cell_type": "code",
   "execution_count": 6,
   "id": "bef55a2e",
   "metadata": {},
   "outputs": [],
   "source": [
    "data = data.drop(['Date_of_Journey','Dep_Time','Arrival_Time'],axis = 1)"
   ]
  },
  {
   "cell_type": "markdown",
   "id": "c425be80",
   "metadata": {},
   "source": [
    "## Check the unique values of object type data"
   ]
  },
  {
   "cell_type": "code",
   "execution_count": 7,
   "id": "a377526c",
   "metadata": {},
   "outputs": [
    {
     "name": "stdout",
     "output_type": "stream",
     "text": [
      "12\n",
      "5\n",
      "6\n",
      "128\n",
      "368\n",
      "5\n",
      "10\n"
     ]
    }
   ],
   "source": [
    "print(data['Airline'].nunique())\n",
    "print(data['Source'].nunique())\n",
    "print(data['Destination'].nunique())\n",
    "print(data['Route'].nunique())\n",
    "print(data['Duration'].nunique())\n",
    "print(data['Total_Stops'].nunique())\n",
    "print(data['Additional_Info'].nunique())"
   ]
  },
  {
   "cell_type": "markdown",
   "id": "eb6ea2da",
   "metadata": {},
   "source": [
    "Encode all these values"
   ]
  },
  {
   "cell_type": "code",
   "execution_count": 8,
   "id": "f4fff531",
   "metadata": {},
   "outputs": [
    {
     "name": "stdout",
     "output_type": "stream",
     "text": [
      "['No info' 'In-flight meal not included' 'No check-in baggage included'\n",
      " '1 Short layover' 'No Info' '1 Long layover' 'Change airports'\n",
      " 'Business class' 'Red-eye flight' '2 Long layover']\n"
     ]
    }
   ],
   "source": [
    "print(data['Additional_Info'].unique())"
   ]
  },
  {
   "cell_type": "markdown",
   "id": "cd508bca",
   "metadata": {},
   "source": [
    "Thre are 10 different additional_info data. So, use it and avoid deleting it"
   ]
  },
  {
   "cell_type": "markdown",
   "id": "dbd7ea44",
   "metadata": {},
   "source": [
    "## Treating NaN values"
   ]
  },
  {
   "cell_type": "code",
   "execution_count": 9,
   "id": "966450cc",
   "metadata": {},
   "outputs": [
    {
     "data": {
      "text/plain": [
       "Airline            0\n",
       "Source             0\n",
       "Destination        0\n",
       "Route              1\n",
       "Duration           0\n",
       "Total_Stops        1\n",
       "Additional_Info    0\n",
       "Price              0\n",
       "dtype: int64"
      ]
     },
     "execution_count": 9,
     "metadata": {},
     "output_type": "execute_result"
    }
   ],
   "source": [
    "data.isnull().sum()"
   ]
  },
  {
   "cell_type": "markdown",
   "id": "3d6230ad",
   "metadata": {},
   "source": [
    "Since there is only 2 NaN values present, do not treat it, remove it to avoid biased solution"
   ]
  },
  {
   "cell_type": "code",
   "execution_count": 10,
   "id": "8c4b1b46",
   "metadata": {},
   "outputs": [],
   "source": [
    "data = data.dropna(axis = 0)"
   ]
  },
  {
   "cell_type": "markdown",
   "id": "0e2cb90b",
   "metadata": {},
   "source": [
    "Dropped the NaN values"
   ]
  },
  {
   "cell_type": "code",
   "execution_count": 11,
   "id": "00c2ef8b",
   "metadata": {},
   "outputs": [
    {
     "data": {
      "text/plain": [
       "(10682, 8)"
      ]
     },
     "execution_count": 11,
     "metadata": {},
     "output_type": "execute_result"
    }
   ],
   "source": [
    "data.shape"
   ]
  },
  {
   "cell_type": "markdown",
   "id": "fb6f0227",
   "metadata": {},
   "source": [
    "Only 1 row has the NaN value which is in both the column\n",
    "   - Route\n",
    "   - Total_stops"
   ]
  },
  {
   "cell_type": "markdown",
   "id": "0b5046fb",
   "metadata": {},
   "source": [
    "## Visualisation of categorical variable"
   ]
  },
  {
   "cell_type": "code",
   "execution_count": 12,
   "id": "ddad8034",
   "metadata": {},
   "outputs": [],
   "source": [
    "class_data = data[['Airline','Source','Destination','Total_Stops','Additional_Info','Route','Duration']]"
   ]
  },
  {
   "cell_type": "code",
   "execution_count": 13,
   "id": "caa1393f",
   "metadata": {
    "scrolled": false
   },
   "outputs": [
    {
     "data": {
      "text/plain": [
       "<function matplotlib.pyplot.show(close=None, block=None)>"
      ]
     },
     "execution_count": 13,
     "metadata": {},
     "output_type": "execute_result"
    },
    {
     "data": {
      "image/png": "[encoded data removed]",
      "text/plain": [
       "<Figure size 2160x3600 with 7 Axes>"
      ]
     },
     "metadata": {},
     "output_type": "display_data"
    }
   ],
   "source": [
    "plt.figure(figsize = (30,50), facecolor = 'white')\n",
    "plotnumber = 1\n",
    "\n",
    "for column in class_data:\n",
    "    if plotnumber <=8:\n",
    "        ax =  plt.subplot(4,2,plotnumber)\n",
    "        sns.countplot(x = column, data = class_data)\n",
    "        plt.xlabel(column, fontsize = 20)\n",
    "    plotnumber+=1\n",
    "plt.show"
   ]
  },
  {
   "cell_type": "markdown",
   "id": "7d04c0ff",
   "metadata": {},
   "source": [
    "- Jet airways has the highest number data available in the dataset\n",
    "- Souce- Delhi is the highest\n",
    "- Destination- Cochin is the highest\n",
    "- 1stop flight data is more compared to others\n",
    "- No-info is more in Additional-info column\n",
    "- There are various routes where certain routes are more and certain are less in number\n",
    "- Same way for duration, certain has high data, certain has lower data\n",
    "## Visualisation of Continuous variable"
   ]
  },
  {
   "cell_type": "code",
   "execution_count": 14,
   "id": "bd41719b",
   "metadata": {},
   "outputs": [],
   "source": [
    "continuous_data = data.drop(['Airline','Source','Destination','Total_Stops','Additional_Info','Route','Duration'],axis=1)"
   ]
  },
  {
   "cell_type": "code",
   "execution_count": 15,
   "id": "6919aad7",
   "metadata": {},
   "outputs": [
    {
     "data": {
      "text/plain": [
       "<function matplotlib.pyplot.show(close=None, block=None)>"
      ]
     },
     "execution_count": 15,
     "metadata": {},
     "output_type": "execute_result"
    },
    {
     "data": {
      "image/png": "[encoded data removed]",
      "text/plain": [
       "<Figure size 1440x3600 with 1 Axes>"
      ]
     },
     "metadata": {},
     "output_type": "display_data"
    }
   ],
   "source": [
    "plt.figure(figsize = (20,50), facecolor = 'white')\n",
    "plotnumber = 1\n",
    "\n",
    "for column in continuous_data:\n",
    "    if plotnumber <=45:\n",
    "        ax =  plt.subplot(15,3,plotnumber)\n",
    "        sns.distplot(continuous_data[column])\n",
    "        plt.xlabel(column, fontsize = 20)\n",
    "    plotnumber+=1\n",
    "plt.show"
   ]
  },
  {
   "cell_type": "markdown",
   "id": "afaae34d",
   "metadata": {},
   "source": [
    "The curve is standardised but with skewness"
   ]
  },
  {
   "cell_type": "markdown",
   "id": "e5032958",
   "metadata": {},
   "source": [
    "## Encoding"
   ]
  },
  {
   "cell_type": "code",
   "execution_count": 16,
   "id": "05809fa0",
   "metadata": {},
   "outputs": [
    {
     "data": {
      "text/plain": [
       "(2671, 10)"
      ]
     },
     "execution_count": 16,
     "metadata": {},
     "output_type": "execute_result"
    }
   ],
   "source": [
    "df = pd.read_excel(r\"C:\\Users\\Lenovo\\Desktop\\DS\\Project\\Flight_Ticket_Participant_Datasets\\Test_set.xlsx\")\n",
    "df.shape"
   ]
  },
  {
   "cell_type": "markdown",
   "id": "81676911",
   "metadata": {},
   "source": [
    "Load the predicting data and know the shape"
   ]
  },
  {
   "cell_type": "code",
   "execution_count": 17,
   "id": "974aac4c",
   "metadata": {},
   "outputs": [],
   "source": [
    "df = df.drop(['Date_of_Journey','Dep_Time','Arrival_Time'], axis = 1)"
   ]
  },
  {
   "cell_type": "markdown",
   "id": "1431a3fc",
   "metadata": {},
   "source": [
    "Dropped the columns which are not available in training dataset"
   ]
  },
  {
   "cell_type": "code",
   "execution_count": 18,
   "id": "3e4118c0",
   "metadata": {},
   "outputs": [],
   "source": [
    "z = pd.DataFrame()\n",
    "z = data.copy()"
   ]
  },
  {
   "cell_type": "code",
   "execution_count": 19,
   "id": "dea27a91",
   "metadata": {},
   "outputs": [],
   "source": [
    "z = z[['Airline','Source','Destination','Total_Stops','Additional_Info','Route','Duration']]"
   ]
  },
  {
   "cell_type": "markdown",
   "id": "3458ef4c",
   "metadata": {},
   "source": [
    "Removing price to encode the data because the predicting dataset does not have price"
   ]
  },
  {
   "cell_type": "code",
   "execution_count": 20,
   "id": "cd0dc8fd",
   "metadata": {},
   "outputs": [],
   "source": [
    "w = data['Price']"
   ]
  },
  {
   "cell_type": "markdown",
   "id": "75f5a94e",
   "metadata": {},
   "source": [
    "Assigning a variable to price"
   ]
  },
  {
   "cell_type": "code",
   "execution_count": 21,
   "id": "d5cb77ac",
   "metadata": {},
   "outputs": [],
   "source": [
    "daf = pd.concat([z,df],axis=0)"
   ]
  },
  {
   "cell_type": "markdown",
   "id": "a1fe4c27",
   "metadata": {},
   "source": [
    "Concat the predicting data and training data to "
   ]
  },
  {
   "cell_type": "code",
   "execution_count": 22,
   "id": "d6a2e84b",
   "metadata": {},
   "outputs": [],
   "source": [
    "from sklearn.preprocessing import OrdinalEncoder\n",
    "enc = OrdinalEncoder()"
   ]
  },
  {
   "cell_type": "code",
   "execution_count": 23,
   "id": "8e378a78",
   "metadata": {},
   "outputs": [
    {
     "data": {
      "text/html": [
       "<div>\n",
       "<style scoped>\n",
       "    .dataframe tbody tr th:only-of-type {\n",
       "        vertical-align: middle;\n",
       "    }\n",
       "\n",
       "    .dataframe tbody tr th {\n",
       "        vertical-align: top;\n",
       "    }\n",
       "\n",
       "    .dataframe thead th {\n",
       "        text-align: right;\n",
       "    }\n",
       "</style>\n",
       "<table border=\"1\" class=\"dataframe\">\n",
       "  <thead>\n",
       "    <tr style=\"text-align: right;\">\n",
       "      <th></th>\n",
       "      <th>Airline</th>\n",
       "      <th>Source</th>\n",
       "      <th>Destination</th>\n",
       "      <th>Total_Stops</th>\n",
       "      <th>Additional_Info</th>\n",
       "      <th>Route</th>\n",
       "      <th>Duration</th>\n",
       "    </tr>\n",
       "  </thead>\n",
       "  <tbody>\n",
       "    <tr>\n",
       "      <th>0</th>\n",
       "      <td>3.0</td>\n",
       "      <td>0.0</td>\n",
       "      <td>5.0</td>\n",
       "      <td>4.0</td>\n",
       "      <td>8.0</td>\n",
       "      <td>18.0</td>\n",
       "      <td>242.0</td>\n",
       "    </tr>\n",
       "    <tr>\n",
       "      <th>1</th>\n",
       "      <td>1.0</td>\n",
       "      <td>3.0</td>\n",
       "      <td>0.0</td>\n",
       "      <td>1.0</td>\n",
       "      <td>8.0</td>\n",
       "      <td>87.0</td>\n",
       "      <td>342.0</td>\n",
       "    </tr>\n",
       "    <tr>\n",
       "      <th>2</th>\n",
       "      <td>4.0</td>\n",
       "      <td>2.0</td>\n",
       "      <td>1.0</td>\n",
       "      <td>1.0</td>\n",
       "      <td>8.0</td>\n",
       "      <td>122.0</td>\n",
       "      <td>106.0</td>\n",
       "    </tr>\n",
       "    <tr>\n",
       "      <th>3</th>\n",
       "      <td>3.0</td>\n",
       "      <td>3.0</td>\n",
       "      <td>0.0</td>\n",
       "      <td>0.0</td>\n",
       "      <td>8.0</td>\n",
       "      <td>95.0</td>\n",
       "      <td>317.0</td>\n",
       "    </tr>\n",
       "    <tr>\n",
       "      <th>4</th>\n",
       "      <td>3.0</td>\n",
       "      <td>0.0</td>\n",
       "      <td>5.0</td>\n",
       "      <td>0.0</td>\n",
       "      <td>8.0</td>\n",
       "      <td>29.0</td>\n",
       "      <td>309.0</td>\n",
       "    </tr>\n",
       "    <tr>\n",
       "      <th>...</th>\n",
       "      <td>...</td>\n",
       "      <td>...</td>\n",
       "      <td>...</td>\n",
       "      <td>...</td>\n",
       "      <td>...</td>\n",
       "      <td>...</td>\n",
       "      <td>...</td>\n",
       "    </tr>\n",
       "    <tr>\n",
       "      <th>2666</th>\n",
       "      <td>1.0</td>\n",
       "      <td>3.0</td>\n",
       "      <td>0.0</td>\n",
       "      <td>0.0</td>\n",
       "      <td>8.0</td>\n",
       "      <td>76.0</td>\n",
       "      <td>168.0</td>\n",
       "    </tr>\n",
       "    <tr>\n",
       "      <th>2667</th>\n",
       "      <td>3.0</td>\n",
       "      <td>3.0</td>\n",
       "      <td>0.0</td>\n",
       "      <td>4.0</td>\n",
       "      <td>8.0</td>\n",
       "      <td>67.0</td>\n",
       "      <td>239.0</td>\n",
       "    </tr>\n",
       "    <tr>\n",
       "      <th>2668</th>\n",
       "      <td>4.0</td>\n",
       "      <td>2.0</td>\n",
       "      <td>1.0</td>\n",
       "      <td>0.0</td>\n",
       "      <td>8.0</td>\n",
       "      <td>108.0</td>\n",
       "      <td>332.0</td>\n",
       "    </tr>\n",
       "    <tr>\n",
       "      <th>2669</th>\n",
       "      <td>1.0</td>\n",
       "      <td>2.0</td>\n",
       "      <td>1.0</td>\n",
       "      <td>0.0</td>\n",
       "      <td>8.0</td>\n",
       "      <td>108.0</td>\n",
       "      <td>62.0</td>\n",
       "    </tr>\n",
       "    <tr>\n",
       "      <th>2670</th>\n",
       "      <td>6.0</td>\n",
       "      <td>2.0</td>\n",
       "      <td>1.0</td>\n",
       "      <td>0.0</td>\n",
       "      <td>8.0</td>\n",
       "      <td>108.0</td>\n",
       "      <td>51.0</td>\n",
       "    </tr>\n",
       "  </tbody>\n",
       "</table>\n",
       "<p>13353 rows × 7 columns</p>\n",
       "</div>"
      ],
      "text/plain": [
       "      Airline  Source  Destination  Total_Stops  Additional_Info  Route  \\\n",
       "0         3.0     0.0          5.0          4.0              8.0   18.0   \n",
       "1         1.0     3.0          0.0          1.0              8.0   87.0   \n",
       "2         4.0     2.0          1.0          1.0              8.0  122.0   \n",
       "3         3.0     3.0          0.0          0.0              8.0   95.0   \n",
       "4         3.0     0.0          5.0          0.0              8.0   29.0   \n",
       "...       ...     ...          ...          ...              ...    ...   \n",
       "2666      1.0     3.0          0.0          0.0              8.0   76.0   \n",
       "2667      3.0     3.0          0.0          4.0              8.0   67.0   \n",
       "2668      4.0     2.0          1.0          0.0              8.0  108.0   \n",
       "2669      1.0     2.0          1.0          0.0              8.0  108.0   \n",
       "2670      6.0     2.0          1.0          0.0              8.0  108.0   \n",
       "\n",
       "      Duration  \n",
       "0        242.0  \n",
       "1        342.0  \n",
       "2        106.0  \n",
       "3        317.0  \n",
       "4        309.0  \n",
       "...        ...  \n",
       "2666     168.0  \n",
       "2667     239.0  \n",
       "2668     332.0  \n",
       "2669      62.0  \n",
       "2670      51.0  \n",
       "\n",
       "[13353 rows x 7 columns]"
      ]
     },
     "execution_count": 23,
     "metadata": {},
     "output_type": "execute_result"
    }
   ],
   "source": [
    "for i in daf.columns:\n",
    "    if daf[i].dtypes =='object':\n",
    "        daf[i] = enc.fit_transform(daf[i].values.reshape(-1,1))\n",
    "daf"
   ]
  },
  {
   "cell_type": "markdown",
   "id": "db37a0c4",
   "metadata": {},
   "source": [
    "Data is encoded using ordinal encoder"
   ]
  },
  {
   "cell_type": "code",
   "execution_count": 24,
   "id": "11c8ed4b",
   "metadata": {},
   "outputs": [],
   "source": [
    "data = daf.iloc[:10682,:]\n",
    "df = daf.iloc[10683:,:]"
   ]
  },
  {
   "cell_type": "markdown",
   "id": "6dc570d2",
   "metadata": {},
   "source": [
    "Thus the training data and predicitng data are encoded"
   ]
  },
  {
   "cell_type": "code",
   "execution_count": 25,
   "id": "111e71aa",
   "metadata": {},
   "outputs": [],
   "source": [
    "pri = pd.Series(w)\n",
    "data['Price'] = pri.values"
   ]
  },
  {
   "cell_type": "markdown",
   "id": "4fcf60c2",
   "metadata": {},
   "source": [
    "Adding Price to the dataset"
   ]
  },
  {
   "cell_type": "markdown",
   "id": "a46d098b",
   "metadata": {},
   "source": [
    "## Describing the data after encoding"
   ]
  },
  {
   "cell_type": "code",
   "execution_count": 26,
   "id": "d2c0f01c",
   "metadata": {},
   "outputs": [
    {
     "data": {
      "text/html": [
       "<div>\n",
       "<style scoped>\n",
       "    .dataframe tbody tr th:only-of-type {\n",
       "        vertical-align: middle;\n",
       "    }\n",
       "\n",
       "    .dataframe tbody tr th {\n",
       "        vertical-align: top;\n",
       "    }\n",
       "\n",
       "    .dataframe thead th {\n",
       "        text-align: right;\n",
       "    }\n",
       "</style>\n",
       "<table border=\"1\" class=\"dataframe\">\n",
       "  <thead>\n",
       "    <tr style=\"text-align: right;\">\n",
       "      <th></th>\n",
       "      <th>Airline</th>\n",
       "      <th>Source</th>\n",
       "      <th>Destination</th>\n",
       "      <th>Total_Stops</th>\n",
       "      <th>Additional_Info</th>\n",
       "      <th>Route</th>\n",
       "      <th>Duration</th>\n",
       "      <th>Price</th>\n",
       "    </tr>\n",
       "  </thead>\n",
       "  <tbody>\n",
       "    <tr>\n",
       "      <th>count</th>\n",
       "      <td>10682.000000</td>\n",
       "      <td>10682.000000</td>\n",
       "      <td>10682.000000</td>\n",
       "      <td>10682.000000</td>\n",
       "      <td>10682.000000</td>\n",
       "      <td>10682.000000</td>\n",
       "      <td>10682.000000</td>\n",
       "      <td>10682.000000</td>\n",
       "    </tr>\n",
       "    <tr>\n",
       "      <th>mean</th>\n",
       "      <td>3.966205</td>\n",
       "      <td>1.952256</td>\n",
       "      <td>1.436154</td>\n",
       "      <td>1.458248</td>\n",
       "      <td>7.392998</td>\n",
       "      <td>77.553548</td>\n",
       "      <td>196.396087</td>\n",
       "      <td>9087.214567</td>\n",
       "    </tr>\n",
       "    <tr>\n",
       "      <th>std</th>\n",
       "      <td>2.352090</td>\n",
       "      <td>1.177276</td>\n",
       "      <td>1.474845</td>\n",
       "      <td>1.806320</td>\n",
       "      <td>1.214254</td>\n",
       "      <td>38.249250</td>\n",
       "      <td>110.701411</td>\n",
       "      <td>4611.548810</td>\n",
       "    </tr>\n",
       "    <tr>\n",
       "      <th>min</th>\n",
       "      <td>0.000000</td>\n",
       "      <td>0.000000</td>\n",
       "      <td>0.000000</td>\n",
       "      <td>0.000000</td>\n",
       "      <td>0.000000</td>\n",
       "      <td>0.000000</td>\n",
       "      <td>0.000000</td>\n",
       "      <td>1759.000000</td>\n",
       "    </tr>\n",
       "    <tr>\n",
       "      <th>25%</th>\n",
       "      <td>3.000000</td>\n",
       "      <td>2.000000</td>\n",
       "      <td>0.000000</td>\n",
       "      <td>0.000000</td>\n",
       "      <td>8.000000</td>\n",
       "      <td>49.000000</td>\n",
       "      <td>106.000000</td>\n",
       "      <td>5277.000000</td>\n",
       "    </tr>\n",
       "    <tr>\n",
       "      <th>50%</th>\n",
       "      <td>4.000000</td>\n",
       "      <td>2.000000</td>\n",
       "      <td>1.000000</td>\n",
       "      <td>0.000000</td>\n",
       "      <td>8.000000</td>\n",
       "      <td>76.000000</td>\n",
       "      <td>235.000000</td>\n",
       "      <td>8372.000000</td>\n",
       "    </tr>\n",
       "    <tr>\n",
       "      <th>75%</th>\n",
       "      <td>4.000000</td>\n",
       "      <td>3.000000</td>\n",
       "      <td>2.000000</td>\n",
       "      <td>4.000000</td>\n",
       "      <td>8.000000</td>\n",
       "      <td>108.000000</td>\n",
       "      <td>284.000000</td>\n",
       "      <td>12373.000000</td>\n",
       "    </tr>\n",
       "    <tr>\n",
       "      <th>max</th>\n",
       "      <td>11.000000</td>\n",
       "      <td>4.000000</td>\n",
       "      <td>5.000000</td>\n",
       "      <td>4.000000</td>\n",
       "      <td>9.000000</td>\n",
       "      <td>131.000000</td>\n",
       "      <td>373.000000</td>\n",
       "      <td>79512.000000</td>\n",
       "    </tr>\n",
       "  </tbody>\n",
       "</table>\n",
       "</div>"
      ],
      "text/plain": [
       "            Airline        Source   Destination   Total_Stops  \\\n",
       "count  10682.000000  10682.000000  10682.000000  10682.000000   \n",
       "mean       3.966205      1.952256      1.436154      1.458248   \n",
       "std        2.352090      1.177276      1.474845      1.806320   \n",
       "min        0.000000      0.000000      0.000000      0.000000   \n",
       "25%        3.000000      2.000000      0.000000      0.000000   \n",
       "50%        4.000000      2.000000      1.000000      0.000000   \n",
       "75%        4.000000      3.000000      2.000000      4.000000   \n",
       "max       11.000000      4.000000      5.000000      4.000000   \n",
       "\n",
       "       Additional_Info         Route      Duration         Price  \n",
       "count     10682.000000  10682.000000  10682.000000  10682.000000  \n",
       "mean          7.392998     77.553548    196.396087   9087.214567  \n",
       "std           1.214254     38.249250    110.701411   4611.548810  \n",
       "min           0.000000      0.000000      0.000000   1759.000000  \n",
       "25%           8.000000     49.000000    106.000000   5277.000000  \n",
       "50%           8.000000     76.000000    235.000000   8372.000000  \n",
       "75%           8.000000    108.000000    284.000000  12373.000000  \n",
       "max           9.000000    131.000000    373.000000  79512.000000  "
      ]
     },
     "execution_count": 26,
     "metadata": {},
     "output_type": "execute_result"
    }
   ],
   "source": [
    "data.describe()"
   ]
  },
  {
   "cell_type": "markdown",
   "id": "fef79d3c",
   "metadata": {},
   "source": [
    "The data looks good but has to be standardised before fitting into a model\n",
    "## Correlation"
   ]
  },
  {
   "cell_type": "code",
   "execution_count": 27,
   "id": "dea71b9b",
   "metadata": {},
   "outputs": [
    {
     "data": {
      "image/png": "[encoded data removed]",
      "text/plain": [
       "<Figure size 1584x864 with 2 Axes>"
      ]
     },
     "metadata": {
      "needs_background": "light"
     },
     "output_type": "display_data"
    }
   ],
   "source": [
    "corr_mat = data.corr()\n",
    "plt.figure(figsize=[22,12])\n",
    "sns.heatmap(corr_mat,annot = True)\n",
    "plt.title('Correlation Matrix')\n",
    "plt.show()"
   ]
  },
  {
   "cell_type": "markdown",
   "id": "16c7eb98",
   "metadata": {},
   "source": [
    "There is no strong correlation is found"
   ]
  },
  {
   "cell_type": "markdown",
   "id": "48253c2a",
   "metadata": {},
   "source": [
    "## Collinearity"
   ]
  },
  {
   "cell_type": "code",
   "execution_count": 28,
   "id": "291e90f7",
   "metadata": {},
   "outputs": [
    {
     "data": {
      "text/plain": [
       "<function matplotlib.pyplot.show(close=None, block=None)>"
      ]
     },
     "execution_count": 28,
     "metadata": {},
     "output_type": "execute_result"
    },
    {
     "data": {
      "image/png": "[encoded data removed]",
      "text/plain": [
       "<Figure size 1584x864 with 2 Axes>"
      ]
     },
     "metadata": {
      "needs_background": "light"
     },
     "output_type": "display_data"
    }
   ],
   "source": [
    "data_corr = data.corr().abs()\n",
    "plt.figure (figsize = (22,12))\n",
    "sns.heatmap(data_corr,annot = True, annot_kws = {'size':8}) \n",
    "plt.show"
   ]
  },
  {
   "cell_type": "markdown",
   "id": "4b51edbd",
   "metadata": {},
   "source": [
    "There is no high collinearity is find between the variables"
   ]
  },
  {
   "cell_type": "markdown",
   "id": "f546cba8",
   "metadata": {},
   "source": [
    "## Treat Skewness"
   ]
  },
  {
   "cell_type": "code",
   "execution_count": 29,
   "id": "2fde9d6e",
   "metadata": {},
   "outputs": [],
   "source": [
    "x = data.drop('Price',axis=1)\n",
    "y = data['Price']"
   ]
  },
  {
   "cell_type": "code",
   "execution_count": 30,
   "id": "777f444d",
   "metadata": {},
   "outputs": [
    {
     "data": {
      "text/plain": [
       "Additional_Info   -1.779689\n",
       "Route             -0.521644\n",
       "Source            -0.424023\n",
       "Duration          -0.196254\n",
       "Total_Stops        0.631532\n",
       "Airline            0.731057\n",
       "Destination        1.244046\n",
       "dtype: float64"
      ]
     },
     "execution_count": 30,
     "metadata": {},
     "output_type": "execute_result"
    }
   ],
   "source": [
    "x.skew()\n",
    "x.skew().sort_values()"
   ]
  },
  {
   "cell_type": "markdown",
   "id": "e5b97b15",
   "metadata": {},
   "source": [
    "There is no high level of skewness present in the data"
   ]
  },
  {
   "cell_type": "markdown",
   "id": "05781491",
   "metadata": {},
   "source": [
    "## Treat Outliers"
   ]
  },
  {
   "cell_type": "code",
   "execution_count": 31,
   "id": "56b9b7db",
   "metadata": {},
   "outputs": [
    {
     "data": {
      "image/png": "[encoded data removed]",
      "text/plain": [
       "<Figure size 1080x3600 with 7 Axes>"
      ]
     },
     "metadata": {
      "needs_background": "light"
     },
     "output_type": "display_data"
    }
   ],
   "source": [
    "plt.figure(figsize=(15,50))\n",
    "graph = 1\n",
    "for column in x:\n",
    "    if graph<=9:\n",
    "        ax = plt.subplot(3,3,graph)\n",
    "        sns.boxplot(x[column],orient = 'V')\n",
    "        plt.xlabel(column, fontsize=10)\n",
    "    graph+=1\n",
    "plt.show()"
   ]
  },
  {
   "cell_type": "markdown",
   "id": "c60da272",
   "metadata": {},
   "source": [
    "There is outliers in \n",
    "- Airline\n",
    "- Source\n",
    "- Additional_info"
   ]
  },
  {
   "cell_type": "markdown",
   "id": "ff014be9",
   "metadata": {},
   "source": [
    "## Quantify"
   ]
  },
  {
   "cell_type": "code",
   "execution_count": 32,
   "id": "998a23f0",
   "metadata": {},
   "outputs": [
    {
     "data": {
      "text/plain": [
       "False"
      ]
     },
     "execution_count": 32,
     "metadata": {},
     "output_type": "execute_result"
    }
   ],
   "source": [
    "from scipy.stats import zscore\n",
    "(np.abs(zscore(x))<3).all()"
   ]
  },
  {
   "cell_type": "code",
   "execution_count": 33,
   "id": "b908e04c",
   "metadata": {
    "scrolled": true
   },
   "outputs": [
    {
     "data": {
      "text/html": [
       "<div>\n",
       "<style scoped>\n",
       "    .dataframe tbody tr th:only-of-type {\n",
       "        vertical-align: middle;\n",
       "    }\n",
       "\n",
       "    .dataframe tbody tr th {\n",
       "        vertical-align: top;\n",
       "    }\n",
       "\n",
       "    .dataframe thead th {\n",
       "        text-align: right;\n",
       "    }\n",
       "</style>\n",
       "<table border=\"1\" class=\"dataframe\">\n",
       "  <thead>\n",
       "    <tr style=\"text-align: right;\">\n",
       "      <th></th>\n",
       "      <th>Airline</th>\n",
       "      <th>Source</th>\n",
       "      <th>Destination</th>\n",
       "      <th>Total_Stops</th>\n",
       "      <th>Additional_Info</th>\n",
       "      <th>Route</th>\n",
       "      <th>Duration</th>\n",
       "      <th>Price</th>\n",
       "      <th>Airline_zscore</th>\n",
       "      <th>is_outlier</th>\n",
       "      <th>Source_zscore</th>\n",
       "      <th>Additional_Info_zscore</th>\n",
       "    </tr>\n",
       "  </thead>\n",
       "  <tbody>\n",
       "    <tr>\n",
       "      <th>785</th>\n",
       "      <td>1.0</td>\n",
       "      <td>0.0</td>\n",
       "      <td>5.0</td>\n",
       "      <td>1.0</td>\n",
       "      <td>1.0</td>\n",
       "      <td>4.0</td>\n",
       "      <td>54.0</td>\n",
       "      <td>26743</td>\n",
       "      <td>-1.261152</td>\n",
       "      <td>True</td>\n",
       "      <td>-1.658359</td>\n",
       "      <td>-5.265207</td>\n",
       "    </tr>\n",
       "    <tr>\n",
       "      <th>1043</th>\n",
       "      <td>1.0</td>\n",
       "      <td>0.0</td>\n",
       "      <td>5.0</td>\n",
       "      <td>0.0</td>\n",
       "      <td>0.0</td>\n",
       "      <td>15.0</td>\n",
       "      <td>358.0</td>\n",
       "      <td>14594</td>\n",
       "      <td>-1.261152</td>\n",
       "      <td>True</td>\n",
       "      <td>-1.658359</td>\n",
       "      <td>-6.088796</td>\n",
       "    </tr>\n",
       "    <tr>\n",
       "      <th>2079</th>\n",
       "      <td>1.0</td>\n",
       "      <td>0.0</td>\n",
       "      <td>5.0</td>\n",
       "      <td>0.0</td>\n",
       "      <td>0.0</td>\n",
       "      <td>0.0</td>\n",
       "      <td>123.0</td>\n",
       "      <td>14752</td>\n",
       "      <td>-1.261152</td>\n",
       "      <td>True</td>\n",
       "      <td>-1.658359</td>\n",
       "      <td>-6.088796</td>\n",
       "    </tr>\n",
       "    <tr>\n",
       "      <th>2405</th>\n",
       "      <td>4.0</td>\n",
       "      <td>0.0</td>\n",
       "      <td>5.0</td>\n",
       "      <td>0.0</td>\n",
       "      <td>0.0</td>\n",
       "      <td>5.0</td>\n",
       "      <td>89.0</td>\n",
       "      <td>22270</td>\n",
       "      <td>0.014369</td>\n",
       "      <td>True</td>\n",
       "      <td>-1.658359</td>\n",
       "      <td>-6.088796</td>\n",
       "    </tr>\n",
       "    <tr>\n",
       "      <th>2481</th>\n",
       "      <td>1.0</td>\n",
       "      <td>0.0</td>\n",
       "      <td>5.0</td>\n",
       "      <td>0.0</td>\n",
       "      <td>0.0</td>\n",
       "      <td>0.0</td>\n",
       "      <td>162.0</td>\n",
       "      <td>12599</td>\n",
       "      <td>-1.261152</td>\n",
       "      <td>True</td>\n",
       "      <td>-1.658359</td>\n",
       "      <td>-6.088796</td>\n",
       "    </tr>\n",
       "    <tr>\n",
       "      <th>2495</th>\n",
       "      <td>4.0</td>\n",
       "      <td>0.0</td>\n",
       "      <td>5.0</td>\n",
       "      <td>0.0</td>\n",
       "      <td>0.0</td>\n",
       "      <td>5.0</td>\n",
       "      <td>56.0</td>\n",
       "      <td>26890</td>\n",
       "      <td>0.014369</td>\n",
       "      <td>True</td>\n",
       "      <td>-1.658359</td>\n",
       "      <td>-6.088796</td>\n",
       "    </tr>\n",
       "    <tr>\n",
       "      <th>2556</th>\n",
       "      <td>4.0</td>\n",
       "      <td>0.0</td>\n",
       "      <td>5.0</td>\n",
       "      <td>0.0</td>\n",
       "      <td>0.0</td>\n",
       "      <td>5.0</td>\n",
       "      <td>88.0</td>\n",
       "      <td>25735</td>\n",
       "      <td>0.014369</td>\n",
       "      <td>True</td>\n",
       "      <td>-1.658359</td>\n",
       "      <td>-6.088796</td>\n",
       "    </tr>\n",
       "    <tr>\n",
       "      <th>2924</th>\n",
       "      <td>5.0</td>\n",
       "      <td>0.0</td>\n",
       "      <td>5.0</td>\n",
       "      <td>0.0</td>\n",
       "      <td>3.0</td>\n",
       "      <td>5.0</td>\n",
       "      <td>320.0</td>\n",
       "      <td>79512</td>\n",
       "      <td>0.439542</td>\n",
       "      <td>True</td>\n",
       "      <td>-1.658359</td>\n",
       "      <td>-3.618027</td>\n",
       "    </tr>\n",
       "    <tr>\n",
       "      <th>3032</th>\n",
       "      <td>4.0</td>\n",
       "      <td>0.0</td>\n",
       "      <td>5.0</td>\n",
       "      <td>0.0</td>\n",
       "      <td>3.0</td>\n",
       "      <td>2.0</td>\n",
       "      <td>331.0</td>\n",
       "      <td>28097</td>\n",
       "      <td>0.014369</td>\n",
       "      <td>True</td>\n",
       "      <td>-1.658359</td>\n",
       "      <td>-3.618027</td>\n",
       "    </tr>\n",
       "    <tr>\n",
       "      <th>3111</th>\n",
       "      <td>4.0</td>\n",
       "      <td>0.0</td>\n",
       "      <td>5.0</td>\n",
       "      <td>0.0</td>\n",
       "      <td>0.0</td>\n",
       "      <td>5.0</td>\n",
       "      <td>369.0</td>\n",
       "      <td>27992</td>\n",
       "      <td>0.014369</td>\n",
       "      <td>True</td>\n",
       "      <td>-1.658359</td>\n",
       "      <td>-6.088796</td>\n",
       "    </tr>\n",
       "    <tr>\n",
       "      <th>3700</th>\n",
       "      <td>4.0</td>\n",
       "      <td>0.0</td>\n",
       "      <td>5.0</td>\n",
       "      <td>0.0</td>\n",
       "      <td>0.0</td>\n",
       "      <td>5.0</td>\n",
       "      <td>7.0</td>\n",
       "      <td>31825</td>\n",
       "      <td>0.014369</td>\n",
       "      <td>True</td>\n",
       "      <td>-1.658359</td>\n",
       "      <td>-6.088796</td>\n",
       "    </tr>\n",
       "    <tr>\n",
       "      <th>3788</th>\n",
       "      <td>1.0</td>\n",
       "      <td>0.0</td>\n",
       "      <td>5.0</td>\n",
       "      <td>0.0</td>\n",
       "      <td>0.0</td>\n",
       "      <td>28.0</td>\n",
       "      <td>183.0</td>\n",
       "      <td>15434</td>\n",
       "      <td>-1.261152</td>\n",
       "      <td>True</td>\n",
       "      <td>-1.658359</td>\n",
       "      <td>-6.088796</td>\n",
       "    </tr>\n",
       "    <tr>\n",
       "      <th>4521</th>\n",
       "      <td>4.0</td>\n",
       "      <td>0.0</td>\n",
       "      <td>5.0</td>\n",
       "      <td>0.0</td>\n",
       "      <td>0.0</td>\n",
       "      <td>5.0</td>\n",
       "      <td>83.0</td>\n",
       "      <td>25735</td>\n",
       "      <td>0.014369</td>\n",
       "      <td>True</td>\n",
       "      <td>-1.658359</td>\n",
       "      <td>-6.088796</td>\n",
       "    </tr>\n",
       "    <tr>\n",
       "      <th>5013</th>\n",
       "      <td>4.0</td>\n",
       "      <td>0.0</td>\n",
       "      <td>5.0</td>\n",
       "      <td>0.0</td>\n",
       "      <td>0.0</td>\n",
       "      <td>5.0</td>\n",
       "      <td>18.0</td>\n",
       "      <td>31825</td>\n",
       "      <td>0.014369</td>\n",
       "      <td>True</td>\n",
       "      <td>-1.658359</td>\n",
       "      <td>-6.088796</td>\n",
       "    </tr>\n",
       "    <tr>\n",
       "      <th>5372</th>\n",
       "      <td>5.0</td>\n",
       "      <td>0.0</td>\n",
       "      <td>5.0</td>\n",
       "      <td>0.0</td>\n",
       "      <td>3.0</td>\n",
       "      <td>5.0</td>\n",
       "      <td>333.0</td>\n",
       "      <td>62427</td>\n",
       "      <td>0.439542</td>\n",
       "      <td>True</td>\n",
       "      <td>-1.658359</td>\n",
       "      <td>-3.618027</td>\n",
       "    </tr>\n",
       "    <tr>\n",
       "      <th>5628</th>\n",
       "      <td>4.0</td>\n",
       "      <td>2.0</td>\n",
       "      <td>1.0</td>\n",
       "      <td>0.0</td>\n",
       "      <td>0.0</td>\n",
       "      <td>108.0</td>\n",
       "      <td>12.0</td>\n",
       "      <td>18581</td>\n",
       "      <td>0.014369</td>\n",
       "      <td>True</td>\n",
       "      <td>0.040556</td>\n",
       "      <td>-6.088796</td>\n",
       "    </tr>\n",
       "    <tr>\n",
       "      <th>6024</th>\n",
       "      <td>1.0</td>\n",
       "      <td>0.0</td>\n",
       "      <td>5.0</td>\n",
       "      <td>0.0</td>\n",
       "      <td>0.0</td>\n",
       "      <td>28.0</td>\n",
       "      <td>146.0</td>\n",
       "      <td>14594</td>\n",
       "      <td>-1.261152</td>\n",
       "      <td>True</td>\n",
       "      <td>-1.658359</td>\n",
       "      <td>-6.088796</td>\n",
       "    </tr>\n",
       "    <tr>\n",
       "      <th>6336</th>\n",
       "      <td>8.0</td>\n",
       "      <td>0.0</td>\n",
       "      <td>5.0</td>\n",
       "      <td>0.0</td>\n",
       "      <td>0.0</td>\n",
       "      <td>24.0</td>\n",
       "      <td>361.0</td>\n",
       "      <td>7744</td>\n",
       "      <td>1.715063</td>\n",
       "      <td>True</td>\n",
       "      <td>-1.658359</td>\n",
       "      <td>-6.088796</td>\n",
       "    </tr>\n",
       "    <tr>\n",
       "      <th>6576</th>\n",
       "      <td>4.0</td>\n",
       "      <td>0.0</td>\n",
       "      <td>5.0</td>\n",
       "      <td>0.0</td>\n",
       "      <td>0.0</td>\n",
       "      <td>5.0</td>\n",
       "      <td>57.0</td>\n",
       "      <td>31825</td>\n",
       "      <td>0.014369</td>\n",
       "      <td>True</td>\n",
       "      <td>-1.658359</td>\n",
       "      <td>-6.088796</td>\n",
       "    </tr>\n",
       "    <tr>\n",
       "      <th>7724</th>\n",
       "      <td>4.0</td>\n",
       "      <td>0.0</td>\n",
       "      <td>5.0</td>\n",
       "      <td>0.0</td>\n",
       "      <td>0.0</td>\n",
       "      <td>5.0</td>\n",
       "      <td>28.0</td>\n",
       "      <td>27992</td>\n",
       "      <td>0.014369</td>\n",
       "      <td>True</td>\n",
       "      <td>-1.658359</td>\n",
       "      <td>-6.088796</td>\n",
       "    </tr>\n",
       "    <tr>\n",
       "      <th>8957</th>\n",
       "      <td>4.0</td>\n",
       "      <td>0.0</td>\n",
       "      <td>5.0</td>\n",
       "      <td>0.0</td>\n",
       "      <td>0.0</td>\n",
       "      <td>5.0</td>\n",
       "      <td>124.0</td>\n",
       "      <td>26890</td>\n",
       "      <td>0.014369</td>\n",
       "      <td>True</td>\n",
       "      <td>-1.658359</td>\n",
       "      <td>-6.088796</td>\n",
       "    </tr>\n",
       "    <tr>\n",
       "      <th>9019</th>\n",
       "      <td>4.0</td>\n",
       "      <td>0.0</td>\n",
       "      <td>5.0</td>\n",
       "      <td>0.0</td>\n",
       "      <td>0.0</td>\n",
       "      <td>5.0</td>\n",
       "      <td>30.0</td>\n",
       "      <td>31825</td>\n",
       "      <td>0.014369</td>\n",
       "      <td>True</td>\n",
       "      <td>-1.658359</td>\n",
       "      <td>-6.088796</td>\n",
       "    </tr>\n",
       "    <tr>\n",
       "      <th>9657</th>\n",
       "      <td>1.0</td>\n",
       "      <td>0.0</td>\n",
       "      <td>5.0</td>\n",
       "      <td>0.0</td>\n",
       "      <td>0.0</td>\n",
       "      <td>24.0</td>\n",
       "      <td>69.0</td>\n",
       "      <td>10981</td>\n",
       "      <td>-1.261152</td>\n",
       "      <td>True</td>\n",
       "      <td>-1.658359</td>\n",
       "      <td>-6.088796</td>\n",
       "    </tr>\n",
       "    <tr>\n",
       "      <th>10364</th>\n",
       "      <td>5.0</td>\n",
       "      <td>0.0</td>\n",
       "      <td>5.0</td>\n",
       "      <td>0.0</td>\n",
       "      <td>3.0</td>\n",
       "      <td>28.0</td>\n",
       "      <td>308.0</td>\n",
       "      <td>57209</td>\n",
       "      <td>0.439542</td>\n",
       "      <td>True</td>\n",
       "      <td>-1.658359</td>\n",
       "      <td>-3.618027</td>\n",
       "    </tr>\n",
       "    <tr>\n",
       "      <th>10511</th>\n",
       "      <td>1.0</td>\n",
       "      <td>0.0</td>\n",
       "      <td>5.0</td>\n",
       "      <td>1.0</td>\n",
       "      <td>2.0</td>\n",
       "      <td>4.0</td>\n",
       "      <td>201.0</td>\n",
       "      <td>26480</td>\n",
       "      <td>-1.261152</td>\n",
       "      <td>True</td>\n",
       "      <td>-1.658359</td>\n",
       "      <td>-4.441617</td>\n",
       "    </tr>\n",
       "  </tbody>\n",
       "</table>\n",
       "</div>"
      ],
      "text/plain": [
       "       Airline  Source  Destination  Total_Stops  Additional_Info  Route  \\\n",
       "785        1.0     0.0          5.0          1.0              1.0    4.0   \n",
       "1043       1.0     0.0          5.0          0.0              0.0   15.0   \n",
       "2079       1.0     0.0          5.0          0.0              0.0    0.0   \n",
       "2405       4.0     0.0          5.0          0.0              0.0    5.0   \n",
       "2481       1.0     0.0          5.0          0.0              0.0    0.0   \n",
       "2495       4.0     0.0          5.0          0.0              0.0    5.0   \n",
       "2556       4.0     0.0          5.0          0.0              0.0    5.0   \n",
       "2924       5.0     0.0          5.0          0.0              3.0    5.0   \n",
       "3032       4.0     0.0          5.0          0.0              3.0    2.0   \n",
       "3111       4.0     0.0          5.0          0.0              0.0    5.0   \n",
       "3700       4.0     0.0          5.0          0.0              0.0    5.0   \n",
       "3788       1.0     0.0          5.0          0.0              0.0   28.0   \n",
       "4521       4.0     0.0          5.0          0.0              0.0    5.0   \n",
       "5013       4.0     0.0          5.0          0.0              0.0    5.0   \n",
       "5372       5.0     0.0          5.0          0.0              3.0    5.0   \n",
       "5628       4.0     2.0          1.0          0.0              0.0  108.0   \n",
       "6024       1.0     0.0          5.0          0.0              0.0   28.0   \n",
       "6336       8.0     0.0          5.0          0.0              0.0   24.0   \n",
       "6576       4.0     0.0          5.0          0.0              0.0    5.0   \n",
       "7724       4.0     0.0          5.0          0.0              0.0    5.0   \n",
       "8957       4.0     0.0          5.0          0.0              0.0    5.0   \n",
       "9019       4.0     0.0          5.0          0.0              0.0    5.0   \n",
       "9657       1.0     0.0          5.0          0.0              0.0   24.0   \n",
       "10364      5.0     0.0          5.0          0.0              3.0   28.0   \n",
       "10511      1.0     0.0          5.0          1.0              2.0    4.0   \n",
       "\n",
       "       Duration  Price  Airline_zscore  is_outlier  Source_zscore  \\\n",
       "785        54.0  26743       -1.261152        True      -1.658359   \n",
       "1043      358.0  14594       -1.261152        True      -1.658359   \n",
       "2079      123.0  14752       -1.261152        True      -1.658359   \n",
       "2405       89.0  22270        0.014369        True      -1.658359   \n",
       "2481      162.0  12599       -1.261152        True      -1.658359   \n",
       "2495       56.0  26890        0.014369        True      -1.658359   \n",
       "2556       88.0  25735        0.014369        True      -1.658359   \n",
       "2924      320.0  79512        0.439542        True      -1.658359   \n",
       "3032      331.0  28097        0.014369        True      -1.658359   \n",
       "3111      369.0  27992        0.014369        True      -1.658359   \n",
       "3700        7.0  31825        0.014369        True      -1.658359   \n",
       "3788      183.0  15434       -1.261152        True      -1.658359   \n",
       "4521       83.0  25735        0.014369        True      -1.658359   \n",
       "5013       18.0  31825        0.014369        True      -1.658359   \n",
       "5372      333.0  62427        0.439542        True      -1.658359   \n",
       "5628       12.0  18581        0.014369        True       0.040556   \n",
       "6024      146.0  14594       -1.261152        True      -1.658359   \n",
       "6336      361.0   7744        1.715063        True      -1.658359   \n",
       "6576       57.0  31825        0.014369        True      -1.658359   \n",
       "7724       28.0  27992        0.014369        True      -1.658359   \n",
       "8957      124.0  26890        0.014369        True      -1.658359   \n",
       "9019       30.0  31825        0.014369        True      -1.658359   \n",
       "9657       69.0  10981       -1.261152        True      -1.658359   \n",
       "10364     308.0  57209        0.439542        True      -1.658359   \n",
       "10511     201.0  26480       -1.261152        True      -1.658359   \n",
       "\n",
       "       Additional_Info_zscore  \n",
       "785                 -5.265207  \n",
       "1043                -6.088796  \n",
       "2079                -6.088796  \n",
       "2405                -6.088796  \n",
       "2481                -6.088796  \n",
       "2495                -6.088796  \n",
       "2556                -6.088796  \n",
       "2924                -3.618027  \n",
       "3032                -3.618027  \n",
       "3111                -6.088796  \n",
       "3700                -6.088796  \n",
       "3788                -6.088796  \n",
       "4521                -6.088796  \n",
       "5013                -6.088796  \n",
       "5372                -3.618027  \n",
       "5628                -6.088796  \n",
       "6024                -6.088796  \n",
       "6336                -6.088796  \n",
       "6576                -6.088796  \n",
       "7724                -6.088796  \n",
       "8957                -6.088796  \n",
       "9019                -6.088796  \n",
       "9657                -6.088796  \n",
       "10364               -3.618027  \n",
       "10511               -4.441617  "
      ]
     },
     "execution_count": 33,
     "metadata": {},
     "output_type": "execute_result"
    }
   ],
   "source": [
    "data['Airline_zscore'] = zscore(data['Airline'])\n",
    "data['is_outlier'] = data['Airline_zscore'].apply(lambda x: x<=-3 or x>=3)\n",
    "data['Source_zscore'] = zscore(data['Source'])\n",
    "data['is_outlier'] = data['Source_zscore'].apply(lambda x: x<=-3 or x>=3)\n",
    "data['Additional_Info_zscore'] = zscore(data['Additional_Info'])\n",
    "data['is_outlier'] = data['Additional_Info_zscore'].apply(lambda x: x<=-3 or x>=3)\n",
    "data[data['is_outlier']]"
   ]
  },
  {
   "cell_type": "code",
   "execution_count": 34,
   "id": "bdf87dc4",
   "metadata": {},
   "outputs": [],
   "source": [
    "data = data.drop([785,1043,2079,2405,2481,2495,2556,2924,3032,3111,3700,3788,4521,5013,5372,5628,6024,6336,6576,7724,8957,9019,9657,10364,10511],axis = 0)"
   ]
  },
  {
   "cell_type": "markdown",
   "id": "3da9ffd4",
   "metadata": {},
   "source": [
    "Removed outliers. Check for data loss"
   ]
  },
  {
   "cell_type": "code",
   "execution_count": 35,
   "id": "e2183593",
   "metadata": {},
   "outputs": [
    {
     "data": {
      "text/plain": [
       "(10657, 12)"
      ]
     },
     "execution_count": 35,
     "metadata": {},
     "output_type": "execute_result"
    }
   ],
   "source": [
    "data.shape"
   ]
  },
  {
   "cell_type": "code",
   "execution_count": 36,
   "id": "21f8c56c",
   "metadata": {},
   "outputs": [
    {
     "data": {
      "text/plain": [
       "0.23403856955626287"
      ]
     },
     "execution_count": 36,
     "metadata": {},
     "output_type": "execute_result"
    }
   ],
   "source": [
    "Data_loss = ((10682-10657)/10682)*100\n",
    "Data_loss"
   ]
  },
  {
   "cell_type": "markdown",
   "id": "1f9d197a",
   "metadata": {},
   "source": [
    "Data loss is less than 1%, which is accpetable. Because, working with outliers will not give good accuracy"
   ]
  },
  {
   "cell_type": "markdown",
   "id": "f126e7ea",
   "metadata": {},
   "source": [
    "# Model Building"
   ]
  },
  {
   "cell_type": "code",
   "execution_count": 37,
   "id": "ffd15965",
   "metadata": {},
   "outputs": [],
   "source": [
    "from sklearn.linear_model import LinearRegression\n",
    "from sklearn.metrics import r2_score\n",
    "from sklearn.model_selection import train_test_split\n",
    "from sklearn.metrics import mean_squared_error, mean_absolute_error"
   ]
  },
  {
   "cell_type": "markdown",
   "id": "cfc71f4f",
   "metadata": {},
   "source": [
    "Import necessary librares needed for model building"
   ]
  },
  {
   "cell_type": "markdown",
   "id": "e6ca974b",
   "metadata": {},
   "source": [
    "## Standardisation"
   ]
  },
  {
   "cell_type": "code",
   "execution_count": 38,
   "id": "648cbf3a",
   "metadata": {},
   "outputs": [],
   "source": [
    "from sklearn.preprocessing import StandardScaler\n",
    "scaler = StandardScaler()\n",
    "x = scaler.fit_transform(x)"
   ]
  },
  {
   "cell_type": "markdown",
   "id": "1971ebd5",
   "metadata": {},
   "source": [
    "Data is standardised"
   ]
  },
  {
   "cell_type": "markdown",
   "id": "2326cbe5",
   "metadata": {},
   "source": [
    "## Finding best random state"
   ]
  },
  {
   "cell_type": "code",
   "execution_count": 39,
   "id": "c92ff2ee",
   "metadata": {},
   "outputs": [
    {
     "name": "stdout",
     "output_type": "stream",
     "text": [
      "Best regression score is: 0.40536791728258503 on Random State 163\n"
     ]
    }
   ],
   "source": [
    "regression = LinearRegression()\n",
    "maxreg = 0 \n",
    "maxrs = 0\n",
    "for i in range(1,300):\n",
    "    x_train,x_test,y_train,y_test = train_test_split(x,y,test_size=.20, random_state = i)\n",
    "    LR = LinearRegression()\n",
    "    LR.fit(x_train,y_train)\n",
    "    acc = LR.score(x_test,y_test)\n",
    "    if acc>maxreg:\n",
    "        maxreg = acc\n",
    "        maxrs = i\n",
    "print('Best regression score is:',maxreg,'on Random State',maxrs)"
   ]
  },
  {
   "cell_type": "code",
   "execution_count": 40,
   "id": "9133a5f6",
   "metadata": {},
   "outputs": [],
   "source": [
    "x_train,x_test,y_train,y_test = train_test_split (x,y,test_size=0.20,random_state=163)"
   ]
  },
  {
   "cell_type": "markdown",
   "id": "b2b7fef2",
   "metadata": {},
   "source": [
    "## Linear Regression"
   ]
  },
  {
   "cell_type": "code",
   "execution_count": 41,
   "id": "c109b3ce",
   "metadata": {},
   "outputs": [
    {
     "name": "stdout",
     "output_type": "stream",
     "text": [
      "Regression Score: 0.40536791728258503\n",
      "Mean Absolute Error: 2536.9113267816006\n",
      "Mean Squared Error: 10955330.550568596\n"
     ]
    }
   ],
   "source": [
    "LR = LinearRegression()\n",
    "LR.fit(x_train,y_train)\n",
    "lr = LR.score(x_test,y_test)\n",
    "print('Regression Score:',lr)\n",
    "\n",
    "y_pred = LR.predict(x_test)\n",
    "\n",
    "mae = mean_absolute_error(y_test,y_pred)\n",
    "print('Mean Absolute Error:',mae)\n",
    "\n",
    "mse = mean_squared_error(y_test,y_pred)\n",
    "print('Mean Squared Error:',mse)"
   ]
  },
  {
   "cell_type": "markdown",
   "id": "9e112126",
   "metadata": {},
   "source": [
    "## Decision Tree Regressor"
   ]
  },
  {
   "cell_type": "code",
   "execution_count": 42,
   "id": "712c69b8",
   "metadata": {},
   "outputs": [
    {
     "name": "stdout",
     "output_type": "stream",
     "text": [
      "Regression Score: 0.6858621460986918\n",
      "Mean Absolute Error: 1392.3118602510547\n",
      "Mean Squared Error: 5787585.5137310885\n"
     ]
    }
   ],
   "source": [
    "from sklearn.tree import DecisionTreeRegressor\n",
    "\n",
    "dt = DecisionTreeRegressor()\n",
    "dt.fit(x_train,y_train)\n",
    "dtt = dt.score(x_test,y_test)\n",
    "print('Regression Score:',dtt)\n",
    "\n",
    "y_pred = dt.predict(x_test)\n",
    "\n",
    "mae = mean_absolute_error(y_test,y_pred)\n",
    "print('Mean Absolute Error:',mae)\n",
    "\n",
    "mse = mean_squared_error(y_test,y_pred)\n",
    "print('Mean Squared Error:',mse)"
   ]
  },
  {
   "cell_type": "markdown",
   "id": "30cf685d",
   "metadata": {},
   "source": [
    "## Random Forest Regressor"
   ]
  },
  {
   "cell_type": "code",
   "execution_count": 43,
   "id": "29f64549",
   "metadata": {},
   "outputs": [
    {
     "name": "stdout",
     "output_type": "stream",
     "text": [
      "Regression Score: 0.7175264661063236\n",
      "Mean Absolute Error: 1356.8119651550307\n",
      "Mean Squared Error: 5204211.184587392\n"
     ]
    }
   ],
   "source": [
    "from sklearn.ensemble import RandomForestRegressor\n",
    "\n",
    "rfr = RandomForestRegressor()\n",
    "rfr.fit(x_train,y_train)\n",
    "rfr_ = rfr.score(x_test,y_test)\n",
    "print('Regression Score:',rfr_)\n",
    "\n",
    "y_pred = rfr.predict(x_test)\n",
    "\n",
    "mae = mean_absolute_error(y_test,y_pred)\n",
    "print('Mean Absolute Error:',mae)\n",
    "\n",
    "mse = mean_squared_error(y_test,y_pred)\n",
    "print('Mean Squared Error:',mse)"
   ]
  },
  {
   "cell_type": "markdown",
   "id": "54d0a663",
   "metadata": {},
   "source": [
    "Random Forest Regressor is the best model for this dataset with Regression score is 71"
   ]
  },
  {
   "cell_type": "markdown",
   "id": "ccc50189",
   "metadata": {},
   "source": [
    "## Cross Validation"
   ]
  },
  {
   "cell_type": "code",
   "execution_count": 44,
   "id": "417e23f1",
   "metadata": {},
   "outputs": [
    {
     "name": "stdout",
     "output_type": "stream",
     "text": [
      "LR cvs: 0.35015984339366646\n",
      "DT cvs: 0.6684877334662096\n",
      "RFR cvs: 0.7224004547931149\n"
     ]
    }
   ],
   "source": [
    "from sklearn.model_selection import cross_val_score\n",
    "\n",
    "sc = cross_val_score(LR,x,y,cv=5)\n",
    "print('LR cvs:',sc.mean())\n",
    "\n",
    "sc1 = cross_val_score(dt,x,y,cv=5)\n",
    "print('DT cvs:',sc1.mean())\n",
    "\n",
    "sc2 = cross_val_score(rfr,x,y,cv=5)\n",
    "print('RFR cvs:',sc2.mean())"
   ]
  },
  {
   "cell_type": "markdown",
   "id": "ddeb5580",
   "metadata": {},
   "source": [
    "The cross validation score shows that Random Forest Regrssor is neither underfitting nor overfitting the model.\n",
    "\n",
    "- Regression score = 0.71\n",
    "- CV Score = 0.72\n",
    "\n",
    "So, continue with hyper parameter tuning."
   ]
  },
  {
   "cell_type": "markdown",
   "id": "b465a3c7",
   "metadata": {},
   "source": [
    "## Hyper parameter Tuning"
   ]
  },
  {
   "cell_type": "code",
   "execution_count": 45,
   "id": "41d3bacf",
   "metadata": {},
   "outputs": [],
   "source": [
    "from sklearn.model_selection import RandomizedSearchCV\n",
    "from sklearn.ensemble import AdaBoostRegressor\n",
    "from sklearn.tree import DecisionTreeRegressor\n",
    "dt = DecisionTreeRegressor()"
   ]
  },
  {
   "cell_type": "markdown",
   "id": "8af489d3",
   "metadata": {},
   "source": [
    "Import necessary libraries needed for hyperparameter tuning"
   ]
  },
  {
   "cell_type": "code",
   "execution_count": 46,
   "id": "2ce00b22",
   "metadata": {},
   "outputs": [
    {
     "name": "stdout",
     "output_type": "stream",
     "text": [
      "RandomizedSearchCV(cv=5, estimator=AdaBoostRegressor(), n_jobs=1,\n",
      "                   param_distributions={'learning_rate': [0.3, 0.4, 0.45],\n",
      "                                        'loss': ['exponential'],\n",
      "                                        'n_estimators': [40, 47, 49, 50],\n",
      "                                        'random_state': [163]})\n",
      "Best Estimator: AdaBoostRegressor(learning_rate=0.3, loss='exponential', n_estimators=40,\n",
      "                  random_state=163)\n"
     ]
    }
   ],
   "source": [
    "params = {'n_estimators': [40,47,49,50], 'learning_rate':[0.30,0.40,0.45],'loss' : ['exponential'],'random_state' : [163]} \n",
    "rnd_search = RandomizedSearchCV (AdaBoostRegressor(), cv = 5, param_distributions = params,n_iter = 10,n_jobs=1)\n",
    "print(rnd_search.fit(x_train,y_train))\n",
    "print('Best Estimator:', rnd_search.best_estimator_)"
   ]
  },
  {
   "cell_type": "markdown",
   "id": "520e5880",
   "metadata": {},
   "source": [
    "Check the best estimator and imply it"
   ]
  },
  {
   "cell_type": "code",
   "execution_count": 47,
   "id": "2fd722f2",
   "metadata": {},
   "outputs": [
    {
     "name": "stdout",
     "output_type": "stream",
     "text": [
      "Accuracy post tuning\n",
      "0.24954681045707383\n"
     ]
    }
   ],
   "source": [
    "from sklearn import metrics\n",
    "\n",
    "ada = AdaBoostRegressor(loss='exponential',learning_rate=0.3,n_estimators=47,random_state=163)\n",
    "ada.fit(x_train,y_train)\n",
    "y_pred = ada.predict(x_test)\n",
    "\n",
    "print('Accuracy post tuning')\n",
    "print(metrics.r2_score(y_test,y_pred))"
   ]
  },
  {
   "cell_type": "markdown",
   "id": "b1a39e8a",
   "metadata": {},
   "source": [
    "Accuracy post tuning the parameters is 0.25. Since this is low compared to Random Forest Regressor score, use the actual rfr and save the model"
   ]
  },
  {
   "cell_type": "markdown",
   "id": "fb8a4d6e",
   "metadata": {},
   "source": [
    "## Save the model"
   ]
  },
  {
   "cell_type": "code",
   "execution_count": 48,
   "id": "06d5c77a",
   "metadata": {},
   "outputs": [],
   "source": [
    "import pickle\n",
    "filename = 'Flight_Price.pkl'\n",
    "pickle.dump(rfr,open(filename,'wb'))"
   ]
  },
  {
   "cell_type": "markdown",
   "id": "0b6fff0c",
   "metadata": {},
   "source": [
    "Thus the model is saved"
   ]
  },
  {
   "cell_type": "markdown",
   "id": "32399414",
   "metadata": {},
   "source": [
    "## Basic necessities for predicting model"
   ]
  },
  {
   "cell_type": "code",
   "execution_count": 49,
   "id": "78b785f2",
   "metadata": {},
   "outputs": [
    {
     "data": {
      "text/plain": [
       "array([11604.74369824, 11481.97386491, 11604.74369824, ...,\n",
       "       11604.74369824, 23541.37818182, 11604.74369824])"
      ]
     },
     "execution_count": 49,
     "metadata": {},
     "output_type": "execute_result"
    }
   ],
   "source": [
    "loaded_model=pickle.load(open('Flight_Price.pkl','rb'))\n",
    "result = loaded_model.predict(df)\n",
    "result"
   ]
  },
  {
   "cell_type": "markdown",
   "id": "598d93c2",
   "metadata": {},
   "source": [
    "Load the model and find the result"
   ]
  },
  {
   "cell_type": "code",
   "execution_count": 50,
   "id": "a881184f",
   "metadata": {},
   "outputs": [],
   "source": [
    "result = pd.DataFrame(result, columns = ['Predicted'])"
   ]
  },
  {
   "cell_type": "markdown",
   "id": "07524a9c",
   "metadata": {},
   "source": [
    "Convert the numpy array into dataframe"
   ]
  },
  {
   "cell_type": "code",
   "execution_count": 51,
   "id": "e22a51cf",
   "metadata": {},
   "outputs": [
    {
     "data": {
      "text/html": [
       "<div>\n",
       "<style scoped>\n",
       "    .dataframe tbody tr th:only-of-type {\n",
       "        vertical-align: middle;\n",
       "    }\n",
       "\n",
       "    .dataframe tbody tr th {\n",
       "        vertical-align: top;\n",
       "    }\n",
       "\n",
       "    .dataframe thead th {\n",
       "        text-align: right;\n",
       "    }\n",
       "</style>\n",
       "<table border=\"1\" class=\"dataframe\">\n",
       "  <thead>\n",
       "    <tr style=\"text-align: right;\">\n",
       "      <th></th>\n",
       "      <th>Original</th>\n",
       "    </tr>\n",
       "  </thead>\n",
       "  <tbody>\n",
       "    <tr>\n",
       "      <th>0</th>\n",
       "      <td>15998</td>\n",
       "    </tr>\n",
       "    <tr>\n",
       "      <th>1</th>\n",
       "      <td>16612</td>\n",
       "    </tr>\n",
       "    <tr>\n",
       "      <th>2</th>\n",
       "      <td>25572</td>\n",
       "    </tr>\n",
       "    <tr>\n",
       "      <th>3</th>\n",
       "      <td>25778</td>\n",
       "    </tr>\n",
       "    <tr>\n",
       "      <th>4</th>\n",
       "      <td>16934</td>\n",
       "    </tr>\n",
       "    <tr>\n",
       "      <th>...</th>\n",
       "      <td>...</td>\n",
       "    </tr>\n",
       "    <tr>\n",
       "      <th>2666</th>\n",
       "      <td>14046</td>\n",
       "    </tr>\n",
       "    <tr>\n",
       "      <th>2667</th>\n",
       "      <td>14086</td>\n",
       "    </tr>\n",
       "    <tr>\n",
       "      <th>2668</th>\n",
       "      <td>22720</td>\n",
       "    </tr>\n",
       "    <tr>\n",
       "      <th>2669</th>\n",
       "      <td>23544</td>\n",
       "    </tr>\n",
       "    <tr>\n",
       "      <th>2670</th>\n",
       "      <td>27489</td>\n",
       "    </tr>\n",
       "  </tbody>\n",
       "</table>\n",
       "<p>2671 rows × 1 columns</p>\n",
       "</div>"
      ],
      "text/plain": [
       "      Original\n",
       "0        15998\n",
       "1        16612\n",
       "2        25572\n",
       "3        25778\n",
       "4        16934\n",
       "...        ...\n",
       "2666     14046\n",
       "2667     14086\n",
       "2668     22720\n",
       "2669     23544\n",
       "2670     27489\n",
       "\n",
       "[2671 rows x 1 columns]"
      ]
     },
     "execution_count": 51,
     "metadata": {},
     "output_type": "execute_result"
    }
   ],
   "source": [
    "actual = pd.read_excel(r\"C:\\Users\\Lenovo\\Desktop\\DS\\Project\\Flight_Ticket_Participant_Datasets\\Sample_submission.xlsx\")\n",
    "actual"
   ]
  },
  {
   "cell_type": "markdown",
   "id": "40db2dec",
   "metadata": {},
   "source": [
    "Load the actual answer given "
   ]
  },
  {
   "cell_type": "code",
   "execution_count": 52,
   "id": "ed8800f2",
   "metadata": {},
   "outputs": [
    {
     "data": {
      "text/html": [
       "<div>\n",
       "<style scoped>\n",
       "    .dataframe tbody tr th:only-of-type {\n",
       "        vertical-align: middle;\n",
       "    }\n",
       "\n",
       "    .dataframe tbody tr th {\n",
       "        vertical-align: top;\n",
       "    }\n",
       "\n",
       "    .dataframe thead th {\n",
       "        text-align: right;\n",
       "    }\n",
       "</style>\n",
       "<table border=\"1\" class=\"dataframe\">\n",
       "  <thead>\n",
       "    <tr style=\"text-align: right;\">\n",
       "      <th></th>\n",
       "      <th>Predicted</th>\n",
       "      <th>Original</th>\n",
       "    </tr>\n",
       "  </thead>\n",
       "  <tbody>\n",
       "    <tr>\n",
       "      <th>0</th>\n",
       "      <td>11604.743698</td>\n",
       "      <td>15998</td>\n",
       "    </tr>\n",
       "    <tr>\n",
       "      <th>1</th>\n",
       "      <td>11481.973865</td>\n",
       "      <td>16612</td>\n",
       "    </tr>\n",
       "    <tr>\n",
       "      <th>2</th>\n",
       "      <td>11604.743698</td>\n",
       "      <td>25572</td>\n",
       "    </tr>\n",
       "    <tr>\n",
       "      <th>3</th>\n",
       "      <td>11604.743698</td>\n",
       "      <td>25778</td>\n",
       "    </tr>\n",
       "    <tr>\n",
       "      <th>4</th>\n",
       "      <td>8932.671105</td>\n",
       "      <td>16934</td>\n",
       "    </tr>\n",
       "    <tr>\n",
       "      <th>...</th>\n",
       "      <td>...</td>\n",
       "      <td>...</td>\n",
       "    </tr>\n",
       "    <tr>\n",
       "      <th>2666</th>\n",
       "      <td>23374.775682</td>\n",
       "      <td>14046</td>\n",
       "    </tr>\n",
       "    <tr>\n",
       "      <th>2667</th>\n",
       "      <td>6757.951521</td>\n",
       "      <td>14086</td>\n",
       "    </tr>\n",
       "    <tr>\n",
       "      <th>2668</th>\n",
       "      <td>11604.743698</td>\n",
       "      <td>22720</td>\n",
       "    </tr>\n",
       "    <tr>\n",
       "      <th>2669</th>\n",
       "      <td>23541.378182</td>\n",
       "      <td>23544</td>\n",
       "    </tr>\n",
       "    <tr>\n",
       "      <th>2670</th>\n",
       "      <td>11604.743698</td>\n",
       "      <td>27489</td>\n",
       "    </tr>\n",
       "  </tbody>\n",
       "</table>\n",
       "<p>2671 rows × 2 columns</p>\n",
       "</div>"
      ],
      "text/plain": [
       "         Predicted  Original\n",
       "0     11604.743698     15998\n",
       "1     11481.973865     16612\n",
       "2     11604.743698     25572\n",
       "3     11604.743698     25778\n",
       "4      8932.671105     16934\n",
       "...            ...       ...\n",
       "2666  23374.775682     14046\n",
       "2667   6757.951521     14086\n",
       "2668  11604.743698     22720\n",
       "2669  23541.378182     23544\n",
       "2670  11604.743698     27489\n",
       "\n",
       "[2671 rows x 2 columns]"
      ]
     },
     "execution_count": 52,
     "metadata": {},
     "output_type": "execute_result"
    }
   ],
   "source": [
    "conclusion = pd.concat([result,actual],axis=1)\n",
    "conclusion"
   ]
  },
  {
   "cell_type": "markdown",
   "id": "ab52759c",
   "metadata": {},
   "source": [
    "Thus created a dataframe having the predicted and original values"
   ]
  }
 ],
 "metadata": {
  "kernelspec": {
   "display_name": "Python 3",
   "language": "python",
   "name": "python3"
  },
  "language_info": {
   "codemirror_mode": {
    "name": "ipython",
    "version": 3
   },
   "file_extension": ".py",
   "mimetype": "text/x-python",
   "name": "python",
   "nbconvert_exporter": "python",
   "pygments_lexer": "ipython3",
   "version": "3.8.8"
  }
 },
 "nbformat": 4,
 "nbformat_minor": 5
}
