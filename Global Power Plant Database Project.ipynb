{
 "cells": [
  {
   "cell_type": "code",
   "execution_count": 1,
   "id": "3693ffd8",
   "metadata": {},
   "outputs": [],
   "source": [
    "import numpy as np\n",
    "import pandas as pd\n",
    "import matplotlib.pyplot as plt\n",
    "import seaborn as sns\n",
    "\n",
    "import warnings\n",
    "warnings.filterwarnings('ignore')"
   ]
  },
  {
   "cell_type": "markdown",
   "id": "e137a551",
   "metadata": {},
   "source": [
    "Import the basic libraries needed"
   ]
  },
  {
   "cell_type": "code",
   "execution_count": 2,
   "id": "87155e1d",
   "metadata": {},
   "outputs": [
    {
     "data": {
      "text/html": [
       "<div>\n",
       "<style scoped>\n",
       "    .dataframe tbody tr th:only-of-type {\n",
       "        vertical-align: middle;\n",
       "    }\n",
       "\n",
       "    .dataframe tbody tr th {\n",
       "        vertical-align: top;\n",
       "    }\n",
       "\n",
       "    .dataframe thead th {\n",
       "        text-align: right;\n",
       "    }\n",
       "</style>\n",
       "<table border=\"1\" class=\"dataframe\">\n",
       "  <thead>\n",
       "    <tr style=\"text-align: right;\">\n",
       "      <th></th>\n",
       "      <th>country</th>\n",
       "      <th>country_long</th>\n",
       "      <th>name</th>\n",
       "      <th>gppd_idnr</th>\n",
       "      <th>capacity_mw</th>\n",
       "      <th>latitude</th>\n",
       "      <th>longitude</th>\n",
       "      <th>primary_fuel</th>\n",
       "      <th>other_fuel1</th>\n",
       "      <th>other_fuel2</th>\n",
       "      <th>...</th>\n",
       "      <th>geolocation_source</th>\n",
       "      <th>wepp_id</th>\n",
       "      <th>year_of_capacity_data</th>\n",
       "      <th>generation_gwh_2013</th>\n",
       "      <th>generation_gwh_2014</th>\n",
       "      <th>generation_gwh_2015</th>\n",
       "      <th>generation_gwh_2016</th>\n",
       "      <th>generation_gwh_2017</th>\n",
       "      <th>generation_data_source</th>\n",
       "      <th>estimated_generation_gwh</th>\n",
       "    </tr>\n",
       "  </thead>\n",
       "  <tbody>\n",
       "    <tr>\n",
       "      <th>0</th>\n",
       "      <td>IND</td>\n",
       "      <td>India</td>\n",
       "      <td>ACME Solar Tower</td>\n",
       "      <td>WRI1020239</td>\n",
       "      <td>2.5</td>\n",
       "      <td>28.1839</td>\n",
       "      <td>73.2407</td>\n",
       "      <td>Solar</td>\n",
       "      <td>NaN</td>\n",
       "      <td>NaN</td>\n",
       "      <td>...</td>\n",
       "      <td>National Renewable Energy Laboratory</td>\n",
       "      <td>NaN</td>\n",
       "      <td>NaN</td>\n",
       "      <td>NaN</td>\n",
       "      <td>NaN</td>\n",
       "      <td>NaN</td>\n",
       "      <td>NaN</td>\n",
       "      <td>NaN</td>\n",
       "      <td>NaN</td>\n",
       "      <td>NaN</td>\n",
       "    </tr>\n",
       "    <tr>\n",
       "      <th>1</th>\n",
       "      <td>IND</td>\n",
       "      <td>India</td>\n",
       "      <td>ADITYA CEMENT WORKS</td>\n",
       "      <td>WRI1019881</td>\n",
       "      <td>98.0</td>\n",
       "      <td>24.7663</td>\n",
       "      <td>74.6090</td>\n",
       "      <td>Coal</td>\n",
       "      <td>NaN</td>\n",
       "      <td>NaN</td>\n",
       "      <td>...</td>\n",
       "      <td>WRI</td>\n",
       "      <td>NaN</td>\n",
       "      <td>NaN</td>\n",
       "      <td>NaN</td>\n",
       "      <td>NaN</td>\n",
       "      <td>NaN</td>\n",
       "      <td>NaN</td>\n",
       "      <td>NaN</td>\n",
       "      <td>NaN</td>\n",
       "      <td>NaN</td>\n",
       "    </tr>\n",
       "    <tr>\n",
       "      <th>2</th>\n",
       "      <td>IND</td>\n",
       "      <td>India</td>\n",
       "      <td>AES Saurashtra Windfarms</td>\n",
       "      <td>WRI1026669</td>\n",
       "      <td>39.2</td>\n",
       "      <td>21.9038</td>\n",
       "      <td>69.3732</td>\n",
       "      <td>Wind</td>\n",
       "      <td>NaN</td>\n",
       "      <td>NaN</td>\n",
       "      <td>...</td>\n",
       "      <td>WRI</td>\n",
       "      <td>NaN</td>\n",
       "      <td>NaN</td>\n",
       "      <td>NaN</td>\n",
       "      <td>NaN</td>\n",
       "      <td>NaN</td>\n",
       "      <td>NaN</td>\n",
       "      <td>NaN</td>\n",
       "      <td>NaN</td>\n",
       "      <td>NaN</td>\n",
       "    </tr>\n",
       "    <tr>\n",
       "      <th>3</th>\n",
       "      <td>IND</td>\n",
       "      <td>India</td>\n",
       "      <td>AGARTALA GT</td>\n",
       "      <td>IND0000001</td>\n",
       "      <td>135.0</td>\n",
       "      <td>23.8712</td>\n",
       "      <td>91.3602</td>\n",
       "      <td>Gas</td>\n",
       "      <td>NaN</td>\n",
       "      <td>NaN</td>\n",
       "      <td>...</td>\n",
       "      <td>WRI</td>\n",
       "      <td>NaN</td>\n",
       "      <td>2018.0</td>\n",
       "      <td>631.777928</td>\n",
       "      <td>617.789264</td>\n",
       "      <td>843.747000</td>\n",
       "      <td>886.004428</td>\n",
       "      <td>663.774500</td>\n",
       "      <td>Central Electricity Authority</td>\n",
       "      <td>NaN</td>\n",
       "    </tr>\n",
       "    <tr>\n",
       "      <th>4</th>\n",
       "      <td>IND</td>\n",
       "      <td>India</td>\n",
       "      <td>AKALTARA TPP</td>\n",
       "      <td>IND0000002</td>\n",
       "      <td>1800.0</td>\n",
       "      <td>21.9603</td>\n",
       "      <td>82.4091</td>\n",
       "      <td>Coal</td>\n",
       "      <td>Oil</td>\n",
       "      <td>NaN</td>\n",
       "      <td>...</td>\n",
       "      <td>WRI</td>\n",
       "      <td>NaN</td>\n",
       "      <td>2018.0</td>\n",
       "      <td>1668.290000</td>\n",
       "      <td>3035.550000</td>\n",
       "      <td>5916.370000</td>\n",
       "      <td>6243.000000</td>\n",
       "      <td>5385.579736</td>\n",
       "      <td>Central Electricity Authority</td>\n",
       "      <td>NaN</td>\n",
       "    </tr>\n",
       "    <tr>\n",
       "      <th>...</th>\n",
       "      <td>...</td>\n",
       "      <td>...</td>\n",
       "      <td>...</td>\n",
       "      <td>...</td>\n",
       "      <td>...</td>\n",
       "      <td>...</td>\n",
       "      <td>...</td>\n",
       "      <td>...</td>\n",
       "      <td>...</td>\n",
       "      <td>...</td>\n",
       "      <td>...</td>\n",
       "      <td>...</td>\n",
       "      <td>...</td>\n",
       "      <td>...</td>\n",
       "      <td>...</td>\n",
       "      <td>...</td>\n",
       "      <td>...</td>\n",
       "      <td>...</td>\n",
       "      <td>...</td>\n",
       "      <td>...</td>\n",
       "      <td>...</td>\n",
       "    </tr>\n",
       "    <tr>\n",
       "      <th>903</th>\n",
       "      <td>IND</td>\n",
       "      <td>India</td>\n",
       "      <td>YERMARUS TPP</td>\n",
       "      <td>IND0000513</td>\n",
       "      <td>1600.0</td>\n",
       "      <td>16.2949</td>\n",
       "      <td>77.3568</td>\n",
       "      <td>Coal</td>\n",
       "      <td>Oil</td>\n",
       "      <td>NaN</td>\n",
       "      <td>...</td>\n",
       "      <td>WRI</td>\n",
       "      <td>NaN</td>\n",
       "      <td>2018.0</td>\n",
       "      <td>NaN</td>\n",
       "      <td>NaN</td>\n",
       "      <td>0.994875</td>\n",
       "      <td>233.596650</td>\n",
       "      <td>865.400000</td>\n",
       "      <td>Central Electricity Authority</td>\n",
       "      <td>NaN</td>\n",
       "    </tr>\n",
       "    <tr>\n",
       "      <th>904</th>\n",
       "      <td>IND</td>\n",
       "      <td>India</td>\n",
       "      <td>Yelesandra Solar Power Plant</td>\n",
       "      <td>WRI1026222</td>\n",
       "      <td>3.0</td>\n",
       "      <td>12.8932</td>\n",
       "      <td>78.1654</td>\n",
       "      <td>Solar</td>\n",
       "      <td>NaN</td>\n",
       "      <td>NaN</td>\n",
       "      <td>...</td>\n",
       "      <td>Industry About</td>\n",
       "      <td>NaN</td>\n",
       "      <td>NaN</td>\n",
       "      <td>NaN</td>\n",
       "      <td>NaN</td>\n",
       "      <td>NaN</td>\n",
       "      <td>NaN</td>\n",
       "      <td>NaN</td>\n",
       "      <td>NaN</td>\n",
       "      <td>NaN</td>\n",
       "    </tr>\n",
       "    <tr>\n",
       "      <th>905</th>\n",
       "      <td>IND</td>\n",
       "      <td>India</td>\n",
       "      <td>Yelisirur wind power project</td>\n",
       "      <td>WRI1026776</td>\n",
       "      <td>25.5</td>\n",
       "      <td>15.2758</td>\n",
       "      <td>75.5811</td>\n",
       "      <td>Wind</td>\n",
       "      <td>NaN</td>\n",
       "      <td>NaN</td>\n",
       "      <td>...</td>\n",
       "      <td>WRI</td>\n",
       "      <td>NaN</td>\n",
       "      <td>NaN</td>\n",
       "      <td>NaN</td>\n",
       "      <td>NaN</td>\n",
       "      <td>NaN</td>\n",
       "      <td>NaN</td>\n",
       "      <td>NaN</td>\n",
       "      <td>NaN</td>\n",
       "      <td>NaN</td>\n",
       "    </tr>\n",
       "    <tr>\n",
       "      <th>906</th>\n",
       "      <td>IND</td>\n",
       "      <td>India</td>\n",
       "      <td>ZAWAR MINES</td>\n",
       "      <td>WRI1019901</td>\n",
       "      <td>80.0</td>\n",
       "      <td>24.3500</td>\n",
       "      <td>73.7477</td>\n",
       "      <td>Coal</td>\n",
       "      <td>NaN</td>\n",
       "      <td>NaN</td>\n",
       "      <td>...</td>\n",
       "      <td>WRI</td>\n",
       "      <td>NaN</td>\n",
       "      <td>NaN</td>\n",
       "      <td>NaN</td>\n",
       "      <td>NaN</td>\n",
       "      <td>NaN</td>\n",
       "      <td>NaN</td>\n",
       "      <td>NaN</td>\n",
       "      <td>NaN</td>\n",
       "      <td>NaN</td>\n",
       "    </tr>\n",
       "    <tr>\n",
       "      <th>907</th>\n",
       "      <td>IND</td>\n",
       "      <td>India</td>\n",
       "      <td>iEnergy Theni Wind Farm</td>\n",
       "      <td>WRI1026761</td>\n",
       "      <td>16.5</td>\n",
       "      <td>9.9344</td>\n",
       "      <td>77.4768</td>\n",
       "      <td>Wind</td>\n",
       "      <td>NaN</td>\n",
       "      <td>NaN</td>\n",
       "      <td>...</td>\n",
       "      <td>WRI</td>\n",
       "      <td>NaN</td>\n",
       "      <td>NaN</td>\n",
       "      <td>NaN</td>\n",
       "      <td>NaN</td>\n",
       "      <td>NaN</td>\n",
       "      <td>NaN</td>\n",
       "      <td>NaN</td>\n",
       "      <td>NaN</td>\n",
       "      <td>NaN</td>\n",
       "    </tr>\n",
       "  </tbody>\n",
       "</table>\n",
       "<p>908 rows × 25 columns</p>\n",
       "</div>"
      ],
      "text/plain": [
       "    country country_long                          name   gppd_idnr  \\\n",
       "0       IND        India              ACME Solar Tower  WRI1020239   \n",
       "1       IND        India           ADITYA CEMENT WORKS  WRI1019881   \n",
       "2       IND        India      AES Saurashtra Windfarms  WRI1026669   \n",
       "3       IND        India                   AGARTALA GT  IND0000001   \n",
       "4       IND        India                  AKALTARA TPP  IND0000002   \n",
       "..      ...          ...                           ...         ...   \n",
       "903     IND        India                  YERMARUS TPP  IND0000513   \n",
       "904     IND        India  Yelesandra Solar Power Plant  WRI1026222   \n",
       "905     IND        India  Yelisirur wind power project  WRI1026776   \n",
       "906     IND        India                   ZAWAR MINES  WRI1019901   \n",
       "907     IND        India       iEnergy Theni Wind Farm  WRI1026761   \n",
       "\n",
       "     capacity_mw  latitude  longitude primary_fuel other_fuel1 other_fuel2  \\\n",
       "0            2.5   28.1839    73.2407        Solar         NaN         NaN   \n",
       "1           98.0   24.7663    74.6090         Coal         NaN         NaN   \n",
       "2           39.2   21.9038    69.3732         Wind         NaN         NaN   \n",
       "3          135.0   23.8712    91.3602          Gas         NaN         NaN   \n",
       "4         1800.0   21.9603    82.4091         Coal         Oil         NaN   \n",
       "..           ...       ...        ...          ...         ...         ...   \n",
       "903       1600.0   16.2949    77.3568         Coal         Oil         NaN   \n",
       "904          3.0   12.8932    78.1654        Solar         NaN         NaN   \n",
       "905         25.5   15.2758    75.5811         Wind         NaN         NaN   \n",
       "906         80.0   24.3500    73.7477         Coal         NaN         NaN   \n",
       "907         16.5    9.9344    77.4768         Wind         NaN         NaN   \n",
       "\n",
       "     ...                    geolocation_source  wepp_id year_of_capacity_data  \\\n",
       "0    ...  National Renewable Energy Laboratory      NaN                   NaN   \n",
       "1    ...                                   WRI      NaN                   NaN   \n",
       "2    ...                                   WRI      NaN                   NaN   \n",
       "3    ...                                   WRI      NaN                2018.0   \n",
       "4    ...                                   WRI      NaN                2018.0   \n",
       "..   ...                                   ...      ...                   ...   \n",
       "903  ...                                   WRI      NaN                2018.0   \n",
       "904  ...                        Industry About      NaN                   NaN   \n",
       "905  ...                                   WRI      NaN                   NaN   \n",
       "906  ...                                   WRI      NaN                   NaN   \n",
       "907  ...                                   WRI      NaN                   NaN   \n",
       "\n",
       "    generation_gwh_2013 generation_gwh_2014 generation_gwh_2015  \\\n",
       "0                   NaN                 NaN                 NaN   \n",
       "1                   NaN                 NaN                 NaN   \n",
       "2                   NaN                 NaN                 NaN   \n",
       "3            631.777928          617.789264          843.747000   \n",
       "4           1668.290000         3035.550000         5916.370000   \n",
       "..                  ...                 ...                 ...   \n",
       "903                 NaN                 NaN            0.994875   \n",
       "904                 NaN                 NaN                 NaN   \n",
       "905                 NaN                 NaN                 NaN   \n",
       "906                 NaN                 NaN                 NaN   \n",
       "907                 NaN                 NaN                 NaN   \n",
       "\n",
       "     generation_gwh_2016  generation_gwh_2017         generation_data_source  \\\n",
       "0                    NaN                  NaN                            NaN   \n",
       "1                    NaN                  NaN                            NaN   \n",
       "2                    NaN                  NaN                            NaN   \n",
       "3             886.004428           663.774500  Central Electricity Authority   \n",
       "4            6243.000000          5385.579736  Central Electricity Authority   \n",
       "..                   ...                  ...                            ...   \n",
       "903           233.596650           865.400000  Central Electricity Authority   \n",
       "904                  NaN                  NaN                            NaN   \n",
       "905                  NaN                  NaN                            NaN   \n",
       "906                  NaN                  NaN                            NaN   \n",
       "907                  NaN                  NaN                            NaN   \n",
       "\n",
       "     estimated_generation_gwh  \n",
       "0                         NaN  \n",
       "1                         NaN  \n",
       "2                         NaN  \n",
       "3                         NaN  \n",
       "4                         NaN  \n",
       "..                        ...  \n",
       "903                       NaN  \n",
       "904                       NaN  \n",
       "905                       NaN  \n",
       "906                       NaN  \n",
       "907                       NaN  \n",
       "\n",
       "[908 rows x 25 columns]"
      ]
     },
     "execution_count": 2,
     "metadata": {},
     "output_type": "execute_result"
    }
   ],
   "source": [
    "data = pd.read_csv(r\"C:\\Users\\Lenovo\\Desktop\\DS\\Project\\Global Power Plant Database Project.csv.txt\")\n",
    "data"
   ]
  },
  {
   "cell_type": "markdown",
   "id": "652c318e",
   "metadata": {},
   "source": [
    "Open and read the data"
   ]
  },
  {
   "cell_type": "markdown",
   "id": "676aa5c8",
   "metadata": {},
   "source": [
    "## Data Explanation\n",
    "- The database covers 908 power plants of India and also includes thermal plants. Each power plant is geolocated and entries contain information on plant capacity, generation, ownership, and fuel type.\n",
    "- We have to make two predictions on Fuel type and capacity_mw\n",
    "- Since all the electricity generation data is in gigawatts-hour and the capacity in megawatt, we have to convert to same measurement.\n",
    "    - country (text): 3 character country code corresponding to the ISO 3166-1 alpha-3 specification\n",
    "    - country_long (text): longer form of the country designation\n",
    "    - name (text): name or title of the power plant, generally in Romanized form\n",
    "    - gppd_idnr (text): 10 or 12 character identifier for the power plant\n",
    "    - capacity_mw (number): electrical generating capacity in megawatts\n",
    "    - latitude (number): geolocation in decimal degrees; WGS84 (EPSG:4326)\n",
    "    - longitude (number): geolocation in decimal degrees; WGS84 (EPSG:4326)\n",
    "    - primary_fuel (text): energy source used in primary electricity generation or export\n",
    "    - other_fuel1 (text): energy source used in electricity generation or export\n",
    "    - other_fuel2 (text): energy source used in electricity generation or export\n",
    "    - other_fuel3 (text): energy source used in electricity generation or export\n",
    "     - commissioning_year (number): year of plant operation, weighted by unit-capacity when data is available\n",
    "    - owner (text): majority shareholder of the power plant, generally in Romanized form\n",
    "    - source (text): entity reporting the data; could be an organization, report, or document, generally in Romanized form\n",
    "    - url (text): web document corresponding to the `source` field\n",
    "    - geolocation_source (text): attribution for geolocation information\n",
    "    - wepp_id (text): a reference to a unique plant identifier in the widely-used PLATTS-WEPP database.\n",
    "    - year_of_capacity_data (number): year the capacity information was reported\n",
    "    - generation_gwh_2013 (number): electricity generation in gigawatt-hours reported for the year 2013\n",
    "    - generation_gwh_2014 (number): electricity generation in gigawatt-hours reported for the year 2014\n",
    "    - generation_gwh_2015 (number): electricity generation in gigawatt-hours reported for the year 2015\n",
    "    - generation_gwh_2016 (number): electricity generation in gigawatt-hours reported for the year 2016\n",
    "    - generation_gwh_2017 (number): electricity generation in gigawatt-hours reported for the year 2017\n",
    "    - generation_gwh_2018 (number): electricity generation in gigawatt-hours reported for the year 2018\n",
    "    - generation_gwh_2019 (number): electricity generation in gigawatt-hours reported for the year 2019\n",
    "    - generation_data_source (text): attribution for the reported generation information\n",
    "    - estimated_generation_gwh_2013 (number): estimated electricity generation in gigawatt-hours for the year 2013\n",
    "    - estimated_generation_gwh_2014 (number): estimated electricity generation in gigawatt-hours for the year 2014 \n",
    "    - estimated_generation_gwh_2015 (number): estimated electricity generation in gigawatt-hours for the year 2015 \n",
    "    - estimated_generation_gwh_2016 (number): estimated electricity generation in gigawatt-hours for the year 2016 \n",
    "    - estimated_generation_gwh_2017 (number): estimated electricity generation in gigawatt-hours for the year 2017 \n",
    "    - estimated_generation_note_2013 (text): label of the model/method used to estimate generation for the year 2013\n",
    "    - estimated_generation_note_2014 (text): label of the model/method used to estimate generation for the year 2014 \n",
    "    - estimated_generation_note_2015 (text): label of the model/method used to estimate generation for the year 2015\n",
    "    - estimated_generation_note_2016 (text): label of the model/method used to estimate generation for the year 2016\n",
    "    - estimated_generation_note_2017 (text): label of the model/method used to estimate generation for the year 2017 "
   ]
  },
  {
   "cell_type": "markdown",
   "id": "73bc7eb2",
   "metadata": {},
   "source": [
    "## Data Removal"
   ]
  },
  {
   "cell_type": "markdown",
   "id": "3d5a716f",
   "metadata": {},
   "source": [
    "Remove the following columns:\n",
    "- country -  Since it is only for India\n",
    "- country_long - This also denotes the country\n",
    "- name - Since it is the name of the power plant which is not necessary\n",
    "- gppd_idnr - This is an identifier name of the powerplant\n",
    "- latitude - This denoted location\n",
    "- longitude - This denotes location\n",
    "- commissioning_year - This is the year of operation\n",
    "- owner - This denotes the majority shareholder of the powerplant\n",
    "- source - The entity which reports the data\n",
    "- url - The source field of the data\n",
    "- geolocation_source - This provides the geolocation information\n",
    "- wepp_id - It is a refrence to the plant (this column has only NaN)\n",
    "- year_of_capacity_data - This column represents the report which has only NaN and 2018\n",
    "- generation_data_source - This is a reported generation information which has only NaN and 1 value\n",
    "\n",
    "Since all these information are not helpful for the findings, we are dropping it"
   ]
  },
  {
   "cell_type": "code",
   "execution_count": 3,
   "id": "61e5b414",
   "metadata": {},
   "outputs": [],
   "source": [
    "data = data.drop(['country','country_long','name','gppd_idnr','latitude','longitude','commissioning_year','owner','source','url','geolocation_source','wepp_id','year_of_capacity_data','generation_data_source'], axis = 1)"
   ]
  },
  {
   "cell_type": "markdown",
   "id": "61cc0db3",
   "metadata": {},
   "source": [
    "Dropped the columns which does not provide information regarding the problem statement"
   ]
  },
  {
   "cell_type": "markdown",
   "id": "43f743a0",
   "metadata": {},
   "source": [
    "## Exploratory Data Analysis\n",
    "### Indentifying variables and data types"
   ]
  },
  {
   "cell_type": "code",
   "execution_count": 4,
   "id": "718386bb",
   "metadata": {},
   "outputs": [
    {
     "data": {
      "text/plain": [
       "(908, 11)"
      ]
     },
     "execution_count": 4,
     "metadata": {},
     "output_type": "execute_result"
    }
   ],
   "source": [
    "data.shape"
   ]
  },
  {
   "cell_type": "markdown",
   "id": "4012d883",
   "metadata": {},
   "source": [
    "There are 908 rows with 11 columns after dropping unnecessary columns"
   ]
  },
  {
   "cell_type": "code",
   "execution_count": 5,
   "id": "6cebef6d",
   "metadata": {},
   "outputs": [
    {
     "data": {
      "text/plain": [
       "Index(['capacity_mw', 'primary_fuel', 'other_fuel1', 'other_fuel2',\n",
       "       'other_fuel3', 'generation_gwh_2013', 'generation_gwh_2014',\n",
       "       'generation_gwh_2015', 'generation_gwh_2016', 'generation_gwh_2017',\n",
       "       'estimated_generation_gwh'],\n",
       "      dtype='object')"
      ]
     },
     "execution_count": 5,
     "metadata": {},
     "output_type": "execute_result"
    }
   ],
   "source": [
    "data.columns"
   ]
  },
  {
   "cell_type": "markdown",
   "id": "303151c5",
   "metadata": {},
   "source": [
    "These are the column names"
   ]
  },
  {
   "cell_type": "markdown",
   "id": "0281b74e",
   "metadata": {},
   "source": [
    "## Checking data types"
   ]
  },
  {
   "cell_type": "code",
   "execution_count": 6,
   "id": "7349aa10",
   "metadata": {},
   "outputs": [
    {
     "name": "stdout",
     "output_type": "stream",
     "text": [
      "<class 'pandas.core.frame.DataFrame'>\n",
      "RangeIndex: 908 entries, 0 to 907\n",
      "Data columns (total 11 columns):\n",
      " #   Column                    Non-Null Count  Dtype  \n",
      "---  ------                    --------------  -----  \n",
      " 0   capacity_mw               908 non-null    float64\n",
      " 1   primary_fuel              908 non-null    object \n",
      " 2   other_fuel1               199 non-null    object \n",
      " 3   other_fuel2               1 non-null      object \n",
      " 4   other_fuel3               0 non-null      float64\n",
      " 5   generation_gwh_2013       384 non-null    float64\n",
      " 6   generation_gwh_2014       401 non-null    float64\n",
      " 7   generation_gwh_2015       425 non-null    float64\n",
      " 8   generation_gwh_2016       437 non-null    float64\n",
      " 9   generation_gwh_2017       443 non-null    float64\n",
      " 10  estimated_generation_gwh  0 non-null      float64\n",
      "dtypes: float64(8), object(3)\n",
      "memory usage: 78.2+ KB\n"
     ]
    }
   ],
   "source": [
    "data.info()"
   ]
  },
  {
   "cell_type": "markdown",
   "id": "67424467",
   "metadata": {},
   "source": [
    "There are object type data in 3 columns - primary_fuel, other_fuel1, other_fuel2 which has to be converted using encoding techniques"
   ]
  },
  {
   "cell_type": "markdown",
   "id": "b8022691",
   "metadata": {},
   "source": [
    "## Convert the capacity_mw from mw to gw\n",
    "Since the capacity_mw column is in megawatt and the electricuty generation data is in gigawatt"
   ]
  },
  {
   "cell_type": "code",
   "execution_count": 7,
   "id": "1e203329",
   "metadata": {},
   "outputs": [],
   "source": [
    "data['capacity_mw'] = 0.001*data['capacity_mw']"
   ]
  },
  {
   "cell_type": "markdown",
   "id": "d73ab404",
   "metadata": {},
   "source": [
    "Now, all the values are in gigawatt"
   ]
  },
  {
   "cell_type": "markdown",
   "id": "b59b1a60",
   "metadata": {},
   "source": [
    "## Missing Value Treatment"
   ]
  },
  {
   "cell_type": "code",
   "execution_count": 8,
   "id": "0d78c357",
   "metadata": {},
   "outputs": [
    {
     "data": {
      "text/plain": [
       "capacity_mw                   0\n",
       "primary_fuel                  0\n",
       "other_fuel1                 709\n",
       "other_fuel2                 907\n",
       "other_fuel3                 908\n",
       "generation_gwh_2013         524\n",
       "generation_gwh_2014         507\n",
       "generation_gwh_2015         483\n",
       "generation_gwh_2016         471\n",
       "generation_gwh_2017         465\n",
       "estimated_generation_gwh    908\n",
       "dtype: int64"
      ]
     },
     "execution_count": 8,
     "metadata": {},
     "output_type": "execute_result"
    }
   ],
   "source": [
    "data.isnull().sum()"
   ]
  },
  {
   "cell_type": "markdown",
   "id": "4d5f911d",
   "metadata": {},
   "source": [
    "##### Remove the following columns:\n",
    "- estimated_generation_gwh - All the values are NaN\n",
    "- other_fuel1 - Since it has only 199 data and fuel type cannot be treated becuase this is sensitive data for this type of problem statement\n",
    "- other_fuel2 - Since 907 values are NaN\n",
    "- other_fuel3 - Since 908 values are NaN\n",
    "\n",
    "##### Treat the NaN's for the following using mean value, since all are related to electricity capacity:\n",
    "- generation_gwh_2013\n",
    "- generation_gwh_2014\n",
    "- generation_gwh_2015\n",
    "- generation_gwh_2016\n",
    "- generation_gwh_2017"
   ]
  },
  {
   "cell_type": "code",
   "execution_count": 9,
   "id": "db037289",
   "metadata": {},
   "outputs": [],
   "source": [
    "data = data.drop(['estimated_generation_gwh','other_fuel1','other_fuel2','other_fuel3'], axis = 1)"
   ]
  },
  {
   "cell_type": "markdown",
   "id": "df4a416e",
   "metadata": {},
   "source": [
    "The columns having more NaN's are dropped"
   ]
  },
  {
   "cell_type": "code",
   "execution_count": 10,
   "id": "5e2ace48",
   "metadata": {},
   "outputs": [
    {
     "data": {
      "text/html": [
       "<div>\n",
       "<style scoped>\n",
       "    .dataframe tbody tr th:only-of-type {\n",
       "        vertical-align: middle;\n",
       "    }\n",
       "\n",
       "    .dataframe tbody tr th {\n",
       "        vertical-align: top;\n",
       "    }\n",
       "\n",
       "    .dataframe thead th {\n",
       "        text-align: right;\n",
       "    }\n",
       "</style>\n",
       "<table border=\"1\" class=\"dataframe\">\n",
       "  <thead>\n",
       "    <tr style=\"text-align: right;\">\n",
       "      <th></th>\n",
       "      <th>capacity_mw</th>\n",
       "      <th>primary_fuel</th>\n",
       "      <th>generation_gwh_2013</th>\n",
       "      <th>generation_gwh_2014</th>\n",
       "      <th>generation_gwh_2015</th>\n",
       "      <th>generation_gwh_2016</th>\n",
       "      <th>generation_gwh_2017</th>\n",
       "    </tr>\n",
       "  </thead>\n",
       "  <tbody>\n",
       "    <tr>\n",
       "      <th>0</th>\n",
       "      <td>0.00250</td>\n",
       "      <td>Solar</td>\n",
       "      <td>NaN</td>\n",
       "      <td>NaN</td>\n",
       "      <td>NaN</td>\n",
       "      <td>NaN</td>\n",
       "      <td>NaN</td>\n",
       "    </tr>\n",
       "    <tr>\n",
       "      <th>1</th>\n",
       "      <td>0.09800</td>\n",
       "      <td>Coal</td>\n",
       "      <td>NaN</td>\n",
       "      <td>NaN</td>\n",
       "      <td>NaN</td>\n",
       "      <td>NaN</td>\n",
       "      <td>NaN</td>\n",
       "    </tr>\n",
       "    <tr>\n",
       "      <th>2</th>\n",
       "      <td>0.03920</td>\n",
       "      <td>Wind</td>\n",
       "      <td>NaN</td>\n",
       "      <td>NaN</td>\n",
       "      <td>NaN</td>\n",
       "      <td>NaN</td>\n",
       "      <td>NaN</td>\n",
       "    </tr>\n",
       "    <tr>\n",
       "      <th>13</th>\n",
       "      <td>0.01695</td>\n",
       "      <td>Hydro</td>\n",
       "      <td>NaN</td>\n",
       "      <td>NaN</td>\n",
       "      <td>NaN</td>\n",
       "      <td>NaN</td>\n",
       "      <td>NaN</td>\n",
       "    </tr>\n",
       "    <tr>\n",
       "      <th>14</th>\n",
       "      <td>0.00900</td>\n",
       "      <td>Hydro</td>\n",
       "      <td>NaN</td>\n",
       "      <td>NaN</td>\n",
       "      <td>NaN</td>\n",
       "      <td>NaN</td>\n",
       "      <td>NaN</td>\n",
       "    </tr>\n",
       "    <tr>\n",
       "      <th>...</th>\n",
       "      <td>...</td>\n",
       "      <td>...</td>\n",
       "      <td>...</td>\n",
       "      <td>...</td>\n",
       "      <td>...</td>\n",
       "      <td>...</td>\n",
       "      <td>...</td>\n",
       "    </tr>\n",
       "    <tr>\n",
       "      <th>903</th>\n",
       "      <td>1.60000</td>\n",
       "      <td>Coal</td>\n",
       "      <td>NaN</td>\n",
       "      <td>NaN</td>\n",
       "      <td>0.994875</td>\n",
       "      <td>233.59665</td>\n",
       "      <td>865.4</td>\n",
       "    </tr>\n",
       "    <tr>\n",
       "      <th>904</th>\n",
       "      <td>0.00300</td>\n",
       "      <td>Solar</td>\n",
       "      <td>NaN</td>\n",
       "      <td>NaN</td>\n",
       "      <td>NaN</td>\n",
       "      <td>NaN</td>\n",
       "      <td>NaN</td>\n",
       "    </tr>\n",
       "    <tr>\n",
       "      <th>905</th>\n",
       "      <td>0.02550</td>\n",
       "      <td>Wind</td>\n",
       "      <td>NaN</td>\n",
       "      <td>NaN</td>\n",
       "      <td>NaN</td>\n",
       "      <td>NaN</td>\n",
       "      <td>NaN</td>\n",
       "    </tr>\n",
       "    <tr>\n",
       "      <th>906</th>\n",
       "      <td>0.08000</td>\n",
       "      <td>Coal</td>\n",
       "      <td>NaN</td>\n",
       "      <td>NaN</td>\n",
       "      <td>NaN</td>\n",
       "      <td>NaN</td>\n",
       "      <td>NaN</td>\n",
       "    </tr>\n",
       "    <tr>\n",
       "      <th>907</th>\n",
       "      <td>0.01650</td>\n",
       "      <td>Wind</td>\n",
       "      <td>NaN</td>\n",
       "      <td>NaN</td>\n",
       "      <td>NaN</td>\n",
       "      <td>NaN</td>\n",
       "      <td>NaN</td>\n",
       "    </tr>\n",
       "  </tbody>\n",
       "</table>\n",
       "<p>530 rows × 7 columns</p>\n",
       "</div>"
      ],
      "text/plain": [
       "     capacity_mw primary_fuel  generation_gwh_2013  generation_gwh_2014  \\\n",
       "0        0.00250        Solar                  NaN                  NaN   \n",
       "1        0.09800         Coal                  NaN                  NaN   \n",
       "2        0.03920         Wind                  NaN                  NaN   \n",
       "13       0.01695        Hydro                  NaN                  NaN   \n",
       "14       0.00900        Hydro                  NaN                  NaN   \n",
       "..           ...          ...                  ...                  ...   \n",
       "903      1.60000         Coal                  NaN                  NaN   \n",
       "904      0.00300        Solar                  NaN                  NaN   \n",
       "905      0.02550         Wind                  NaN                  NaN   \n",
       "906      0.08000         Coal                  NaN                  NaN   \n",
       "907      0.01650         Wind                  NaN                  NaN   \n",
       "\n",
       "     generation_gwh_2015  generation_gwh_2016  generation_gwh_2017  \n",
       "0                    NaN                  NaN                  NaN  \n",
       "1                    NaN                  NaN                  NaN  \n",
       "2                    NaN                  NaN                  NaN  \n",
       "13                   NaN                  NaN                  NaN  \n",
       "14                   NaN                  NaN                  NaN  \n",
       "..                   ...                  ...                  ...  \n",
       "903             0.994875            233.59665                865.4  \n",
       "904                  NaN                  NaN                  NaN  \n",
       "905                  NaN                  NaN                  NaN  \n",
       "906                  NaN                  NaN                  NaN  \n",
       "907                  NaN                  NaN                  NaN  \n",
       "\n",
       "[530 rows x 7 columns]"
      ]
     },
     "execution_count": 10,
     "metadata": {},
     "output_type": "execute_result"
    }
   ],
   "source": [
    "is_NaN = data.isnull()\n",
    "row_has_NaN = is_NaN.any(axis=1)\n",
    "rows_with_NaN = data[row_has_NaN]\n",
    "rows_with_NaN"
   ]
  },
  {
   "cell_type": "markdown",
   "id": "30e3ab37",
   "metadata": {},
   "source": [
    "There are 530 rows in total which has NaN. We cannot just remove those rows with NaN because that particular plant has the capacity to generate electricity and it has not generated. This must be taken into account since the fuel type of electricity generation is also considered here."
   ]
  },
  {
   "cell_type": "raw",
   "id": "0af3e90f",
   "metadata": {},
   "source": [
    "pd.set_option('display.max_rows', None)"
   ]
  },
  {
   "cell_type": "code",
   "execution_count": 11,
   "id": "39ad7bed",
   "metadata": {},
   "outputs": [
    {
     "data": {
      "text/plain": [
       "0      5\n",
       "1      5\n",
       "2      5\n",
       "3      0\n",
       "4      0\n",
       "      ..\n",
       "903    2\n",
       "904    5\n",
       "905    5\n",
       "906    5\n",
       "907    5\n",
       "Length: 908, dtype: int64"
      ]
     },
     "execution_count": 11,
     "metadata": {},
     "output_type": "execute_result"
    }
   ],
   "source": [
    "nan = data.isnull().sum(axis=1)\n",
    "nan"
   ]
  },
  {
   "cell_type": "markdown",
   "id": "9a406648",
   "metadata": {},
   "source": [
    "There are more no. of rows having all 5 years of 0 generation. SO, we cannot take mean plant-wise. Mean has to be taken column-wise"
   ]
  },
  {
   "cell_type": "code",
   "execution_count": 12,
   "id": "47cd86f4",
   "metadata": {},
   "outputs": [],
   "source": [
    "data['generation_gwh_2013'] = data['generation_gwh_2013'].fillna(data['generation_gwh_2013'].mean())\n",
    "data['generation_gwh_2014'] = data['generation_gwh_2014'].fillna(data['generation_gwh_2014'].mean())\n",
    "data['generation_gwh_2015'] = data['generation_gwh_2015'].fillna(data['generation_gwh_2015'].mean())\n",
    "data['generation_gwh_2016'] = data['generation_gwh_2016'].fillna(data['generation_gwh_2016'].mean())\n",
    "data['generation_gwh_2017'] = data['generation_gwh_2017'].fillna(data['generation_gwh_2017'].mean())"
   ]
  },
  {
   "cell_type": "markdown",
   "id": "dc5adbca",
   "metadata": {},
   "source": [
    "All NaN's are filled with mean"
   ]
  },
  {
   "cell_type": "markdown",
   "id": "0f69cddf",
   "metadata": {},
   "source": [
    "## Encoding"
   ]
  },
  {
   "cell_type": "code",
   "execution_count": 13,
   "id": "b4a52135",
   "metadata": {},
   "outputs": [
    {
     "name": "stdout",
     "output_type": "stream",
     "text": [
      "8\n"
     ]
    }
   ],
   "source": [
    "print(data['primary_fuel'].nunique())"
   ]
  },
  {
   "cell_type": "code",
   "execution_count": 14,
   "id": "379532ab",
   "metadata": {},
   "outputs": [
    {
     "data": {
      "text/plain": [
       "array(['Solar', 'Coal', 'Wind', 'Gas', 'Hydro', 'Biomass', 'Oil',\n",
       "       'Nuclear'], dtype=object)"
      ]
     },
     "execution_count": 14,
     "metadata": {},
     "output_type": "execute_result"
    }
   ],
   "source": [
    "data['primary_fuel'].unique()"
   ]
  },
  {
   "cell_type": "code",
   "execution_count": 15,
   "id": "434e1145",
   "metadata": {},
   "outputs": [],
   "source": [
    "from sklearn.preprocessing import OrdinalEncoder\n",
    "enc = OrdinalEncoder()"
   ]
  },
  {
   "cell_type": "code",
   "execution_count": 16,
   "id": "40c93451",
   "metadata": {},
   "outputs": [
    {
     "data": {
      "text/html": [
       "<div>\n",
       "<style scoped>\n",
       "    .dataframe tbody tr th:only-of-type {\n",
       "        vertical-align: middle;\n",
       "    }\n",
       "\n",
       "    .dataframe tbody tr th {\n",
       "        vertical-align: top;\n",
       "    }\n",
       "\n",
       "    .dataframe thead th {\n",
       "        text-align: right;\n",
       "    }\n",
       "</style>\n",
       "<table border=\"1\" class=\"dataframe\">\n",
       "  <thead>\n",
       "    <tr style=\"text-align: right;\">\n",
       "      <th></th>\n",
       "      <th>capacity_mw</th>\n",
       "      <th>primary_fuel</th>\n",
       "      <th>generation_gwh_2013</th>\n",
       "      <th>generation_gwh_2014</th>\n",
       "      <th>generation_gwh_2015</th>\n",
       "      <th>generation_gwh_2016</th>\n",
       "      <th>generation_gwh_2017</th>\n",
       "    </tr>\n",
       "  </thead>\n",
       "  <tbody>\n",
       "    <tr>\n",
       "      <th>0</th>\n",
       "      <td>0.0025</td>\n",
       "      <td>6.0</td>\n",
       "      <td>2304.059202</td>\n",
       "      <td>2420.393316</td>\n",
       "      <td>2414.072373</td>\n",
       "      <td>2453.936292</td>\n",
       "      <td>2531.754458</td>\n",
       "    </tr>\n",
       "    <tr>\n",
       "      <th>1</th>\n",
       "      <td>0.0980</td>\n",
       "      <td>1.0</td>\n",
       "      <td>2304.059202</td>\n",
       "      <td>2420.393316</td>\n",
       "      <td>2414.072373</td>\n",
       "      <td>2453.936292</td>\n",
       "      <td>2531.754458</td>\n",
       "    </tr>\n",
       "    <tr>\n",
       "      <th>2</th>\n",
       "      <td>0.0392</td>\n",
       "      <td>7.0</td>\n",
       "      <td>2304.059202</td>\n",
       "      <td>2420.393316</td>\n",
       "      <td>2414.072373</td>\n",
       "      <td>2453.936292</td>\n",
       "      <td>2531.754458</td>\n",
       "    </tr>\n",
       "    <tr>\n",
       "      <th>3</th>\n",
       "      <td>0.1350</td>\n",
       "      <td>2.0</td>\n",
       "      <td>631.777928</td>\n",
       "      <td>617.789264</td>\n",
       "      <td>843.747000</td>\n",
       "      <td>886.004428</td>\n",
       "      <td>663.774500</td>\n",
       "    </tr>\n",
       "    <tr>\n",
       "      <th>4</th>\n",
       "      <td>1.8000</td>\n",
       "      <td>1.0</td>\n",
       "      <td>1668.290000</td>\n",
       "      <td>3035.550000</td>\n",
       "      <td>5916.370000</td>\n",
       "      <td>6243.000000</td>\n",
       "      <td>5385.579736</td>\n",
       "    </tr>\n",
       "    <tr>\n",
       "      <th>...</th>\n",
       "      <td>...</td>\n",
       "      <td>...</td>\n",
       "      <td>...</td>\n",
       "      <td>...</td>\n",
       "      <td>...</td>\n",
       "      <td>...</td>\n",
       "      <td>...</td>\n",
       "    </tr>\n",
       "    <tr>\n",
       "      <th>903</th>\n",
       "      <td>1.6000</td>\n",
       "      <td>1.0</td>\n",
       "      <td>2304.059202</td>\n",
       "      <td>2420.393316</td>\n",
       "      <td>0.994875</td>\n",
       "      <td>233.596650</td>\n",
       "      <td>865.400000</td>\n",
       "    </tr>\n",
       "    <tr>\n",
       "      <th>904</th>\n",
       "      <td>0.0030</td>\n",
       "      <td>6.0</td>\n",
       "      <td>2304.059202</td>\n",
       "      <td>2420.393316</td>\n",
       "      <td>2414.072373</td>\n",
       "      <td>2453.936292</td>\n",
       "      <td>2531.754458</td>\n",
       "    </tr>\n",
       "    <tr>\n",
       "      <th>905</th>\n",
       "      <td>0.0255</td>\n",
       "      <td>7.0</td>\n",
       "      <td>2304.059202</td>\n",
       "      <td>2420.393316</td>\n",
       "      <td>2414.072373</td>\n",
       "      <td>2453.936292</td>\n",
       "      <td>2531.754458</td>\n",
       "    </tr>\n",
       "    <tr>\n",
       "      <th>906</th>\n",
       "      <td>0.0800</td>\n",
       "      <td>1.0</td>\n",
       "      <td>2304.059202</td>\n",
       "      <td>2420.393316</td>\n",
       "      <td>2414.072373</td>\n",
       "      <td>2453.936292</td>\n",
       "      <td>2531.754458</td>\n",
       "    </tr>\n",
       "    <tr>\n",
       "      <th>907</th>\n",
       "      <td>0.0165</td>\n",
       "      <td>7.0</td>\n",
       "      <td>2304.059202</td>\n",
       "      <td>2420.393316</td>\n",
       "      <td>2414.072373</td>\n",
       "      <td>2453.936292</td>\n",
       "      <td>2531.754458</td>\n",
       "    </tr>\n",
       "  </tbody>\n",
       "</table>\n",
       "<p>908 rows × 7 columns</p>\n",
       "</div>"
      ],
      "text/plain": [
       "     capacity_mw  primary_fuel  generation_gwh_2013  generation_gwh_2014  \\\n",
       "0         0.0025           6.0          2304.059202          2420.393316   \n",
       "1         0.0980           1.0          2304.059202          2420.393316   \n",
       "2         0.0392           7.0          2304.059202          2420.393316   \n",
       "3         0.1350           2.0           631.777928           617.789264   \n",
       "4         1.8000           1.0          1668.290000          3035.550000   \n",
       "..           ...           ...                  ...                  ...   \n",
       "903       1.6000           1.0          2304.059202          2420.393316   \n",
       "904       0.0030           6.0          2304.059202          2420.393316   \n",
       "905       0.0255           7.0          2304.059202          2420.393316   \n",
       "906       0.0800           1.0          2304.059202          2420.393316   \n",
       "907       0.0165           7.0          2304.059202          2420.393316   \n",
       "\n",
       "     generation_gwh_2015  generation_gwh_2016  generation_gwh_2017  \n",
       "0            2414.072373          2453.936292          2531.754458  \n",
       "1            2414.072373          2453.936292          2531.754458  \n",
       "2            2414.072373          2453.936292          2531.754458  \n",
       "3             843.747000           886.004428           663.774500  \n",
       "4            5916.370000          6243.000000          5385.579736  \n",
       "..                   ...                  ...                  ...  \n",
       "903             0.994875           233.596650           865.400000  \n",
       "904          2414.072373          2453.936292          2531.754458  \n",
       "905          2414.072373          2453.936292          2531.754458  \n",
       "906          2414.072373          2453.936292          2531.754458  \n",
       "907          2414.072373          2453.936292          2531.754458  \n",
       "\n",
       "[908 rows x 7 columns]"
      ]
     },
     "execution_count": 16,
     "metadata": {},
     "output_type": "execute_result"
    }
   ],
   "source": [
    "for i in data.columns:\n",
    "    if data[i].dtypes =='object':\n",
    "        data[i] = enc.fit_transform(data[i].values.reshape(-1,1))\n",
    "data"
   ]
  },
  {
   "cell_type": "markdown",
   "id": "e57938de",
   "metadata": {},
   "source": [
    "Thus the data has been encoded using ordinal encoder"
   ]
  },
  {
   "cell_type": "markdown",
   "id": "5e8d2562",
   "metadata": {},
   "source": [
    "The fuel types are encoded with the following numbers:\n",
    "0- Biomass\n",
    "1- Coal\n",
    "2- Gas\n",
    "3- Hydro\n",
    "4- Nuclear\n",
    "5- Oil\n",
    "6- Solar\n",
    "7- Wind"
   ]
  },
  {
   "cell_type": "markdown",
   "id": "e20e1ffd",
   "metadata": {},
   "source": [
    "## Describing the data after encoding"
   ]
  },
  {
   "cell_type": "code",
   "execution_count": 17,
   "id": "fdc5c730",
   "metadata": {},
   "outputs": [
    {
     "data": {
      "text/html": [
       "<div>\n",
       "<style scoped>\n",
       "    .dataframe tbody tr th:only-of-type {\n",
       "        vertical-align: middle;\n",
       "    }\n",
       "\n",
       "    .dataframe tbody tr th {\n",
       "        vertical-align: top;\n",
       "    }\n",
       "\n",
       "    .dataframe thead th {\n",
       "        text-align: right;\n",
       "    }\n",
       "</style>\n",
       "<table border=\"1\" class=\"dataframe\">\n",
       "  <thead>\n",
       "    <tr style=\"text-align: right;\">\n",
       "      <th></th>\n",
       "      <th>capacity_mw</th>\n",
       "      <th>primary_fuel</th>\n",
       "      <th>generation_gwh_2013</th>\n",
       "      <th>generation_gwh_2014</th>\n",
       "      <th>generation_gwh_2015</th>\n",
       "      <th>generation_gwh_2016</th>\n",
       "      <th>generation_gwh_2017</th>\n",
       "    </tr>\n",
       "  </thead>\n",
       "  <tbody>\n",
       "    <tr>\n",
       "      <th>count</th>\n",
       "      <td>908.000000</td>\n",
       "      <td>908.000000</td>\n",
       "      <td>908.000000</td>\n",
       "      <td>908.000000</td>\n",
       "      <td>908.000000</td>\n",
       "      <td>908.000000</td>\n",
       "      <td>908.000000</td>\n",
       "    </tr>\n",
       "    <tr>\n",
       "      <th>mean</th>\n",
       "      <td>0.321046</td>\n",
       "      <td>3.205947</td>\n",
       "      <td>2304.059202</td>\n",
       "      <td>2420.393316</td>\n",
       "      <td>2414.072373</td>\n",
       "      <td>2453.936292</td>\n",
       "      <td>2531.754458</td>\n",
       "    </tr>\n",
       "    <tr>\n",
       "      <th>std</th>\n",
       "      <td>0.580222</td>\n",
       "      <td>2.281339</td>\n",
       "      <td>2465.930970</td>\n",
       "      <td>2665.360236</td>\n",
       "      <td>2860.146282</td>\n",
       "      <td>2878.730064</td>\n",
       "      <td>2923.041411</td>\n",
       "    </tr>\n",
       "    <tr>\n",
       "      <th>min</th>\n",
       "      <td>0.000000</td>\n",
       "      <td>0.000000</td>\n",
       "      <td>0.000000</td>\n",
       "      <td>0.000000</td>\n",
       "      <td>0.000000</td>\n",
       "      <td>0.000000</td>\n",
       "      <td>0.000000</td>\n",
       "    </tr>\n",
       "    <tr>\n",
       "      <th>25%</th>\n",
       "      <td>0.016837</td>\n",
       "      <td>1.000000</td>\n",
       "      <td>1332.538825</td>\n",
       "      <td>1175.264825</td>\n",
       "      <td>874.205000</td>\n",
       "      <td>826.629750</td>\n",
       "      <td>852.438887</td>\n",
       "    </tr>\n",
       "    <tr>\n",
       "      <th>50%</th>\n",
       "      <td>0.060000</td>\n",
       "      <td>3.000000</td>\n",
       "      <td>2304.059202</td>\n",
       "      <td>2420.393316</td>\n",
       "      <td>2414.072373</td>\n",
       "      <td>2453.936292</td>\n",
       "      <td>2531.754458</td>\n",
       "    </tr>\n",
       "    <tr>\n",
       "      <th>75%</th>\n",
       "      <td>0.388125</td>\n",
       "      <td>6.000000</td>\n",
       "      <td>2304.059202</td>\n",
       "      <td>2420.393316</td>\n",
       "      <td>2414.072373</td>\n",
       "      <td>2453.936292</td>\n",
       "      <td>2531.754458</td>\n",
       "    </tr>\n",
       "    <tr>\n",
       "      <th>max</th>\n",
       "      <td>4.760000</td>\n",
       "      <td>7.000000</td>\n",
       "      <td>27586.200000</td>\n",
       "      <td>28127.000000</td>\n",
       "      <td>30539.000000</td>\n",
       "      <td>30015.000000</td>\n",
       "      <td>35116.000000</td>\n",
       "    </tr>\n",
       "  </tbody>\n",
       "</table>\n",
       "</div>"
      ],
      "text/plain": [
       "       capacity_mw  primary_fuel  generation_gwh_2013  generation_gwh_2014  \\\n",
       "count   908.000000    908.000000           908.000000           908.000000   \n",
       "mean      0.321046      3.205947          2304.059202          2420.393316   \n",
       "std       0.580222      2.281339          2465.930970          2665.360236   \n",
       "min       0.000000      0.000000             0.000000             0.000000   \n",
       "25%       0.016837      1.000000          1332.538825          1175.264825   \n",
       "50%       0.060000      3.000000          2304.059202          2420.393316   \n",
       "75%       0.388125      6.000000          2304.059202          2420.393316   \n",
       "max       4.760000      7.000000         27586.200000         28127.000000   \n",
       "\n",
       "       generation_gwh_2015  generation_gwh_2016  generation_gwh_2017  \n",
       "count           908.000000           908.000000           908.000000  \n",
       "mean           2414.072373          2453.936292          2531.754458  \n",
       "std            2860.146282          2878.730064          2923.041411  \n",
       "min               0.000000             0.000000             0.000000  \n",
       "25%             874.205000           826.629750           852.438887  \n",
       "50%            2414.072373          2453.936292          2531.754458  \n",
       "75%            2414.072373          2453.936292          2531.754458  \n",
       "max           30539.000000         30015.000000         35116.000000  "
      ]
     },
     "execution_count": 17,
     "metadata": {},
     "output_type": "execute_result"
    }
   ],
   "source": [
    "data.describe()"
   ]
  },
  {
   "cell_type": "markdown",
   "id": "b9cff05b",
   "metadata": {},
   "source": [
    "The data has no null values and are varied. The data has to be tandardised before using to avoid bias"
   ]
  },
  {
   "cell_type": "markdown",
   "id": "dcf30afb",
   "metadata": {},
   "source": [
    "## Correlation"
   ]
  },
  {
   "cell_type": "code",
   "execution_count": 18,
   "id": "d0ca1874",
   "metadata": {},
   "outputs": [
    {
     "data": {
      "image/png": "[encoded data removed]",
      "text/plain": [
       "<Figure size 1584x1152 with 2 Axes>"
      ]
     },
     "metadata": {
      "needs_background": "light"
     },
     "output_type": "display_data"
    }
   ],
   "source": [
    "corr_mat = data.corr()\n",
    "plt.figure(figsize=[22,16])\n",
    "sns.heatmap(corr_mat,annot = True)\n",
    "plt.title('Correlation Matrix')\n",
    "plt.show()"
   ]
  },
  {
   "cell_type": "markdown",
   "id": "7cfe1fd8",
   "metadata": {},
   "source": [
    "##### There are more no. of highlu positively correlated columns\n",
    "- generation_gwh_2013 is highly correlated with generation_gwh_2014 with 0.96\n",
    "- generation_gwh_2014 is highly correlated with generation_gwh_2015 with 0.95\n",
    "- generation_gwh_2015 is highly correlated with generation_gwh_2016 with 0.97\n",
    "- generation_gwh_2016 is highly correlated with generation_gwh_2017 with 0.96\n",
    "##### Though these are highly correlated, we have to confirm its correlation"
   ]
  },
  {
   "cell_type": "markdown",
   "id": "86b73cf8",
   "metadata": {},
   "source": [
    "## Confirming the correlation existence"
   ]
  },
  {
   "cell_type": "code",
   "execution_count": 19,
   "id": "a25080d9",
   "metadata": {},
   "outputs": [
    {
     "data": {
      "image/png": "[encoded data removed]",
      "text/plain": [
       "<Figure size 432x288 with 1 Axes>"
      ]
     },
     "metadata": {
      "needs_background": "light"
     },
     "output_type": "display_data"
    }
   ],
   "source": [
    "plt.scatter(data.generation_gwh_2013, data.generation_gwh_2014)\n",
    "plt.xlabel('generation_gwh_2013')\n",
    "plt.ylabel('generation_gwh_2014')\n",
    "plt.title ('2013 vs 2014')\n",
    "plt.show()"
   ]
  },
  {
   "cell_type": "markdown",
   "id": "3199404c",
   "metadata": {},
   "source": [
    "Yes, both are very highly correlated"
   ]
  },
  {
   "cell_type": "code",
   "execution_count": 20,
   "id": "0d21967b",
   "metadata": {},
   "outputs": [
    {
     "data": {
      "image/png": "[encoded data removed]",
      "text/plain": [
       "<Figure size 432x288 with 1 Axes>"
      ]
     },
     "metadata": {
      "needs_background": "light"
     },
     "output_type": "display_data"
    }
   ],
   "source": [
    "plt.scatter(data.generation_gwh_2014, data.generation_gwh_2015)\n",
    "plt.xlabel('generation_gwh_2014')\n",
    "plt.ylabel('generation_gwh_2015')\n",
    "plt.title ('2014 vs 2015')\n",
    "plt.show()"
   ]
  },
  {
   "cell_type": "markdown",
   "id": "d2ccd04a",
   "metadata": {},
   "source": [
    "Yes, both are very highly correlated"
   ]
  },
  {
   "cell_type": "code",
   "execution_count": 21,
   "id": "9e3da2a0",
   "metadata": {},
   "outputs": [
    {
     "data": {
      "image/png": "[encoded data removed]",
      "text/plain": [
       "<Figure size 432x288 with 1 Axes>"
      ]
     },
     "metadata": {
      "needs_background": "light"
     },
     "output_type": "display_data"
    }
   ],
   "source": [
    "plt.scatter(data.generation_gwh_2015, data.generation_gwh_2016)\n",
    "plt.xlabel('generation_gwh_2015')\n",
    "plt.ylabel('generation_gwh_2016')\n",
    "plt.title ('2015 vs 2016')\n",
    "plt.show()"
   ]
  },
  {
   "cell_type": "markdown",
   "id": "3ffb7938",
   "metadata": {},
   "source": [
    "Yes, both are very highly correlated"
   ]
  },
  {
   "cell_type": "code",
   "execution_count": 22,
   "id": "49310ab6",
   "metadata": {},
   "outputs": [
    {
     "data": {
      "image/png": "[encoded data removed]",
      "text/plain": [
       "<Figure size 432x288 with 1 Axes>"
      ]
     },
     "metadata": {
      "needs_background": "light"
     },
     "output_type": "display_data"
    }
   ],
   "source": [
    "plt.scatter(data.generation_gwh_2016, data.generation_gwh_2017)\n",
    "plt.xlabel('generation_gwh_2016')\n",
    "plt.ylabel('generation_gwh_2017')\n",
    "plt.title ('2016 vs 2017')\n",
    "plt.show()"
   ]
  },
  {
   "cell_type": "markdown",
   "id": "7bfdc3cc",
   "metadata": {},
   "source": [
    "Yes, both are very highly correlated"
   ]
  },
  {
   "cell_type": "code",
   "execution_count": 23,
   "id": "d5f0fb69",
   "metadata": {},
   "outputs": [],
   "source": [
    "data = data.drop(['generation_gwh_2013','generation_gwh_2015','generation_gwh_2017'],axis=1)"
   ]
  },
  {
   "cell_type": "markdown",
   "id": "af1e7dd2",
   "metadata": {},
   "source": [
    "Dropped 2013,2015 and 2017 data to reduce the correlation. Though there will be coreelation between 2014 and 2016 data of 0.93, which is let go"
   ]
  },
  {
   "cell_type": "code",
   "execution_count": 24,
   "id": "4b82eb99",
   "metadata": {},
   "outputs": [
    {
     "data": {
      "text/plain": [
       "(908, 4)"
      ]
     },
     "execution_count": 24,
     "metadata": {},
     "output_type": "execute_result"
    }
   ],
   "source": [
    "data.shape"
   ]
  },
  {
   "cell_type": "markdown",
   "id": "56d36592",
   "metadata": {},
   "source": [
    "## Collinearity"
   ]
  },
  {
   "cell_type": "code",
   "execution_count": 25,
   "id": "d7c49445",
   "metadata": {},
   "outputs": [
    {
     "data": {
      "text/plain": [
       "<function matplotlib.pyplot.show(close=None, block=None)>"
      ]
     },
     "execution_count": 25,
     "metadata": {},
     "output_type": "execute_result"
    },
    {
     "data": {
      "image/png": "[encoded data removed]",
      "text/plain": [
       "<Figure size 1584x1152 with 2 Axes>"
      ]
     },
     "metadata": {
      "needs_background": "light"
     },
     "output_type": "display_data"
    }
   ],
   "source": [
    "data_corr = data.corr().abs()\n",
    "plt.figure (figsize = (22,16))\n",
    "sns.heatmap(data_corr,annot = True, annot_kws = {'size':8}) \n",
    "plt.show"
   ]
  },
  {
   "cell_type": "markdown",
   "id": "e204731e",
   "metadata": {},
   "source": [
    "There is collinearity between 2014 and 2016 data, but not in high level."
   ]
  },
  {
   "cell_type": "markdown",
   "id": "284440dd",
   "metadata": {},
   "source": [
    "## Data Distribution"
   ]
  },
  {
   "cell_type": "code",
   "execution_count": 26,
   "id": "575d4df3",
   "metadata": {},
   "outputs": [],
   "source": [
    "class_data = data['primary_fuel']"
   ]
  },
  {
   "cell_type": "markdown",
   "id": "958c87a6",
   "metadata": {},
   "source": [
    "### Visualisation of categorical variable"
   ]
  },
  {
   "cell_type": "code",
   "execution_count": 27,
   "id": "c0dac5a5",
   "metadata": {},
   "outputs": [
    {
     "name": "stdout",
     "output_type": "stream",
     "text": [
      "1.0    259\n",
      "3.0    250\n",
      "6.0    127\n",
      "7.0    123\n",
      "2.0     69\n",
      "0.0     50\n",
      "5.0     21\n",
      "4.0      9\n",
      "Name: primary_fuel, dtype: int64\n"
     ]
    },
    {
     "data": {
      "image/png": "[encoded data removed]",
      "text/plain": [
       "<Figure size 432x288 with 1 Axes>"
      ]
     },
     "metadata": {
      "needs_background": "light"
     },
     "output_type": "display_data"
    }
   ],
   "source": [
    "ax = sns.countplot(x = 'primary_fuel', data = data)\n",
    "print(data['primary_fuel'].value_counts())"
   ]
  },
  {
   "cell_type": "markdown",
   "id": "cccd1332",
   "metadata": {},
   "source": [
    "- By using Biomass, electricity is generated by 50 plants\n",
    "- By using Coal, electricity is generated by 259 plants\n",
    "- By using Gas, electricity is generated is by 69 plants\n",
    "- By using Hydro, electricity is generated is by 250 plants\n",
    "- By using Nuclear, electricity is generated is by 9 plants\n",
    "- By using Oil, electricity is generated is by 21 plants\n",
    "- By using Solar, electricity is generated is by 127 plants\n",
    "- By using Wind, electricity is generated is by 123 plants"
   ]
  },
  {
   "cell_type": "markdown",
   "id": "0099db22",
   "metadata": {},
   "source": [
    "### Visualisation of continuous variable"
   ]
  },
  {
   "cell_type": "code",
   "execution_count": 28,
   "id": "93a15a5c",
   "metadata": {},
   "outputs": [],
   "source": [
    "continuous_data = data.drop(['primary_fuel'],axis=1)"
   ]
  },
  {
   "cell_type": "code",
   "execution_count": 29,
   "id": "b4b1ee3b",
   "metadata": {},
   "outputs": [
    {
     "data": {
      "text/plain": [
       "<function matplotlib.pyplot.show(close=None, block=None)>"
      ]
     },
     "execution_count": 29,
     "metadata": {},
     "output_type": "execute_result"
    },
    {
     "data": {
      "image/png": "[encoded data removed]",
      "text/plain": [
       "<Figure size 1440x1440 with 3 Axes>"
      ]
     },
     "metadata": {},
     "output_type": "display_data"
    }
   ],
   "source": [
    "plt.figure(figsize = (20,20), facecolor = 'white')\n",
    "plotnumber = 1\n",
    "\n",
    "for column in continuous_data:\n",
    "    if plotnumber <=4:\n",
    "        ax =  plt.subplot(2,2,plotnumber)\n",
    "        sns.distplot(continuous_data[column])\n",
    "        plt.xlabel(column, fontsize = 20)\n",
    "    plotnumber+=1\n",
    "plt.show"
   ]
  },
  {
   "cell_type": "markdown",
   "id": "6f12b0fe",
   "metadata": {},
   "source": [
    "All 3 data are skewed"
   ]
  },
  {
   "cell_type": "markdown",
   "id": "39e5819a",
   "metadata": {},
   "source": [
    "## Treating Outliers"
   ]
  },
  {
   "cell_type": "code",
   "execution_count": 30,
   "id": "08e1f2b5",
   "metadata": {},
   "outputs": [
    {
     "data": {
      "image/png": "[encoded data removed]",
      "text/plain": [
       "<Figure size 720x1080 with 4 Axes>"
      ]
     },
     "metadata": {
      "needs_background": "light"
     },
     "output_type": "display_data"
    }
   ],
   "source": [
    "plt.figure(figsize=(10,15))\n",
    "graph = 1\n",
    "for column in data:\n",
    "    if graph<=16:\n",
    "        ax = plt.subplot(4,4,graph)\n",
    "        sns.boxplot(data[column],orient = 'V')\n",
    "        plt.xlabel(column, fontsize=10)\n",
    "    graph+=1\n",
    "plt.show()"
   ]
  },
  {
   "cell_type": "markdown",
   "id": "ce99b543",
   "metadata": {},
   "source": [
    "There are more outliers in capacity_mw, generation_gwh_2014, generation_gwh_2016"
   ]
  },
  {
   "cell_type": "markdown",
   "id": "11548608",
   "metadata": {},
   "source": [
    "### Quantifying"
   ]
  },
  {
   "cell_type": "code",
   "execution_count": 31,
   "id": "ed7198f9",
   "metadata": {},
   "outputs": [],
   "source": [
    "from scipy.stats import zscore"
   ]
  },
  {
   "cell_type": "code",
   "execution_count": 32,
   "id": "fc8edf59",
   "metadata": {},
   "outputs": [
    {
     "data": {
      "text/plain": [
       "False"
      ]
     },
     "execution_count": 32,
     "metadata": {},
     "output_type": "execute_result"
    }
   ],
   "source": [
    "(np.abs(zscore(data))<3).all()"
   ]
  },
  {
   "cell_type": "code",
   "execution_count": 33,
   "id": "d9f1ae34",
   "metadata": {},
   "outputs": [
    {
     "data": {
      "text/html": [
       "<div>\n",
       "<style scoped>\n",
       "    .dataframe tbody tr th:only-of-type {\n",
       "        vertical-align: middle;\n",
       "    }\n",
       "\n",
       "    .dataframe tbody tr th {\n",
       "        vertical-align: top;\n",
       "    }\n",
       "\n",
       "    .dataframe thead th {\n",
       "        text-align: right;\n",
       "    }\n",
       "</style>\n",
       "<table border=\"1\" class=\"dataframe\">\n",
       "  <thead>\n",
       "    <tr style=\"text-align: right;\">\n",
       "      <th></th>\n",
       "      <th>capacity_mw</th>\n",
       "      <th>primary_fuel</th>\n",
       "      <th>generation_gwh_2014</th>\n",
       "      <th>generation_gwh_2016</th>\n",
       "      <th>generation_gwh_2014_zscore</th>\n",
       "      <th>is_outlier</th>\n",
       "    </tr>\n",
       "  </thead>\n",
       "  <tbody>\n",
       "    <tr>\n",
       "      <th>144</th>\n",
       "      <td>2.92</td>\n",
       "      <td>1.0</td>\n",
       "      <td>11385.842</td>\n",
       "      <td>13675.44</td>\n",
       "      <td>3.365545</td>\n",
       "      <td>True</td>\n",
       "    </tr>\n",
       "    <tr>\n",
       "      <th>159</th>\n",
       "      <td>1.82</td>\n",
       "      <td>1.0</td>\n",
       "      <td>11466.000</td>\n",
       "      <td>8197.00</td>\n",
       "      <td>3.395636</td>\n",
       "      <td>True</td>\n",
       "    </tr>\n",
       "    <tr>\n",
       "      <th>210</th>\n",
       "      <td>2.10</td>\n",
       "      <td>1.0</td>\n",
       "      <td>12467.000</td>\n",
       "      <td>12732.00</td>\n",
       "      <td>3.771401</td>\n",
       "      <td>True</td>\n",
       "    </tr>\n",
       "    <tr>\n",
       "      <th>309</th>\n",
       "      <td>2.34</td>\n",
       "      <td>1.0</td>\n",
       "      <td>14471.000</td>\n",
       "      <td>14834.80</td>\n",
       "      <td>4.523684</td>\n",
       "      <td>True</td>\n",
       "    </tr>\n",
       "    <tr>\n",
       "      <th>365</th>\n",
       "      <td>2.60</td>\n",
       "      <td>1.0</td>\n",
       "      <td>18807.000</td>\n",
       "      <td>19078.00</td>\n",
       "      <td>6.151378</td>\n",
       "      <td>True</td>\n",
       "    </tr>\n",
       "    <tr>\n",
       "      <th>494</th>\n",
       "      <td>4.62</td>\n",
       "      <td>1.0</td>\n",
       "      <td>28127.000</td>\n",
       "      <td>28078.00</td>\n",
       "      <td>9.650018</td>\n",
       "      <td>True</td>\n",
       "    </tr>\n",
       "    <tr>\n",
       "      <th>495</th>\n",
       "      <td>4.00</td>\n",
       "      <td>1.0</td>\n",
       "      <td>24501.000</td>\n",
       "      <td>25303.00</td>\n",
       "      <td>8.288852</td>\n",
       "      <td>True</td>\n",
       "    </tr>\n",
       "    <tr>\n",
       "      <th>649</th>\n",
       "      <td>3.00</td>\n",
       "      <td>1.0</td>\n",
       "      <td>19784.000</td>\n",
       "      <td>20486.00</td>\n",
       "      <td>6.518134</td>\n",
       "      <td>True</td>\n",
       "    </tr>\n",
       "    <tr>\n",
       "      <th>658</th>\n",
       "      <td>2.60</td>\n",
       "      <td>1.0</td>\n",
       "      <td>19224.000</td>\n",
       "      <td>18357.00</td>\n",
       "      <td>6.307916</td>\n",
       "      <td>True</td>\n",
       "    </tr>\n",
       "    <tr>\n",
       "      <th>696</th>\n",
       "      <td>3.96</td>\n",
       "      <td>1.0</td>\n",
       "      <td>15069.000</td>\n",
       "      <td>27671.00</td>\n",
       "      <td>4.748168</td>\n",
       "      <td>True</td>\n",
       "    </tr>\n",
       "    <tr>\n",
       "      <th>722</th>\n",
       "      <td>2.00</td>\n",
       "      <td>1.0</td>\n",
       "      <td>14196.000</td>\n",
       "      <td>13389.00</td>\n",
       "      <td>4.420452</td>\n",
       "      <td>True</td>\n",
       "    </tr>\n",
       "    <tr>\n",
       "      <th>725</th>\n",
       "      <td>2.00</td>\n",
       "      <td>1.0</td>\n",
       "      <td>13431.000</td>\n",
       "      <td>13998.00</td>\n",
       "      <td>4.133278</td>\n",
       "      <td>True</td>\n",
       "    </tr>\n",
       "    <tr>\n",
       "      <th>727</th>\n",
       "      <td>2.98</td>\n",
       "      <td>1.0</td>\n",
       "      <td>20603.000</td>\n",
       "      <td>22522.00</td>\n",
       "      <td>6.825579</td>\n",
       "      <td>True</td>\n",
       "    </tr>\n",
       "    <tr>\n",
       "      <th>787</th>\n",
       "      <td>3.00</td>\n",
       "      <td>1.0</td>\n",
       "      <td>22215.000</td>\n",
       "      <td>21370.00</td>\n",
       "      <td>7.430709</td>\n",
       "      <td>True</td>\n",
       "    </tr>\n",
       "    <tr>\n",
       "      <th>809</th>\n",
       "      <td>3.30</td>\n",
       "      <td>1.0</td>\n",
       "      <td>15501.000</td>\n",
       "      <td>16665.00</td>\n",
       "      <td>4.910336</td>\n",
       "      <td>True</td>\n",
       "    </tr>\n",
       "    <tr>\n",
       "      <th>881</th>\n",
       "      <td>4.76</td>\n",
       "      <td>1.0</td>\n",
       "      <td>27594.000</td>\n",
       "      <td>30015.00</td>\n",
       "      <td>9.449935</td>\n",
       "      <td>True</td>\n",
       "    </tr>\n",
       "  </tbody>\n",
       "</table>\n",
       "</div>"
      ],
      "text/plain": [
       "     capacity_mw  primary_fuel  generation_gwh_2014  generation_gwh_2016  \\\n",
       "144         2.92           1.0            11385.842             13675.44   \n",
       "159         1.82           1.0            11466.000              8197.00   \n",
       "210         2.10           1.0            12467.000             12732.00   \n",
       "309         2.34           1.0            14471.000             14834.80   \n",
       "365         2.60           1.0            18807.000             19078.00   \n",
       "494         4.62           1.0            28127.000             28078.00   \n",
       "495         4.00           1.0            24501.000             25303.00   \n",
       "649         3.00           1.0            19784.000             20486.00   \n",
       "658         2.60           1.0            19224.000             18357.00   \n",
       "696         3.96           1.0            15069.000             27671.00   \n",
       "722         2.00           1.0            14196.000             13389.00   \n",
       "725         2.00           1.0            13431.000             13998.00   \n",
       "727         2.98           1.0            20603.000             22522.00   \n",
       "787         3.00           1.0            22215.000             21370.00   \n",
       "809         3.30           1.0            15501.000             16665.00   \n",
       "881         4.76           1.0            27594.000             30015.00   \n",
       "\n",
       "     generation_gwh_2014_zscore  is_outlier  \n",
       "144                    3.365545        True  \n",
       "159                    3.395636        True  \n",
       "210                    3.771401        True  \n",
       "309                    4.523684        True  \n",
       "365                    6.151378        True  \n",
       "494                    9.650018        True  \n",
       "495                    8.288852        True  \n",
       "649                    6.518134        True  \n",
       "658                    6.307916        True  \n",
       "696                    4.748168        True  \n",
       "722                    4.420452        True  \n",
       "725                    4.133278        True  \n",
       "727                    6.825579        True  \n",
       "787                    7.430709        True  \n",
       "809                    4.910336        True  \n",
       "881                    9.449935        True  "
      ]
     },
     "execution_count": 33,
     "metadata": {},
     "output_type": "execute_result"
    }
   ],
   "source": [
    "data['generation_gwh_2014_zscore'] = zscore(data['generation_gwh_2014'])\n",
    "data['is_outlier'] = data['generation_gwh_2014_zscore'].apply(lambda x: x<=-3 or x>=3)\n",
    "data[data['is_outlier']]"
   ]
  },
  {
   "cell_type": "markdown",
   "id": "413d2124",
   "metadata": {},
   "source": [
    "There are more outliers"
   ]
  },
  {
   "cell_type": "code",
   "execution_count": 34,
   "id": "89741834",
   "metadata": {},
   "outputs": [
    {
     "data": {
      "text/html": [
       "<div>\n",
       "<style scoped>\n",
       "    .dataframe tbody tr th:only-of-type {\n",
       "        vertical-align: middle;\n",
       "    }\n",
       "\n",
       "    .dataframe tbody tr th {\n",
       "        vertical-align: top;\n",
       "    }\n",
       "\n",
       "    .dataframe thead th {\n",
       "        text-align: right;\n",
       "    }\n",
       "</style>\n",
       "<table border=\"1\" class=\"dataframe\">\n",
       "  <thead>\n",
       "    <tr style=\"text-align: right;\">\n",
       "      <th></th>\n",
       "      <th>capacity_mw</th>\n",
       "      <th>primary_fuel</th>\n",
       "      <th>generation_gwh_2014</th>\n",
       "      <th>generation_gwh_2016</th>\n",
       "      <th>generation_gwh_2014_zscore</th>\n",
       "      <th>is_outlier</th>\n",
       "      <th>generation_gwh_2016_zscore</th>\n",
       "    </tr>\n",
       "  </thead>\n",
       "  <tbody>\n",
       "    <tr>\n",
       "      <th>15</th>\n",
       "      <td>2.63</td>\n",
       "      <td>1.0</td>\n",
       "      <td>9670.879</td>\n",
       "      <td>13227.35235</td>\n",
       "      <td>2.721764</td>\n",
       "      <td>True</td>\n",
       "      <td>3.744482</td>\n",
       "    </tr>\n",
       "    <tr>\n",
       "      <th>144</th>\n",
       "      <td>2.92</td>\n",
       "      <td>1.0</td>\n",
       "      <td>11385.842</td>\n",
       "      <td>13675.44000</td>\n",
       "      <td>3.365545</td>\n",
       "      <td>True</td>\n",
       "      <td>3.900223</td>\n",
       "    </tr>\n",
       "    <tr>\n",
       "      <th>210</th>\n",
       "      <td>2.10</td>\n",
       "      <td>1.0</td>\n",
       "      <td>12467.000</td>\n",
       "      <td>12732.00000</td>\n",
       "      <td>3.771401</td>\n",
       "      <td>True</td>\n",
       "      <td>3.572314</td>\n",
       "    </tr>\n",
       "    <tr>\n",
       "      <th>309</th>\n",
       "      <td>2.34</td>\n",
       "      <td>1.0</td>\n",
       "      <td>14471.000</td>\n",
       "      <td>14834.80000</td>\n",
       "      <td>4.523684</td>\n",
       "      <td>True</td>\n",
       "      <td>4.303178</td>\n",
       "    </tr>\n",
       "    <tr>\n",
       "      <th>365</th>\n",
       "      <td>2.60</td>\n",
       "      <td>1.0</td>\n",
       "      <td>18807.000</td>\n",
       "      <td>19078.00000</td>\n",
       "      <td>6.151378</td>\n",
       "      <td>True</td>\n",
       "      <td>5.777973</td>\n",
       "    </tr>\n",
       "    <tr>\n",
       "      <th>494</th>\n",
       "      <td>4.62</td>\n",
       "      <td>1.0</td>\n",
       "      <td>28127.000</td>\n",
       "      <td>28078.00000</td>\n",
       "      <td>9.650018</td>\n",
       "      <td>True</td>\n",
       "      <td>8.906075</td>\n",
       "    </tr>\n",
       "    <tr>\n",
       "      <th>495</th>\n",
       "      <td>4.00</td>\n",
       "      <td>1.0</td>\n",
       "      <td>24501.000</td>\n",
       "      <td>25303.00000</td>\n",
       "      <td>8.288852</td>\n",
       "      <td>True</td>\n",
       "      <td>7.941577</td>\n",
       "    </tr>\n",
       "    <tr>\n",
       "      <th>649</th>\n",
       "      <td>3.00</td>\n",
       "      <td>1.0</td>\n",
       "      <td>19784.000</td>\n",
       "      <td>20486.00000</td>\n",
       "      <td>6.518134</td>\n",
       "      <td>True</td>\n",
       "      <td>6.267347</td>\n",
       "    </tr>\n",
       "    <tr>\n",
       "      <th>658</th>\n",
       "      <td>2.60</td>\n",
       "      <td>1.0</td>\n",
       "      <td>19224.000</td>\n",
       "      <td>18357.00000</td>\n",
       "      <td>6.307916</td>\n",
       "      <td>True</td>\n",
       "      <td>5.527378</td>\n",
       "    </tr>\n",
       "    <tr>\n",
       "      <th>696</th>\n",
       "      <td>3.96</td>\n",
       "      <td>1.0</td>\n",
       "      <td>15069.000</td>\n",
       "      <td>27671.00000</td>\n",
       "      <td>4.748168</td>\n",
       "      <td>True</td>\n",
       "      <td>8.764615</td>\n",
       "    </tr>\n",
       "    <tr>\n",
       "      <th>722</th>\n",
       "      <td>2.00</td>\n",
       "      <td>1.0</td>\n",
       "      <td>14196.000</td>\n",
       "      <td>13389.00000</td>\n",
       "      <td>4.420452</td>\n",
       "      <td>True</td>\n",
       "      <td>3.800666</td>\n",
       "    </tr>\n",
       "    <tr>\n",
       "      <th>725</th>\n",
       "      <td>2.00</td>\n",
       "      <td>1.0</td>\n",
       "      <td>13431.000</td>\n",
       "      <td>13998.00000</td>\n",
       "      <td>4.133278</td>\n",
       "      <td>True</td>\n",
       "      <td>4.012334</td>\n",
       "    </tr>\n",
       "    <tr>\n",
       "      <th>727</th>\n",
       "      <td>2.98</td>\n",
       "      <td>1.0</td>\n",
       "      <td>20603.000</td>\n",
       "      <td>22522.00000</td>\n",
       "      <td>6.825579</td>\n",
       "      <td>True</td>\n",
       "      <td>6.974994</td>\n",
       "    </tr>\n",
       "    <tr>\n",
       "      <th>787</th>\n",
       "      <td>3.00</td>\n",
       "      <td>1.0</td>\n",
       "      <td>22215.000</td>\n",
       "      <td>21370.00000</td>\n",
       "      <td>7.430709</td>\n",
       "      <td>True</td>\n",
       "      <td>6.574597</td>\n",
       "    </tr>\n",
       "    <tr>\n",
       "      <th>809</th>\n",
       "      <td>3.30</td>\n",
       "      <td>1.0</td>\n",
       "      <td>15501.000</td>\n",
       "      <td>16665.00000</td>\n",
       "      <td>4.910336</td>\n",
       "      <td>True</td>\n",
       "      <td>4.939295</td>\n",
       "    </tr>\n",
       "    <tr>\n",
       "      <th>881</th>\n",
       "      <td>4.76</td>\n",
       "      <td>1.0</td>\n",
       "      <td>27594.000</td>\n",
       "      <td>30015.00000</td>\n",
       "      <td>9.449935</td>\n",
       "      <td>True</td>\n",
       "      <td>9.579312</td>\n",
       "    </tr>\n",
       "  </tbody>\n",
       "</table>\n",
       "</div>"
      ],
      "text/plain": [
       "     capacity_mw  primary_fuel  generation_gwh_2014  generation_gwh_2016  \\\n",
       "15          2.63           1.0             9670.879          13227.35235   \n",
       "144         2.92           1.0            11385.842          13675.44000   \n",
       "210         2.10           1.0            12467.000          12732.00000   \n",
       "309         2.34           1.0            14471.000          14834.80000   \n",
       "365         2.60           1.0            18807.000          19078.00000   \n",
       "494         4.62           1.0            28127.000          28078.00000   \n",
       "495         4.00           1.0            24501.000          25303.00000   \n",
       "649         3.00           1.0            19784.000          20486.00000   \n",
       "658         2.60           1.0            19224.000          18357.00000   \n",
       "696         3.96           1.0            15069.000          27671.00000   \n",
       "722         2.00           1.0            14196.000          13389.00000   \n",
       "725         2.00           1.0            13431.000          13998.00000   \n",
       "727         2.98           1.0            20603.000          22522.00000   \n",
       "787         3.00           1.0            22215.000          21370.00000   \n",
       "809         3.30           1.0            15501.000          16665.00000   \n",
       "881         4.76           1.0            27594.000          30015.00000   \n",
       "\n",
       "     generation_gwh_2014_zscore  is_outlier  generation_gwh_2016_zscore  \n",
       "15                     2.721764        True                    3.744482  \n",
       "144                    3.365545        True                    3.900223  \n",
       "210                    3.771401        True                    3.572314  \n",
       "309                    4.523684        True                    4.303178  \n",
       "365                    6.151378        True                    5.777973  \n",
       "494                    9.650018        True                    8.906075  \n",
       "495                    8.288852        True                    7.941577  \n",
       "649                    6.518134        True                    6.267347  \n",
       "658                    6.307916        True                    5.527378  \n",
       "696                    4.748168        True                    8.764615  \n",
       "722                    4.420452        True                    3.800666  \n",
       "725                    4.133278        True                    4.012334  \n",
       "727                    6.825579        True                    6.974994  \n",
       "787                    7.430709        True                    6.574597  \n",
       "809                    4.910336        True                    4.939295  \n",
       "881                    9.449935        True                    9.579312  "
      ]
     },
     "execution_count": 34,
     "metadata": {},
     "output_type": "execute_result"
    }
   ],
   "source": [
    "data['generation_gwh_2016_zscore'] = zscore(data['generation_gwh_2016'])\n",
    "data['is_outlier'] = data['generation_gwh_2016_zscore'].apply(lambda x: x<=-3 or x>=3)\n",
    "data[data['is_outlier']]"
   ]
  },
  {
   "cell_type": "markdown",
   "id": "fbd28df6",
   "metadata": {},
   "source": [
    "There are more outliers.\n",
    "    - Since there are more outliers in both  generation_gwh_2014 and generation_gwh_2016, Check for skewness"
   ]
  },
  {
   "cell_type": "markdown",
   "id": "4651aaa0",
   "metadata": {},
   "source": [
    "## Checking skewness"
   ]
  },
  {
   "cell_type": "code",
   "execution_count": 35,
   "id": "1d1c3357",
   "metadata": {},
   "outputs": [
    {
     "data": {
      "text/plain": [
       "capacity_mw                   3.193257\n",
       "primary_fuel                  0.471141\n",
       "generation_gwh_2014           5.041961\n",
       "generation_gwh_2016           5.071758\n",
       "generation_gwh_2014_zscore    5.041961\n",
       "is_outlier                    7.344801\n",
       "generation_gwh_2016_zscore    5.071758\n",
       "dtype: float64"
      ]
     },
     "execution_count": 35,
     "metadata": {},
     "output_type": "execute_result"
    }
   ],
   "source": [
    "data.skew()"
   ]
  },
  {
   "cell_type": "markdown",
   "id": "8df0d85c",
   "metadata": {},
   "source": [
    "There is high level of skewness"
   ]
  },
  {
   "cell_type": "code",
   "execution_count": 36,
   "id": "c223e979",
   "metadata": {},
   "outputs": [
    {
     "data": {
      "text/plain": [
       "primary_fuel                  0.471141\n",
       "capacity_mw                   3.193257\n",
       "generation_gwh_2014           5.041961\n",
       "generation_gwh_2014_zscore    5.041961\n",
       "generation_gwh_2016           5.071758\n",
       "generation_gwh_2016_zscore    5.071758\n",
       "is_outlier                    7.344801\n",
       "dtype: float64"
      ]
     },
     "execution_count": 36,
     "metadata": {},
     "output_type": "execute_result"
    }
   ],
   "source": [
    "data.skew().sort_values()"
   ]
  },
  {
   "cell_type": "markdown",
   "id": "8e34f94a",
   "metadata": {},
   "source": [
    "There is high amount of skewness is present. So, treat it."
   ]
  },
  {
   "cell_type": "markdown",
   "id": "b529b191",
   "metadata": {},
   "source": [
    "## Treating the skewness"
   ]
  },
  {
   "cell_type": "code",
   "execution_count": 37,
   "id": "82dcf468",
   "metadata": {},
   "outputs": [],
   "source": [
    "q1 = data['generation_gwh_2014'].quantile (0.25)\n",
    "q3 = data['generation_gwh_2014'].quantile (0.75)\n",
    "iqr = q3 - q1"
   ]
  },
  {
   "cell_type": "code",
   "execution_count": 38,
   "id": "db27b5af",
   "metadata": {},
   "outputs": [],
   "source": [
    "lower_whisker = q1 - 1.5 * iqr\n",
    "upper_whisker = q3 + 1.5 * iqr\n",
    "data['generation_gwh_2014'] = np.where(data['generation_gwh_2014'] > upper_whisker, upper_whisker , np.where(data['generation_gwh_2014'] < lower_whisker, lower_whisker, data['generation_gwh_2014']))"
   ]
  },
  {
   "cell_type": "markdown",
   "id": "7afe1f37",
   "metadata": {},
   "source": [
    "Thus the skewness is treated for generation_gwh_2014"
   ]
  },
  {
   "cell_type": "code",
   "execution_count": 39,
   "id": "6aeb6a59",
   "metadata": {},
   "outputs": [],
   "source": [
    "q1 = data['capacity_mw'].quantile (0.25)\n",
    "q3 = data['capacity_mw'].quantile (0.75)\n",
    "iqr = q3 - q1"
   ]
  },
  {
   "cell_type": "code",
   "execution_count": 40,
   "id": "5480804e",
   "metadata": {},
   "outputs": [],
   "source": [
    "lower_whisker = q1 - 1.5 * iqr\n",
    "upper_whisker = q3 + 1.5 * iqr\n",
    "data['capacity_mw'] = np.where(data['capacity_mw'] > upper_whisker, upper_whisker , np.where(data['capacity_mw'] < lower_whisker, lower_whisker, data['capacity_mw']))"
   ]
  },
  {
   "cell_type": "markdown",
   "id": "559bef77",
   "metadata": {},
   "source": [
    "Thus the skewness is treated for capacity_mw"
   ]
  },
  {
   "cell_type": "code",
   "execution_count": 41,
   "id": "a049c3fb",
   "metadata": {},
   "outputs": [],
   "source": [
    "q1 = data['generation_gwh_2016'].quantile (0.25)\n",
    "q3 = data['generation_gwh_2016'].quantile (0.75)\n",
    "iqr = q3 - q1"
   ]
  },
  {
   "cell_type": "code",
   "execution_count": 42,
   "id": "02daab8d",
   "metadata": {},
   "outputs": [],
   "source": [
    "lower_whisker = q1 - 1.5 * iqr\n",
    "upper_whisker = q3 + 1.5 * iqr\n",
    "data['generation_gwh_2016'] = np.where(data['generation_gwh_2016'] > upper_whisker, upper_whisker , np.where(data['generation_gwh_2016'] < lower_whisker, lower_whisker, data['generation_gwh_2016']))"
   ]
  },
  {
   "cell_type": "markdown",
   "id": "1b45075b",
   "metadata": {},
   "source": [
    "Thus the skewness is treated for generation_gwh_2016"
   ]
  },
  {
   "cell_type": "markdown",
   "id": "cae7d831",
   "metadata": {},
   "source": [
    "# Model building for Capacity"
   ]
  },
  {
   "cell_type": "code",
   "execution_count": 43,
   "id": "dd82e116",
   "metadata": {},
   "outputs": [],
   "source": [
    "df = pd.DataFrame()\n",
    "df = data.copy()"
   ]
  },
  {
   "cell_type": "markdown",
   "id": "870f5b98",
   "metadata": {},
   "source": [
    "Copy the dataframe to another variable to find solution for fuel_type"
   ]
  },
  {
   "cell_type": "markdown",
   "id": "a22e55a6",
   "metadata": {},
   "source": [
    "## Model building"
   ]
  },
  {
   "cell_type": "code",
   "execution_count": 44,
   "id": "f3713639",
   "metadata": {},
   "outputs": [],
   "source": [
    "from sklearn.linear_model import LinearRegression\n",
    "from sklearn.metrics import r2_score\n",
    "from sklearn.model_selection import train_test_split\n",
    "from sklearn.metrics import mean_squared_error, mean_absolute_error"
   ]
  },
  {
   "cell_type": "markdown",
   "id": "650601f5",
   "metadata": {},
   "source": [
    "Importing necessary libraries needed"
   ]
  },
  {
   "cell_type": "code",
   "execution_count": 45,
   "id": "a120f2ae",
   "metadata": {},
   "outputs": [],
   "source": [
    "x = data.drop(columns = ['capacity_mw'])\n",
    "y = data['capacity_mw']"
   ]
  },
  {
   "cell_type": "markdown",
   "id": "72bf6f87",
   "metadata": {},
   "source": [
    "Data is split into target and variables"
   ]
  },
  {
   "cell_type": "markdown",
   "id": "7de37e5a",
   "metadata": {},
   "source": [
    "### Standardise the data"
   ]
  },
  {
   "cell_type": "code",
   "execution_count": 46,
   "id": "20613ca5",
   "metadata": {},
   "outputs": [],
   "source": [
    "from sklearn.preprocessing import StandardScaler"
   ]
  },
  {
   "cell_type": "code",
   "execution_count": 47,
   "id": "682ba002",
   "metadata": {},
   "outputs": [],
   "source": [
    "scaler = StandardScaler()\n",
    "x = scaler.fit_transform(x)"
   ]
  },
  {
   "cell_type": "markdown",
   "id": "17a1960e",
   "metadata": {},
   "source": [
    "Data is standardised"
   ]
  },
  {
   "cell_type": "code",
   "execution_count": 48,
   "id": "87dc9533",
   "metadata": {},
   "outputs": [],
   "source": [
    "regression = LinearRegression()"
   ]
  },
  {
   "cell_type": "markdown",
   "id": "ff683d61",
   "metadata": {},
   "source": [
    "Instantiate LinearRegression"
   ]
  },
  {
   "cell_type": "code",
   "execution_count": 49,
   "id": "3646a2e0",
   "metadata": {},
   "outputs": [
    {
     "name": "stdout",
     "output_type": "stream",
     "text": [
      "Best regression score is: 0.5378442755184886 on Random State 8\n"
     ]
    }
   ],
   "source": [
    "maxreg = 0 \n",
    "maxrs = 0\n",
    "for i in range(1,300):\n",
    "    x_train,x_test,y_train,y_test = train_test_split(x,y,test_size=.20, random_state = i)\n",
    "    LR = LinearRegression()\n",
    "    LR.fit(x_train,y_train)\n",
    "    acc = LR.score(x_test,y_test)\n",
    "    if acc>maxreg:\n",
    "        maxreg = acc\n",
    "        maxrs = i\n",
    "print('Best regression score is:',maxreg,'on Random State',maxrs)"
   ]
  },
  {
   "cell_type": "markdown",
   "id": "c74ce499",
   "metadata": {},
   "source": [
    "Best regression score is 0.53 at 8 random state"
   ]
  },
  {
   "cell_type": "code",
   "execution_count": 50,
   "id": "4f7dba07",
   "metadata": {},
   "outputs": [],
   "source": [
    "x_train,x_test,y_train,y_test = train_test_split (x,y,test_size=0.20,random_state=8)"
   ]
  },
  {
   "cell_type": "markdown",
   "id": "71819361",
   "metadata": {},
   "source": [
    "Check with all the models where we get good score"
   ]
  },
  {
   "cell_type": "markdown",
   "id": "fd22b3d4",
   "metadata": {},
   "source": [
    "## Linear Regression"
   ]
  },
  {
   "cell_type": "code",
   "execution_count": 51,
   "id": "e7bfb5e4",
   "metadata": {},
   "outputs": [
    {
     "name": "stdout",
     "output_type": "stream",
     "text": [
      "Regression Score: 0.5378442755184886\n",
      "Mean Absolute Error: 0.16432708342004337\n",
      "Mean Squared Error: 0.047867491976403186\n"
     ]
    }
   ],
   "source": [
    "LR = LinearRegression()\n",
    "LR.fit(x_train,y_train)\n",
    "lr = LR.score(x_test,y_test)\n",
    "print('Regression Score:',lr)\n",
    "\n",
    "y_pred = LR.predict(x_test)\n",
    "\n",
    "mae = mean_absolute_error(y_test,y_pred)\n",
    "print('Mean Absolute Error:',mae)\n",
    "\n",
    "mse = mean_squared_error(y_test,y_pred)\n",
    "print('Mean Squared Error:',mse)"
   ]
  },
  {
   "cell_type": "markdown",
   "id": "e3bd24d9",
   "metadata": {},
   "source": [
    "## Decision Tree Regressor"
   ]
  },
  {
   "cell_type": "code",
   "execution_count": 52,
   "id": "ffb48a3b",
   "metadata": {},
   "outputs": [
    {
     "name": "stdout",
     "output_type": "stream",
     "text": [
      "Regression Score: 0.847352237100129\n",
      "Mean Absolute Error: 0.06678758364595727\n",
      "Mean Squared Error: 0.015810397185976616\n"
     ]
    }
   ],
   "source": [
    "from sklearn.tree import DecisionTreeRegressor\n",
    "\n",
    "dt = DecisionTreeRegressor()\n",
    "dt.fit(x_train,y_train)\n",
    "dtt = dt.score(x_test,y_test)\n",
    "print('Regression Score:',dtt)\n",
    "\n",
    "y_pred = dt.predict(x_test)\n",
    "\n",
    "mae = mean_absolute_error(y_test,y_pred)\n",
    "print('Mean Absolute Error:',mae)\n",
    "\n",
    "mse = mean_squared_error(y_test,y_pred)\n",
    "print('Mean Squared Error:',mse)"
   ]
  },
  {
   "cell_type": "markdown",
   "id": "c0e1645c",
   "metadata": {},
   "source": [
    "## Random Forest Regressor"
   ]
  },
  {
   "cell_type": "code",
   "execution_count": 53,
   "id": "125fe95e",
   "metadata": {},
   "outputs": [
    {
     "name": "stdout",
     "output_type": "stream",
     "text": [
      "Regression Score: 0.9026124676464103\n",
      "Mean Absolute Error: 0.05759925605276112\n",
      "Mean Squared Error: 0.01008685314623567\n"
     ]
    }
   ],
   "source": [
    "from sklearn.ensemble import RandomForestRegressor\n",
    "\n",
    "rfr = RandomForestRegressor()\n",
    "rfr.fit(x_train,y_train)\n",
    "rfr_ = rfr.score(x_test,y_test)\n",
    "print('Regression Score:',rfr_)\n",
    "\n",
    "y_pred = rfr.predict(x_test)\n",
    "\n",
    "mae = mean_absolute_error(y_test,y_pred)\n",
    "print('Mean Absolute Error:',mae)\n",
    "\n",
    "mse = mean_squared_error(y_test,y_pred)\n",
    "print('Mean Squared Error:',mse)"
   ]
  },
  {
   "cell_type": "markdown",
   "id": "eeecc6e7",
   "metadata": {},
   "source": [
    "Random Forest Regressor is the best model for this dataset with Regression score is 89"
   ]
  },
  {
   "cell_type": "markdown",
   "id": "d1407cab",
   "metadata": {},
   "source": [
    "## Cross Validation"
   ]
  },
  {
   "cell_type": "code",
   "execution_count": 54,
   "id": "13602e86",
   "metadata": {},
   "outputs": [
    {
     "name": "stdout",
     "output_type": "stream",
     "text": [
      "LR cvs: 0.39028766213951005\n",
      "DT cvs: 0.7350360895005358\n",
      "RFR cvs: 0.8200496492578138\n"
     ]
    }
   ],
   "source": [
    "from sklearn.model_selection import cross_val_score\n",
    "\n",
    "sc = cross_val_score(LR,x,y,cv=5)\n",
    "print('LR cvs:',sc.mean())\n",
    "\n",
    "sc1 = cross_val_score(dt,x,y,cv=5)\n",
    "print('DT cvs:',sc1.mean())\n",
    "\n",
    "sc2 = cross_val_score(rfr,x,y,cv=5)\n",
    "print('RFR cvs:',sc2.mean())"
   ]
  },
  {
   "cell_type": "markdown",
   "id": "e233a7e2",
   "metadata": {},
   "source": [
    "The cross validation score hows that Random Forest Regrssor is neither underfitting nor overfitting the model. So, continue with hyper parameter tuning."
   ]
  },
  {
   "cell_type": "markdown",
   "id": "da91b86d",
   "metadata": {},
   "source": [
    "## Hyper parameter Tuning"
   ]
  },
  {
   "cell_type": "code",
   "execution_count": 55,
   "id": "9635aa0f",
   "metadata": {},
   "outputs": [],
   "source": [
    "from sklearn.model_selection import RandomizedSearchCV\n",
    "from sklearn.ensemble import AdaBoostRegressor\n",
    "from sklearn.tree import DecisionTreeRegressor\n",
    "dt = DecisionTreeRegressor()"
   ]
  },
  {
   "cell_type": "markdown",
   "id": "b3d27526",
   "metadata": {},
   "source": [
    "Import necessary libraries"
   ]
  },
  {
   "cell_type": "code",
   "execution_count": 56,
   "id": "eedfbfba",
   "metadata": {},
   "outputs": [
    {
     "name": "stdout",
     "output_type": "stream",
     "text": [
      "RandomizedSearchCV(cv=5, estimator=AdaBoostRegressor(), n_jobs=1,\n",
      "                   param_distributions={'learning_rate': [0.3, 0.4, 0.45],\n",
      "                                        'loss': ['exponential'],\n",
      "                                        'n_estimators': [40, 47, 49, 50],\n",
      "                                        'random_state': [8]})\n",
      "Best Estimator: AdaBoostRegressor(learning_rate=0.3, loss='exponential', n_estimators=40,\n",
      "                  random_state=8)\n"
     ]
    }
   ],
   "source": [
    "params = {'n_estimators': [40,47,49,50], 'learning_rate':[0.30,0.40,0.45],'loss' : ['exponential'],'random_state' : [8]} \n",
    "rnd_search = RandomizedSearchCV (AdaBoostRegressor(), cv = 5, param_distributions = params,n_iter = 10,n_jobs=1)\n",
    "print(rnd_search.fit(x_train,y_train))\n",
    "print('Best Estimator:', rnd_search.best_estimator_)"
   ]
  },
  {
   "cell_type": "markdown",
   "id": "08671506",
   "metadata": {},
   "source": [
    "Check the best estimator and imply it"
   ]
  },
  {
   "cell_type": "code",
   "execution_count": 57,
   "id": "e1f9eeda",
   "metadata": {},
   "outputs": [
    {
     "name": "stdout",
     "output_type": "stream",
     "text": [
      "Accuracy post tuning\n",
      "0.7881927785266805\n"
     ]
    }
   ],
   "source": [
    "from sklearn import metrics\n",
    "\n",
    "ada = AdaBoostRegressor(loss='exponential',learning_rate=0.3,n_estimators=47,random_state=8)\n",
    "ada.fit(x_train,y_train)\n",
    "y_pred = ada.predict(x_test)\n",
    "\n",
    "print('Accuracy post tuning')\n",
    "print(metrics.r2_score(y_test,y_pred))"
   ]
  },
  {
   "cell_type": "markdown",
   "id": "b27d7593",
   "metadata": {},
   "source": [
    "Accuracy post tuning the parameters is 0.78. Since this is low compared to Random Forest Regressor score, use the actual rfr and save the model"
   ]
  },
  {
   "cell_type": "markdown",
   "id": "8f3acd03",
   "metadata": {},
   "source": [
    "## Save the model"
   ]
  },
  {
   "cell_type": "code",
   "execution_count": 58,
   "id": "6ca13636",
   "metadata": {},
   "outputs": [
    {
     "data": {
      "text/plain": [
       "['Global_Power_Plant_Database_capacity.pkl']"
      ]
     },
     "execution_count": 58,
     "metadata": {},
     "output_type": "execute_result"
    }
   ],
   "source": [
    "import joblib\n",
    "joblib.dump(rfr,'Global_Power_Plant_Database_capacity.pkl')"
   ]
  },
  {
   "cell_type": "markdown",
   "id": "4890d8e4",
   "metadata": {},
   "source": [
    "Thus the model is saved for capacity_gw"
   ]
  },
  {
   "cell_type": "markdown",
   "id": "3ff25d07",
   "metadata": {},
   "source": [
    "# Model building for Primary fuel"
   ]
  },
  {
   "cell_type": "markdown",
   "id": "aa23b18b",
   "metadata": {},
   "source": [
    "## Model building"
   ]
  },
  {
   "cell_type": "code",
   "execution_count": 59,
   "id": "3096dfd0",
   "metadata": {},
   "outputs": [],
   "source": [
    "x = df.drop(columns = ['primary_fuel'])\n",
    "y = df['primary_fuel']"
   ]
  },
  {
   "cell_type": "markdown",
   "id": "a2ffff8b",
   "metadata": {},
   "source": [
    "Data is split into target and variables"
   ]
  },
  {
   "cell_type": "markdown",
   "id": "77c695ea",
   "metadata": {},
   "source": [
    "### Standardise the data"
   ]
  },
  {
   "cell_type": "code",
   "execution_count": 60,
   "id": "c10cd38d",
   "metadata": {},
   "outputs": [],
   "source": [
    "from sklearn.preprocessing import StandardScaler"
   ]
  },
  {
   "cell_type": "code",
   "execution_count": 61,
   "id": "2f284300",
   "metadata": {},
   "outputs": [],
   "source": [
    "scaler = StandardScaler()\n",
    "x = scaler.fit_transform(x)"
   ]
  },
  {
   "cell_type": "markdown",
   "id": "dbd8394b",
   "metadata": {},
   "source": [
    "Data is standardised"
   ]
  },
  {
   "cell_type": "markdown",
   "id": "31c659a8",
   "metadata": {},
   "source": [
    "## Treat the imbalanced data"
   ]
  },
  {
   "cell_type": "code",
   "execution_count": 62,
   "id": "dac7ce75",
   "metadata": {},
   "outputs": [
    {
     "name": "stdout",
     "output_type": "stream",
     "text": [
      "Training Outcome: \n",
      " 1.0    207\n",
      "3.0    198\n",
      "7.0    102\n",
      "6.0    102\n",
      "2.0     53\n",
      "0.0     40\n",
      "5.0     17\n",
      "4.0      7\n",
      "Name: primary_fuel, dtype: int64\n"
     ]
    }
   ],
   "source": [
    "from imblearn.over_sampling import SMOTE\n",
    "from collections import Counter\n",
    "\n",
    "x_train,x_test,y_train,y_test = train_test_split(x,y,test_size=.20, random_state = 40)\n",
    "print('Training Outcome: \\n',y_train.value_counts())"
   ]
  },
  {
   "cell_type": "code",
   "execution_count": 63,
   "id": "aae963b3",
   "metadata": {},
   "outputs": [
    {
     "name": "stdout",
     "output_type": "stream",
     "text": [
      "After fit Counter({7.0: 210, 0.0: 210, 5.0: 210, 1.0: 207, 3.0: 206, 6.0: 200, 4.0: 200, 2.0: 200})\n"
     ]
    }
   ],
   "source": [
    "ssm = SMOTE()\n",
    "ove_sam = SMOTE({1.0: 207, 3.0: 206, 6.0: 200, 7.0: 210, 2.0: 200, 0.0: 210, 5.0: 210, 4.0: 200})\n",
    "x_train_ns,y_train_ns = ove_sam.fit_resample(x_train,y_train)\n",
    "\n",
    "print ('After fit {}'.format (Counter(y_train_ns)))"
   ]
  },
  {
   "cell_type": "code",
   "execution_count": 64,
   "id": "be5ba436",
   "metadata": {},
   "outputs": [],
   "source": [
    "regression = LinearRegression()"
   ]
  },
  {
   "cell_type": "markdown",
   "id": "773efd10",
   "metadata": {},
   "source": [
    "Instantiate LinearRegression"
   ]
  },
  {
   "cell_type": "code",
   "execution_count": 65,
   "id": "c99a9d0e",
   "metadata": {},
   "outputs": [
    {
     "name": "stdout",
     "output_type": "stream",
     "text": [
      "Best regression score is: 0.3522966564376332 on Random State 264\n"
     ]
    }
   ],
   "source": [
    "maxreg = 0 \n",
    "maxrs = 0\n",
    "for i in range(1,300):\n",
    "    x_train_ns,x_test,y_train_ns,y_test = train_test_split(x,y,test_size=.20, random_state = i)\n",
    "    LR = LinearRegression()\n",
    "    LR.fit(x_train_ns,y_train_ns)\n",
    "    acc = LR.score(x_test,y_test)\n",
    "    if acc>maxreg:\n",
    "        maxreg = acc\n",
    "        maxrs = i\n",
    "print('Best regression score is:',maxreg,'on Random State',maxrs)"
   ]
  },
  {
   "cell_type": "markdown",
   "id": "92a89dfc",
   "metadata": {},
   "source": [
    "Best regression score is 0.352 at 264 random state"
   ]
  },
  {
   "cell_type": "code",
   "execution_count": 66,
   "id": "747e3eb4",
   "metadata": {},
   "outputs": [],
   "source": [
    "x_train_ns,x_test,y_train_ns,y_test = train_test_split (x,y,test_size=0.20,random_state=264)"
   ]
  },
  {
   "cell_type": "markdown",
   "id": "591e93d7",
   "metadata": {},
   "source": [
    "Check with all the models where we get good score"
   ]
  },
  {
   "cell_type": "markdown",
   "id": "2e998baa",
   "metadata": {},
   "source": [
    "## Linear Regression"
   ]
  },
  {
   "cell_type": "code",
   "execution_count": 67,
   "id": "4da45af4",
   "metadata": {},
   "outputs": [
    {
     "name": "stdout",
     "output_type": "stream",
     "text": [
      "Regression Score: 0.3522966564376332\n",
      "Mean Absolute Error: 1.3802920837529216\n",
      "Mean Squared Error: 3.108541952546194\n"
     ]
    }
   ],
   "source": [
    "LR = LinearRegression()\n",
    "LR.fit(x_train_ns,y_train_ns)\n",
    "lr = LR.score(x_test,y_test)\n",
    "print('Regression Score:',lr)\n",
    "\n",
    "y_pred = LR.predict(x_test)\n",
    "\n",
    "mae = mean_absolute_error(y_test,y_pred)\n",
    "print('Mean Absolute Error:',mae)\n",
    "\n",
    "mse = mean_squared_error(y_test,y_pred)\n",
    "print('Mean Squared Error:',mse)"
   ]
  },
  {
   "cell_type": "markdown",
   "id": "b648a10a",
   "metadata": {},
   "source": [
    "## Decision Tree Regressor"
   ]
  },
  {
   "cell_type": "code",
   "execution_count": 68,
   "id": "e5ccca6d",
   "metadata": {},
   "outputs": [
    {
     "name": "stdout",
     "output_type": "stream",
     "text": [
      "Regression Score: 0.3388449449677423\n",
      "Mean Absolute Error: 1.0775094653245914\n",
      "Mean Squared Error: 3.173101152144762\n"
     ]
    }
   ],
   "source": [
    "from sklearn.tree import DecisionTreeRegressor\n",
    "\n",
    "dt = DecisionTreeRegressor()\n",
    "dt.fit(x_train_ns,y_train_ns)\n",
    "dtt = dt.score(x_test,y_test)\n",
    "print('Regression Score:',dtt)\n",
    "\n",
    "y_pred = dt.predict(x_test)\n",
    "\n",
    "mae = mean_absolute_error(y_test,y_pred)\n",
    "print('Mean Absolute Error:',mae)\n",
    "\n",
    "mse = mean_squared_error(y_test,y_pred)\n",
    "print('Mean Squared Error:',mse)"
   ]
  },
  {
   "cell_type": "markdown",
   "id": "b2269756",
   "metadata": {},
   "source": [
    "## Random Forest Regressor"
   ]
  },
  {
   "cell_type": "code",
   "execution_count": 69,
   "id": "7c84febb",
   "metadata": {},
   "outputs": [
    {
     "name": "stdout",
     "output_type": "stream",
     "text": [
      "Regression Score: 0.394681098107467\n",
      "Mean Absolute Error: 1.122421053256519\n",
      "Mean Squared Error: 2.905125038961528\n"
     ]
    }
   ],
   "source": [
    "from sklearn.ensemble import RandomForestRegressor\n",
    "\n",
    "rfr = RandomForestRegressor()\n",
    "rfr.fit(x_train_ns,y_train_ns)\n",
    "rfr_ = rfr.score(x_test,y_test)\n",
    "print('Regression Score:',rfr_)\n",
    "\n",
    "y_pred = rfr.predict(x_test)\n",
    "\n",
    "mae = mean_absolute_error(y_test,y_pred)\n",
    "print('Mean Absolute Error:',mae)\n",
    "\n",
    "mse = mean_squared_error(y_test,y_pred)\n",
    "print('Mean Squared Error:',mse)"
   ]
  },
  {
   "cell_type": "markdown",
   "id": "15121b69",
   "metadata": {},
   "source": [
    "Random Forest Regressor is the best model for this dataset with Regression score 39"
   ]
  },
  {
   "cell_type": "markdown",
   "id": "4327b512",
   "metadata": {},
   "source": [
    "## Cross Validation"
   ]
  },
  {
   "cell_type": "code",
   "execution_count": 70,
   "id": "c55fc20c",
   "metadata": {},
   "outputs": [
    {
     "name": "stdout",
     "output_type": "stream",
     "text": [
      "LR cvs: 0.223556635062698\n",
      "DT cvs: 0.08651841916998868\n",
      "RFR cvs: 0.21634679694221007\n"
     ]
    }
   ],
   "source": [
    "from sklearn.model_selection import cross_val_score\n",
    "\n",
    "sc = cross_val_score(LR,x,y,cv=5)\n",
    "print('LR cvs:',sc.mean())\n",
    "\n",
    "sc1 = cross_val_score(dt,x,y,cv=5)\n",
    "print('DT cvs:',sc1.mean())\n",
    "\n",
    "sc2 = cross_val_score(rfr,x,y,cv=5)\n",
    "print('RFR cvs:',sc2.mean())"
   ]
  },
  {
   "cell_type": "markdown",
   "id": "e625ebe7",
   "metadata": {},
   "source": [
    "The cross validation score shows that Linear Regression model is good with minimum difference. But, check by regularisation technique"
   ]
  },
  {
   "cell_type": "markdown",
   "id": "9cac140b",
   "metadata": {},
   "source": [
    "## Regularisation"
   ]
  },
  {
   "cell_type": "code",
   "execution_count": 71,
   "id": "1ba532ec",
   "metadata": {},
   "outputs": [],
   "source": [
    "from sklearn.model_selection import GridSearchCV\n",
    "from sklearn.linear_model import Lasso"
   ]
  },
  {
   "cell_type": "code",
   "execution_count": 72,
   "id": "15d7f32b",
   "metadata": {},
   "outputs": [
    {
     "data": {
      "text/plain": [
       "{'alpha': 0.01, 'max_iter': 10000, 'normalize': False, 'random_state': 0}"
      ]
     },
     "execution_count": 72,
     "metadata": {},
     "output_type": "execute_result"
    }
   ],
   "source": [
    "parameters = {'alpha':[.0001,.001,.01,.1,1,10],'random_state': list(range(0,100)),'max_iter':[10000],'normalize':[False]}\n",
    "ls = Lasso()\n",
    "clf = GridSearchCV(ls,parameters)\n",
    "clf.fit(x_train,y_train)\n",
    "\n",
    "clf.best_params_"
   ]
  },
  {
   "cell_type": "code",
   "execution_count": 73,
   "id": "81d8698c",
   "metadata": {},
   "outputs": [
    {
     "name": "stdout",
     "output_type": "stream",
     "text": [
      "0.3583435161553745\n",
      "0.22407819700132162\n"
     ]
    }
   ],
   "source": [
    "ls = Lasso(alpha=0.01,random_state=0,max_iter = 10000, normalize= False)\n",
    "ls.fit(x_train,y_train)\n",
    "ls.score(x_train,y_train)\n",
    "pred_ls = ls.predict(x_test)\n",
    "\n",
    "lss=r2_score(y_test,pred_ls)\n",
    "print(lss)\n",
    "\n",
    "cv_score = cross_val_score(ls,x,y,cv=5)\n",
    "cv_mean = cv_score.mean()\n",
    "print(cv_mean)"
   ]
  },
  {
   "cell_type": "markdown",
   "id": "a2c303a8",
   "metadata": {},
   "source": [
    "The Lasso score is 0.35 and the CV score is 0.22 which is of the same as Linear Regression model. So, it is confirmed that the model is performing good."
   ]
  },
  {
   "cell_type": "markdown",
   "id": "fe20c9f9",
   "metadata": {},
   "source": [
    "## Hyper parameter Tuning"
   ]
  },
  {
   "cell_type": "code",
   "execution_count": 74,
   "id": "aefdc9cf",
   "metadata": {},
   "outputs": [],
   "source": [
    "from sklearn.model_selection import RandomizedSearchCV\n",
    "from sklearn.ensemble import AdaBoostRegressor\n",
    "from sklearn.tree import DecisionTreeRegressor\n",
    "dt = DecisionTreeRegressor()"
   ]
  },
  {
   "cell_type": "markdown",
   "id": "df2b816d",
   "metadata": {},
   "source": [
    "Import necessary libraries"
   ]
  },
  {
   "cell_type": "code",
   "execution_count": 75,
   "id": "d7478cca",
   "metadata": {},
   "outputs": [
    {
     "name": "stdout",
     "output_type": "stream",
     "text": [
      "RandomizedSearchCV(cv=5, estimator=AdaBoostRegressor(), n_jobs=1,\n",
      "                   param_distributions={'learning_rate': [0.3, 0.4, 0.45],\n",
      "                                        'loss': ['exponential'],\n",
      "                                        'n_estimators': [40, 47, 49, 50],\n",
      "                                        'random_state': [0]})\n",
      "Best Estimator: AdaBoostRegressor(learning_rate=0.3, loss='exponential', n_estimators=40,\n",
      "                  random_state=0)\n"
     ]
    }
   ],
   "source": [
    "params = {'n_estimators': [40,47,49,50], 'learning_rate':[0.30,0.40,0.45],'loss' : ['exponential'],'random_state' : [0]} \n",
    "rnd_search = RandomizedSearchCV (AdaBoostRegressor(), cv = 5, param_distributions = params,n_iter = 10,n_jobs=1)\n",
    "print(rnd_search.fit(x_train_ns,y_train_ns))\n",
    "print('Best Estimator:', rnd_search.best_estimator_)"
   ]
  },
  {
   "cell_type": "markdown",
   "id": "568c8cba",
   "metadata": {},
   "source": [
    "Check the best estimator and imply it"
   ]
  },
  {
   "cell_type": "code",
   "execution_count": 76,
   "id": "793f0c3c",
   "metadata": {},
   "outputs": [
    {
     "name": "stdout",
     "output_type": "stream",
     "text": [
      "Accuracy post tuning\n",
      "0.41333855554687593\n"
     ]
    }
   ],
   "source": [
    "from sklearn import metrics\n",
    "\n",
    "ada = AdaBoostRegressor(loss='exponential',learning_rate=0.3,n_estimators=40,random_state=0)\n",
    "ada.fit(x_train_ns,y_train_ns)\n",
    "y_pred = ada.predict(x_test)\n",
    "\n",
    "print('Accuracy post tuning')\n",
    "print(metrics.r2_score(y_test,y_pred))"
   ]
  },
  {
   "cell_type": "markdown",
   "id": "62bbb8ef",
   "metadata": {},
   "source": [
    "Accuracy post tuning the parameters is 0.41. Since this is high compared to Linear Regression score, use this ada.fit to save the model"
   ]
  },
  {
   "cell_type": "markdown",
   "id": "5eb986e5",
   "metadata": {},
   "source": [
    "## Save the model"
   ]
  },
  {
   "cell_type": "code",
   "execution_count": 77,
   "id": "ebcc236c",
   "metadata": {},
   "outputs": [
    {
     "data": {
      "text/plain": [
       "['Global_Power_Plant_Database_fuel.pkl']"
      ]
     },
     "execution_count": 77,
     "metadata": {},
     "output_type": "execute_result"
    }
   ],
   "source": [
    "import joblib\n",
    "joblib.dump(ada,'Global_Power_Plant_Database_fuel.pkl')"
   ]
  },
  {
   "cell_type": "markdown",
   "id": "7c1b18d0",
   "metadata": {},
   "source": [
    "Thus the model is saved for primary_fuel"
   ]
  }
 ],
 "metadata": {
  "kernelspec": {
   "display_name": "Python 3",
   "language": "python",
   "name": "python3"
  },
  "language_info": {
   "codemirror_mode": {
    "name": "ipython",
    "version": 3
   },
   "file_extension": ".py",
   "mimetype": "text/x-python",
   "name": "python",
   "nbconvert_exporter": "python",
   "pygments_lexer": "ipython3",
   "version": "3.8.8"
  }
 },
 "nbformat": 4,
 "nbformat_minor": 5
}
